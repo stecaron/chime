{
 "cells": [
  {
   "cell_type": "markdown",
   "metadata": {},
   "source": [
    "# COVID-19 QC\n",
    "\n",
    "Dans ce document, nous voulons utiliser le modèle [SIR](https://code-for-philly.gitbook.io/chime/what-is-chime/sir-modeling) développé par *Peen Medecine* et l'appliquer à la réalité du Québec."
   ]
  },
  {
   "cell_type": "code",
   "execution_count": 2,
   "metadata": {},
   "outputs": [],
   "source": [
    "import os\n",
    "import altair as alt\n",
    "import streamlit as st\n",
    "from datetime import date\n",
    "import pandas as pd\n",
    "\n",
    "#os.chdir(\"../../..\")\n",
    "from src.penn_chime.charts import (\n",
    "    build_admits_chart,\n",
    "    build_census_chart,\n",
    "    build_census_chart_with_real,\n",
    "    build_descriptions,\n",
    "    build_sim_sir_w_date_chart,\n",
    "    build_table,\n",
    ")\n",
    "from src.penn_chime.constants import DATE_FORMAT\n",
    "from src.penn_chime.parameters import Parameters\n",
    "from src.penn_chime.parameters import Parameters, Regions, Disposition\n",
    "\n",
    "from src.penn_chime.models import SimSirModel\n",
    "from src.penn_chime.settings import get_defaults\n",
    "from src.penn_chime.presentation import (\n",
    "    display_download_link,\n",
    "    display_header,\n",
    "    display_sidebar,\n",
    "    hide_menu_style,\n",
    "    write_definitions,\n",
    "    write_footer,\n",
    ")"
   ]
  },
  {
   "cell_type": "markdown",
   "metadata": {},
   "source": [
    "Dans la prochaine cellule, on peut voir certains des paramètres du modèle SIR, mais selon les données du Québec. Certains paramètres comme la population, la couverture du système de santé ou la date du premier cas hospitalisé selon relativement trivials et ne demandent pas vraiment d'analyse plus poussée.\n",
    "\n",
    "Par contre, d'autres paramètres peuvent être estimés à partir des données du Québec ou bien déduite de manière plus approfondie. Voici quelques informations supplémentaires par rapport aux autres paramètres du modèle et comment nous les avons adaptés à la situatio du Québec :\n",
    "\n",
    "- `QC_NB_JOURS_HOSPITALISATION`: nombre de jours en moyenne d'hospitalisation\n",
    "- `QC_NB_JOURS_SI`: nombre de jours passé en moyenne aux soins intensifs\n",
    "- `QC_POURC_HOSPITALISATION`: pourcentage des cas infectés (total et non rapportés) qui sont hospitalisés. Pour le moment nous l'avons estimé à partir du % moyen observé au Québec. Voir le fichier (`../../data_qc_ratios.csv`).\n",
    "- `QC_POURC_SI`: pourcentage des cas infectés (total et non rapportés) qui iront aux soins intensifs. Pour le moment nous l'avons estimé à partir du % moyen observé au Québec. Voir le fichier (`../../data_qc_ratios.csv`).\n",
    "- `QC_DISTANT_SOCIAL`: facteur de ralentissement de la propagation du virus en réponse aux mesures mises en place et appliquées par la population (0%: aucune mesures appliquées et les contacts dans la population sont similaires à l'habitude)\n"
   ]
  },
  {
   "cell_type": "code",
   "execution_count": 3,
   "metadata": {},
   "outputs": [],
   "source": [
    "# Parametres propres au Quebec\n",
    "\n",
    "QC_POPULATION = 8500000\n",
    "QC_MARKET_SHARE = 1 # Couverture du systeme de santé\n",
    "\n",
    "QC_DATE_PREMIER_HOSP = date(2020,3,15)\n",
    "QC_NB_HOSPITALISES_COURANT = 478\n",
    "\n",
    "QC_NB_JOURS_HOSPITALISATION = 10\n",
    "QC_NB_JOURS_SI = 12\n",
    "\n",
    "QC_POURC_HOSPITALISATION = 0.08\n",
    "QC_POURC_SI = 0.02\n",
    "QC_POURC_VENTILATEUR = QC_POURC_SI\n",
    "\n",
    "QC_DISTANT_SOCIAL = 0.2"
   ]
  },
  {
   "cell_type": "code",
   "execution_count": 5,
   "metadata": {},
   "outputs": [],
   "source": [
    "# Change the default settings\n",
    "params = Parameters(\n",
    "        population=QC_POPULATION,\n",
    "        current_hospitalized=QC_NB_HOSPITALISES_COURANT,\n",
    "        date_first_hospitalized=QC_DATE_PREMIER_HOSP,\n",
    "        doubling_time=4.0,\n",
    "        hospitalized=Disposition(QC_POURC_HOSPITALISATION, QC_NB_JOURS_HOSPITALISATION),\n",
    "        icu=Disposition(QC_POURC_SI, QC_NB_JOURS_SI),\n",
    "        infectious_days=14,\n",
    "        market_share=QC_MARKET_SHARE,\n",
    "        n_days=200,\n",
    "        mitigation_date=date.today(),\n",
    "        relative_contact_rate=QC_DISTANT_SOCIAL,\n",
    "        ventilated=Disposition(QC_POURC_VENTILATEUR, QC_NB_JOURS_SI),\n",
    "    )"
   ]
  },
  {
   "cell_type": "markdown",
   "metadata": {},
   "source": [
    "## Modèle SIR"
   ]
  },
  {
   "cell_type": "code",
   "execution_count": 6,
   "metadata": {},
   "outputs": [
    {
     "name": "stderr",
     "output_type": "stream",
     "text": [
      "Using doubling_time: 4.0\n",
      "Set i_day = 35\n",
      "Estimated date_first_hospitalized: 2020-03-01; current_date: 2020-04-05; i_day: 35\n",
      "len(np.arange(-i_day, n_days+1)): 236\n",
      "len(raw_df): 236\n"
     ]
    }
   ],
   "source": [
    "# Run the Penn Med SIR model\n",
    "p = display_sidebar(st, params)\n",
    "m = SimSirModel(p)"
   ]
  },
  {
   "cell_type": "markdown",
   "metadata": {},
   "source": [
    "### Situation passée\n",
    "\n",
    "Le graphique ci-dessous montre les cas hospitalisés et aux SI réels versus les prédictions du modèle."
   ]
  },
  {
   "cell_type": "code",
   "execution_count": 14,
   "metadata": {},
   "outputs": [],
   "source": [
    "import datetime\n",
    "DATES = ['Date']\n",
    "COLS_MERGE = ['Date', 'hosp_reel', 'icu_reel']\n",
    "qc_reels = pd.read_csv('analyses/data/qc_hosp_icu.csv', parse_dates=DATES)\n",
    "qc_reels.rename(columns={'hosp':'hosp_reel',\n",
    "                         'icu':'icu_reel'},\n",
    "                 inplace=True)\n",
    "\n",
    "df_with_real = m.census_floor_df.merge(qc_reels[COLS_MERGE], left_on='date', right_on='Date', how=\"left\").drop(columns=['Date'])\n",
    "df_with_real = df_with_real.astype({'hosp_reel':'float64', 'icu_reel': 'float64'})"
   ]
  },
  {
   "cell_type": "code",
   "execution_count": 15,
   "metadata": {
    "scrolled": false
   },
   "outputs": [
    {
     "data": {
      "text/html": [
       "\n",
       "<div id=\"altair-viz-cd76fb0744384eadbd5f09db042d95ed\"></div>\n",
       "<script type=\"text/javascript\">\n",
       "  (function(spec, embedOpt){\n",
       "    let outputDiv = document.currentScript.previousElementSibling;\n",
       "    if (outputDiv.id !== \"altair-viz-cd76fb0744384eadbd5f09db042d95ed\") {\n",
       "      outputDiv = document.getElementById(\"altair-viz-cd76fb0744384eadbd5f09db042d95ed\");\n",
       "    }\n",
       "    const paths = {\n",
       "      \"vega\": \"https://cdn.jsdelivr.net/npm//vega@5?noext\",\n",
       "      \"vega-lib\": \"https://cdn.jsdelivr.net/npm//vega-lib?noext\",\n",
       "      \"vega-lite\": \"https://cdn.jsdelivr.net/npm//vega-lite@4.8.1?noext\",\n",
       "      \"vega-embed\": \"https://cdn.jsdelivr.net/npm//vega-embed@6?noext\",\n",
       "    };\n",
       "\n",
       "    function loadScript(lib) {\n",
       "      return new Promise(function(resolve, reject) {\n",
       "        var s = document.createElement('script');\n",
       "        s.src = paths[lib];\n",
       "        s.async = true;\n",
       "        s.onload = () => resolve(paths[lib]);\n",
       "        s.onerror = () => reject(`Error loading script: ${paths[lib]}`);\n",
       "        document.getElementsByTagName(\"head\")[0].appendChild(s);\n",
       "      });\n",
       "    }\n",
       "\n",
       "    function showError(err) {\n",
       "      outputDiv.innerHTML = `<div class=\"error\" style=\"color:red;\">${err}</div>`;\n",
       "      throw err;\n",
       "    }\n",
       "\n",
       "    function displayChart(vegaEmbed) {\n",
       "      vegaEmbed(outputDiv, spec, embedOpt)\n",
       "        .catch(err => showError(`Javascript Error: ${err.message}<br>This usually means there's a typo in your chart specification. See the javascript console for the full traceback.`));\n",
       "    }\n",
       "\n",
       "    if(typeof define === \"function\" && define.amd) {\n",
       "      requirejs.config({paths});\n",
       "      require([\"vega-embed\"], displayChart, err => showError(`Error loading script: ${err.message}`));\n",
       "    } else if (typeof vegaEmbed === \"function\") {\n",
       "      displayChart(vegaEmbed);\n",
       "    } else {\n",
       "      loadScript(\"vega\")\n",
       "        .then(() => loadScript(\"vega-lite\"))\n",
       "        .then(() => loadScript(\"vega-embed\"))\n",
       "        .catch(showError)\n",
       "        .then(() => displayChart(vegaEmbed));\n",
       "    }\n",
       "  })({\"config\": {\"view\": {\"continuousWidth\": 400, \"continuousHeight\": 300}, \"legend\": {\"orient\": \"bottom\"}}, \"layer\": [{\"mark\": {\"type\": \"line\", \"point\": true}, \"encoding\": {\"color\": {\"type\": \"nominal\", \"field\": \"key\"}, \"tooltip\": [{\"type\": \"temporal\", \"field\": \"date\"}, {\"type\": \"quantitative\", \"field\": \"value\", \"format\": \".0f\", \"title\": \"Census\"}, {\"type\": \"nominal\", \"field\": \"key\"}], \"x\": {\"type\": \"temporal\", \"axis\": {\"format\": \"%b, %d\"}, \"field\": \"date\", \"title\": \"Date\"}, \"y\": {\"type\": \"quantitative\", \"field\": \"value\", \"scale\": {}, \"title\": \"Census\"}}, \"selection\": {\"selector005\": {\"type\": \"interval\", \"bind\": \"scales\", \"encodings\": [\"x\", \"y\"]}}, \"transform\": [{\"fold\": [\"hospitalized\", \"icu\", \"hosp_reel\", \"icu_reel\"]}]}, {\"mark\": {\"type\": \"rule\", \"color\": \"black\", \"opacity\": 0.35, \"size\": 2}, \"encoding\": {\"x\": {\"type\": \"temporal\", \"axis\": {\"format\": \"%b, %d\"}, \"field\": \"date\", \"title\": \"Date\"}}, \"transform\": [{\"filter\": \"(datum.day === 0)\"}]}], \"data\": {\"name\": \"data-8e65841109dda9887b10d63568eed533\"}, \"$schema\": \"https://vega.github.io/schema/vega-lite/v4.8.1.json\", \"datasets\": {\"data-8e65841109dda9887b10d63568eed533\": [{\"day\": -35, \"date\": \"2020-03-01T00:00:00\", \"hospitalized\": null, \"icu\": null, \"ventilated\": null, \"hosp_reel\": null, \"icu_reel\": null}, {\"day\": -34, \"date\": \"2020-03-02T00:00:00\", \"hospitalized\": 0.0, \"icu\": 0.0, \"ventilated\": 0.0, \"hosp_reel\": null, \"icu_reel\": null}, {\"day\": -33, \"date\": \"2020-03-03T00:00:00\", \"hospitalized\": 0.0, \"icu\": 0.0, \"ventilated\": 0.0, \"hosp_reel\": null, \"icu_reel\": null}, {\"day\": -32, \"date\": \"2020-03-04T00:00:00\", \"hospitalized\": 0.0, \"icu\": 0.0, \"ventilated\": 0.0, \"hosp_reel\": null, \"icu_reel\": null}, {\"day\": -31, \"date\": \"2020-03-05T00:00:00\", \"hospitalized\": 1.0, \"icu\": 0.0, \"ventilated\": 0.0, \"hosp_reel\": null, \"icu_reel\": null}, {\"day\": -30, \"date\": \"2020-03-06T00:00:00\", \"hospitalized\": 1.0, \"icu\": 0.0, \"ventilated\": 0.0, \"hosp_reel\": null, \"icu_reel\": null}, {\"day\": -29, \"date\": \"2020-03-07T00:00:00\", \"hospitalized\": 2.0, \"icu\": 0.0, \"ventilated\": 0.0, \"hosp_reel\": null, \"icu_reel\": null}, {\"day\": -28, \"date\": \"2020-03-08T00:00:00\", \"hospitalized\": 3.0, \"icu\": 0.0, \"ventilated\": 0.0, \"hosp_reel\": null, \"icu_reel\": null}, {\"day\": -27, \"date\": \"2020-03-09T00:00:00\", \"hospitalized\": 4.0, \"icu\": 1.0, \"ventilated\": 1.0, \"hosp_reel\": null, \"icu_reel\": null}, {\"day\": -26, \"date\": \"2020-03-10T00:00:00\", \"hospitalized\": 5.0, \"icu\": 1.0, \"ventilated\": 1.0, \"hosp_reel\": null, \"icu_reel\": null}, {\"day\": -25, \"date\": \"2020-03-11T00:00:00\", \"hospitalized\": 6.0, \"icu\": 1.0, \"ventilated\": 1.0, \"hosp_reel\": null, \"icu_reel\": null}, {\"day\": -24, \"date\": \"2020-03-12T00:00:00\", \"hospitalized\": 7.0, \"icu\": 1.0, \"ventilated\": 1.0, \"hosp_reel\": null, \"icu_reel\": null}, {\"day\": -23, \"date\": \"2020-03-13T00:00:00\", \"hospitalized\": 9.0, \"icu\": 2.0, \"ventilated\": 2.0, \"hosp_reel\": null, \"icu_reel\": null}, {\"day\": -22, \"date\": \"2020-03-14T00:00:00\", \"hospitalized\": 10.0, \"icu\": 2.0, \"ventilated\": 2.0, \"hosp_reel\": null, \"icu_reel\": null}, {\"day\": -21, \"date\": \"2020-03-15T00:00:00\", \"hospitalized\": 12.0, \"icu\": 3.0, \"ventilated\": 3.0, \"hosp_reel\": 2.0, \"icu_reel\": 0.0}, {\"day\": -20, \"date\": \"2020-03-16T00:00:00\", \"hospitalized\": 15.0, \"icu\": 4.0, \"ventilated\": 4.0, \"hosp_reel\": 5.0, \"icu_reel\": 0.0}, {\"day\": -19, \"date\": \"2020-03-17T00:00:00\", \"hospitalized\": 18.0, \"icu\": 4.0, \"ventilated\": 4.0, \"hosp_reel\": 6.0, \"icu_reel\": 4.0}, {\"day\": -18, \"date\": \"2020-03-18T00:00:00\", \"hospitalized\": 21.0, \"icu\": 5.0, \"ventilated\": 5.0, \"hosp_reel\": 7.0, \"icu_reel\": 4.0}, {\"day\": -17, \"date\": \"2020-03-19T00:00:00\", \"hospitalized\": 25.0, \"icu\": 6.0, \"ventilated\": 6.0, \"hosp_reel\": 10.0, \"icu_reel\": 6.0}, {\"day\": -16, \"date\": \"2020-03-20T00:00:00\", \"hospitalized\": 30.0, \"icu\": 8.0, \"ventilated\": 8.0, \"hosp_reel\": 19.0, \"icu_reel\": 10.0}, {\"day\": -15, \"date\": \"2020-03-21T00:00:00\", \"hospitalized\": 36.0, \"icu\": 9.0, \"ventilated\": 9.0, \"hosp_reel\": 24.0, \"icu_reel\": 13.0}, {\"day\": -14, \"date\": \"2020-03-22T00:00:00\", \"hospitalized\": 43.0, \"icu\": 11.0, \"ventilated\": 11.0, \"hosp_reel\": 45.0, \"icu_reel\": 20.0}, {\"day\": -13, \"date\": \"2020-03-23T00:00:00\", \"hospitalized\": 51.0, \"icu\": 13.0, \"ventilated\": 13.0, \"hosp_reel\": 67.0, \"icu_reel\": 31.0}, {\"day\": -12, \"date\": \"2020-03-24T00:00:00\", \"hospitalized\": 61.0, \"icu\": 16.0, \"ventilated\": 16.0, \"hosp_reel\": 78.0, \"icu_reel\": 35.0}, {\"day\": -11, \"date\": \"2020-03-25T00:00:00\", \"hospitalized\": 72.0, \"icu\": 19.0, \"ventilated\": 19.0, \"hosp_reel\": 106.0, \"icu_reel\": 43.0}, {\"day\": -10, \"date\": \"2020-03-26T00:00:00\", \"hospitalized\": 86.0, \"icu\": 22.0, \"ventilated\": 22.0, \"hosp_reel\": 141.0, \"icu_reel\": 50.0}, {\"day\": -9, \"date\": \"2020-03-27T00:00:00\", \"hospitalized\": 102.0, \"icu\": 27.0, \"ventilated\": 27.0, \"hosp_reel\": 164.0, \"icu_reel\": 57.0}, {\"day\": -8, \"date\": \"2020-03-28T00:00:00\", \"hospitalized\": 122.0, \"icu\": 32.0, \"ventilated\": 32.0, \"hosp_reel\": 192.0, \"icu_reel\": 72.0}, {\"day\": -7, \"date\": \"2020-03-29T00:00:00\", \"hospitalized\": 145.0, \"icu\": 38.0, \"ventilated\": 38.0, \"hosp_reel\": 235.0, \"icu_reel\": 78.0}, {\"day\": -6, \"date\": \"2020-03-30T00:00:00\", \"hospitalized\": 172.0, \"icu\": 45.0, \"ventilated\": 45.0, \"hosp_reel\": 286.0, \"icu_reel\": 82.0}, {\"day\": -5, \"date\": \"2020-03-31T00:00:00\", \"hospitalized\": 205.0, \"icu\": 54.0, \"ventilated\": 54.0, \"hosp_reel\": 307.0, \"icu_reel\": 82.0}, {\"day\": -4, \"date\": \"2020-04-01T00:00:00\", \"hospitalized\": 243.0, \"icu\": 64.0, \"ventilated\": 64.0, \"hosp_reel\": 365.0, \"icu_reel\": 96.0}, {\"day\": -3, \"date\": \"2020-04-02T00:00:00\", \"hospitalized\": 290.0, \"icu\": 77.0, \"ventilated\": 77.0, \"hosp_reel\": 441.0, \"icu_reel\": 107.0}, {\"day\": -2, \"date\": \"2020-04-03T00:00:00\", \"hospitalized\": 344.0, \"icu\": 91.0, \"ventilated\": 91.0, \"hosp_reel\": 478.0, \"icu_reel\": 130.0}, {\"day\": -1, \"date\": \"2020-04-04T00:00:00\", \"hospitalized\": 410.0, \"icu\": 109.0, \"ventilated\": 109.0, \"hosp_reel\": null, \"icu_reel\": null}, {\"day\": 0, \"date\": \"2020-04-05T00:00:00\", \"hospitalized\": 487.0, \"icu\": 129.0, \"ventilated\": 129.0, \"hosp_reel\": null, \"icu_reel\": null}, {\"day\": 1, \"date\": \"2020-04-06T00:00:00\", \"hospitalized\": 557.0, \"icu\": 148.0, \"ventilated\": 148.0, \"hosp_reel\": null, \"icu_reel\": null}, {\"day\": 2, \"date\": \"2020-04-07T00:00:00\", \"hospitalized\": 635.0, \"icu\": 169.0, \"ventilated\": 169.0, \"hosp_reel\": null, \"icu_reel\": null}, {\"day\": 3, \"date\": \"2020-04-08T00:00:00\", \"hospitalized\": 723.0, \"icu\": 193.0, \"ventilated\": 193.0, \"hosp_reel\": null, \"icu_reel\": null}, {\"day\": 4, \"date\": \"2020-04-09T00:00:00\", \"hospitalized\": 821.0, \"icu\": 220.0, \"ventilated\": 220.0, \"hosp_reel\": null, \"icu_reel\": null}, {\"day\": 5, \"date\": \"2020-04-10T00:00:00\", \"hospitalized\": 931.0, \"icu\": 251.0, \"ventilated\": 251.0, \"hosp_reel\": null, \"icu_reel\": null}]}}, {\"mode\": \"vega-lite\"});\n",
       "</script>"
      ],
      "text/plain": [
       "alt.LayerChart(...)"
      ]
     },
     "execution_count": 15,
     "metadata": {},
     "output_type": "execute_result"
    }
   ],
   "source": [
    "# Graphique réel\n",
    "\n",
    "data_real_plot = df_with_real.loc[df_with_real['date'] <= datetime.datetime(2020,4,10)]\n",
    "data_real_plot\n",
    "census_chart_with_real = build_census_chart_with_real(alt=alt, census_floor_df=data_real_plot, max_y_axis=p.max_y_axis)\n",
    "census_chart_with_real"
   ]
  },
  {
   "cell_type": "markdown",
   "metadata": {},
   "source": [
    "## Projections futures\n",
    "\n",
    "Les graphiques ci-dessous montrent les projections du modèle SIR, autant pour les nouveaux cas admis à tous les jours que pour le nombre de cas au cumulatif."
   ]
  },
  {
   "cell_type": "code",
   "execution_count": 16,
   "metadata": {},
   "outputs": [
    {
     "data": {
      "text/html": [
       "\n",
       "<div id=\"altair-viz-84ef2bcf6d9b46d5a2d02b0105392dd9\"></div>\n",
       "<script type=\"text/javascript\">\n",
       "  (function(spec, embedOpt){\n",
       "    let outputDiv = document.currentScript.previousElementSibling;\n",
       "    if (outputDiv.id !== \"altair-viz-84ef2bcf6d9b46d5a2d02b0105392dd9\") {\n",
       "      outputDiv = document.getElementById(\"altair-viz-84ef2bcf6d9b46d5a2d02b0105392dd9\");\n",
       "    }\n",
       "    const paths = {\n",
       "      \"vega\": \"https://cdn.jsdelivr.net/npm//vega@5?noext\",\n",
       "      \"vega-lib\": \"https://cdn.jsdelivr.net/npm//vega-lib?noext\",\n",
       "      \"vega-lite\": \"https://cdn.jsdelivr.net/npm//vega-lite@4.8.1?noext\",\n",
       "      \"vega-embed\": \"https://cdn.jsdelivr.net/npm//vega-embed@6?noext\",\n",
       "    };\n",
       "\n",
       "    function loadScript(lib) {\n",
       "      return new Promise(function(resolve, reject) {\n",
       "        var s = document.createElement('script');\n",
       "        s.src = paths[lib];\n",
       "        s.async = true;\n",
       "        s.onload = () => resolve(paths[lib]);\n",
       "        s.onerror = () => reject(`Error loading script: ${paths[lib]}`);\n",
       "        document.getElementsByTagName(\"head\")[0].appendChild(s);\n",
       "      });\n",
       "    }\n",
       "\n",
       "    function showError(err) {\n",
       "      outputDiv.innerHTML = `<div class=\"error\" style=\"color:red;\">${err}</div>`;\n",
       "      throw err;\n",
       "    }\n",
       "\n",
       "    function displayChart(vegaEmbed) {\n",
       "      vegaEmbed(outputDiv, spec, embedOpt)\n",
       "        .catch(err => showError(`Javascript Error: ${err.message}<br>This usually means there's a typo in your chart specification. See the javascript console for the full traceback.`));\n",
       "    }\n",
       "\n",
       "    if(typeof define === \"function\" && define.amd) {\n",
       "      requirejs.config({paths});\n",
       "      require([\"vega-embed\"], displayChart, err => showError(`Error loading script: ${err.message}`));\n",
       "    } else if (typeof vegaEmbed === \"function\") {\n",
       "      displayChart(vegaEmbed);\n",
       "    } else {\n",
       "      loadScript(\"vega\")\n",
       "        .then(() => loadScript(\"vega-lite\"))\n",
       "        .then(() => loadScript(\"vega-embed\"))\n",
       "        .catch(showError)\n",
       "        .then(() => displayChart(vegaEmbed));\n",
       "    }\n",
       "  })({\"config\": {\"view\": {\"continuousWidth\": 400, \"continuousHeight\": 300}, \"legend\": {\"orient\": \"bottom\"}}, \"layer\": [{\"mark\": {\"type\": \"line\", \"point\": true}, \"encoding\": {\"color\": {\"type\": \"nominal\", \"field\": \"key\"}, \"tooltip\": [{\"type\": \"temporal\", \"field\": \"date\"}, {\"type\": \"quantitative\", \"field\": \"value\", \"format\": \".0f\", \"title\": \"Admit\"}, {\"type\": \"nominal\", \"field\": \"key\"}], \"x\": {\"type\": \"temporal\", \"axis\": {\"format\": \"%b, %d\"}, \"field\": \"date\", \"title\": \"Date\"}, \"y\": {\"type\": \"quantitative\", \"field\": \"value\", \"scale\": {}, \"title\": \"Daily admissions\"}}, \"selection\": {\"selector006\": {\"type\": \"interval\", \"bind\": \"scales\", \"encodings\": [\"x\", \"y\"]}}, \"transform\": [{\"fold\": [\"hospitalized\", \"icu\", \"ventilated\"]}]}, {\"mark\": {\"type\": \"rule\", \"color\": \"black\", \"opacity\": 0.35, \"size\": 2}, \"encoding\": {\"x\": {\"type\": \"temporal\", \"axis\": {\"format\": \"%b, %d\"}, \"field\": \"date\", \"title\": \"Date\"}}, \"transform\": [{\"filter\": \"(datum.day === 0)\"}]}], \"data\": {\"name\": \"data-752db9a3ca2837e5a18cea19eca06402\"}, \"$schema\": \"https://vega.github.io/schema/vega-lite/v4.8.1.json\", \"datasets\": {\"data-752db9a3ca2837e5a18cea19eca06402\": [{\"day\": -35, \"date\": \"2020-03-01T00:00:00\", \"hospitalized\": null, \"icu\": null, \"ventilated\": null}, {\"day\": -34, \"date\": \"2020-03-02T00:00:00\", \"hospitalized\": 0.0, \"icu\": 0.0, \"ventilated\": 0.0}, {\"day\": -33, \"date\": \"2020-03-03T00:00:00\", \"hospitalized\": 0.0, \"icu\": 0.0, \"ventilated\": 0.0}, {\"day\": -32, \"date\": \"2020-03-04T00:00:00\", \"hospitalized\": 0.0, \"icu\": 0.0, \"ventilated\": 0.0}, {\"day\": -31, \"date\": \"2020-03-05T00:00:00\", \"hospitalized\": 0.0, \"icu\": 0.0, \"ventilated\": 0.0}, {\"day\": -30, \"date\": \"2020-03-06T00:00:00\", \"hospitalized\": 0.0, \"icu\": 0.0, \"ventilated\": 0.0}, {\"day\": -29, \"date\": \"2020-03-07T00:00:00\", \"hospitalized\": 0.0, \"icu\": 0.0, \"ventilated\": 0.0}, {\"day\": -28, \"date\": \"2020-03-08T00:00:00\", \"hospitalized\": 0.0, \"icu\": 0.0, \"ventilated\": 0.0}, {\"day\": -27, \"date\": \"2020-03-09T00:00:00\", \"hospitalized\": 0.0, \"icu\": 0.0, \"ventilated\": 0.0}, {\"day\": -26, \"date\": \"2020-03-10T00:00:00\", \"hospitalized\": 1.0, \"icu\": 0.0, \"ventilated\": 0.0}, {\"day\": -25, \"date\": \"2020-03-11T00:00:00\", \"hospitalized\": 1.0, \"icu\": 0.0, \"ventilated\": 0.0}, {\"day\": -24, \"date\": \"2020-03-12T00:00:00\", \"hospitalized\": 1.0, \"icu\": 0.0, \"ventilated\": 0.0}, {\"day\": -23, \"date\": \"2020-03-13T00:00:00\", \"hospitalized\": 1.0, \"icu\": 0.0, \"ventilated\": 0.0}, {\"day\": -22, \"date\": \"2020-03-14T00:00:00\", \"hospitalized\": 2.0, \"icu\": 0.0, \"ventilated\": 0.0}, {\"day\": -21, \"date\": \"2020-03-15T00:00:00\", \"hospitalized\": 2.0, \"icu\": 0.0, \"ventilated\": 0.0}, {\"day\": -20, \"date\": \"2020-03-16T00:00:00\", \"hospitalized\": 2.0, \"icu\": 0.0, \"ventilated\": 0.0}, {\"day\": -19, \"date\": \"2020-03-17T00:00:00\", \"hospitalized\": 3.0, \"icu\": 0.0, \"ventilated\": 0.0}, {\"day\": -18, \"date\": \"2020-03-18T00:00:00\", \"hospitalized\": 4.0, \"icu\": 1.0, \"ventilated\": 1.0}, {\"day\": -17, \"date\": \"2020-03-19T00:00:00\", \"hospitalized\": 4.0, \"icu\": 1.0, \"ventilated\": 1.0}, {\"day\": -16, \"date\": \"2020-03-20T00:00:00\", \"hospitalized\": 5.0, \"icu\": 1.0, \"ventilated\": 1.0}, {\"day\": -15, \"date\": \"2020-03-21T00:00:00\", \"hospitalized\": 7.0, \"icu\": 1.0, \"ventilated\": 1.0}, {\"day\": -14, \"date\": \"2020-03-22T00:00:00\", \"hospitalized\": 8.0, \"icu\": 2.0, \"ventilated\": 2.0}, {\"day\": -13, \"date\": \"2020-03-23T00:00:00\", \"hospitalized\": 9.0, \"icu\": 2.0, \"ventilated\": 2.0}, {\"day\": -12, \"date\": \"2020-03-24T00:00:00\", \"hospitalized\": 11.0, \"icu\": 2.0, \"ventilated\": 2.0}, {\"day\": -11, \"date\": \"2020-03-25T00:00:00\", \"hospitalized\": 14.0, \"icu\": 3.0, \"ventilated\": 3.0}, {\"day\": -10, \"date\": \"2020-03-26T00:00:00\", \"hospitalized\": 16.0, \"icu\": 4.0, \"ventilated\": 4.0}, {\"day\": -9, \"date\": \"2020-03-27T00:00:00\", \"hospitalized\": 19.0, \"icu\": 4.0, \"ventilated\": 4.0}, {\"day\": -8, \"date\": \"2020-03-28T00:00:00\", \"hospitalized\": 23.0, \"icu\": 5.0, \"ventilated\": 5.0}, {\"day\": -7, \"date\": \"2020-03-29T00:00:00\", \"hospitalized\": 28.0, \"icu\": 7.0, \"ventilated\": 7.0}, {\"day\": -6, \"date\": \"2020-03-30T00:00:00\", \"hospitalized\": 33.0, \"icu\": 8.0, \"ventilated\": 8.0}, {\"day\": -5, \"date\": \"2020-03-31T00:00:00\", \"hospitalized\": 39.0, \"icu\": 9.0, \"ventilated\": 9.0}, {\"day\": -4, \"date\": \"2020-04-01T00:00:00\", \"hospitalized\": 47.0, \"icu\": 11.0, \"ventilated\": 11.0}, {\"day\": -3, \"date\": \"2020-04-02T00:00:00\", \"hospitalized\": 56.0, \"icu\": 14.0, \"ventilated\": 14.0}, {\"day\": -2, \"date\": \"2020-04-03T00:00:00\", \"hospitalized\": 66.0, \"icu\": 16.0, \"ventilated\": 16.0}, {\"day\": -1, \"date\": \"2020-04-04T00:00:00\", \"hospitalized\": 79.0, \"icu\": 19.0, \"ventilated\": 19.0}, {\"day\": 0, \"date\": \"2020-04-05T00:00:00\", \"hospitalized\": 94.0, \"icu\": 23.0, \"ventilated\": 23.0}, {\"day\": 1, \"date\": \"2020-04-06T00:00:00\", \"hospitalized\": 89.0, \"icu\": 22.0, \"ventilated\": 22.0}, {\"day\": 2, \"date\": \"2020-04-07T00:00:00\", \"hospitalized\": 101.0, \"icu\": 25.0, \"ventilated\": 25.0}, {\"day\": 3, \"date\": \"2020-04-08T00:00:00\", \"hospitalized\": 115.0, \"icu\": 28.0, \"ventilated\": 28.0}, {\"day\": 4, \"date\": \"2020-04-09T00:00:00\", \"hospitalized\": 131.0, \"icu\": 32.0, \"ventilated\": 32.0}, {\"day\": 5, \"date\": \"2020-04-10T00:00:00\", \"hospitalized\": 149.0, \"icu\": 37.0, \"ventilated\": 37.0}, {\"day\": 6, \"date\": \"2020-04-11T00:00:00\", \"hospitalized\": 169.0, \"icu\": 42.0, \"ventilated\": 42.0}, {\"day\": 7, \"date\": \"2020-04-12T00:00:00\", \"hospitalized\": 193.0, \"icu\": 48.0, \"ventilated\": 48.0}, {\"day\": 8, \"date\": \"2020-04-13T00:00:00\", \"hospitalized\": 219.0, \"icu\": 54.0, \"ventilated\": 54.0}, {\"day\": 9, \"date\": \"2020-04-14T00:00:00\", \"hospitalized\": 249.0, \"icu\": 62.0, \"ventilated\": 62.0}, {\"day\": 10, \"date\": \"2020-04-15T00:00:00\", \"hospitalized\": 283.0, \"icu\": 70.0, \"ventilated\": 70.0}, {\"day\": 11, \"date\": \"2020-04-16T00:00:00\", \"hospitalized\": 321.0, \"icu\": 80.0, \"ventilated\": 80.0}, {\"day\": 12, \"date\": \"2020-04-17T00:00:00\", \"hospitalized\": 365.0, \"icu\": 91.0, \"ventilated\": 91.0}, {\"day\": 13, \"date\": \"2020-04-18T00:00:00\", \"hospitalized\": 415.0, \"icu\": 103.0, \"ventilated\": 103.0}, {\"day\": 14, \"date\": \"2020-04-19T00:00:00\", \"hospitalized\": 471.0, \"icu\": 117.0, \"ventilated\": 117.0}, {\"day\": 15, \"date\": \"2020-04-20T00:00:00\", \"hospitalized\": 535.0, \"icu\": 133.0, \"ventilated\": 133.0}, {\"day\": 16, \"date\": \"2020-04-21T00:00:00\", \"hospitalized\": 607.0, \"icu\": 151.0, \"ventilated\": 151.0}, {\"day\": 17, \"date\": \"2020-04-22T00:00:00\", \"hospitalized\": 689.0, \"icu\": 172.0, \"ventilated\": 172.0}, {\"day\": 18, \"date\": \"2020-04-23T00:00:00\", \"hospitalized\": 782.0, \"icu\": 195.0, \"ventilated\": 195.0}, {\"day\": 19, \"date\": \"2020-04-24T00:00:00\", \"hospitalized\": 886.0, \"icu\": 221.0, \"ventilated\": 221.0}, {\"day\": 20, \"date\": \"2020-04-25T00:00:00\", \"hospitalized\": 1005.0, \"icu\": 251.0, \"ventilated\": 251.0}, {\"day\": 21, \"date\": \"2020-04-26T00:00:00\", \"hospitalized\": 1139.0, \"icu\": 284.0, \"ventilated\": 284.0}, {\"day\": 22, \"date\": \"2020-04-27T00:00:00\", \"hospitalized\": 1290.0, \"icu\": 322.0, \"ventilated\": 322.0}, {\"day\": 23, \"date\": \"2020-04-28T00:00:00\", \"hospitalized\": 1460.0, \"icu\": 365.0, \"ventilated\": 365.0}, {\"day\": 24, \"date\": \"2020-04-29T00:00:00\", \"hospitalized\": 1652.0, \"icu\": 413.0, \"ventilated\": 413.0}, {\"day\": 25, \"date\": \"2020-04-30T00:00:00\", \"hospitalized\": 1867.0, \"icu\": 466.0, \"ventilated\": 466.0}, {\"day\": 26, \"date\": \"2020-05-01T00:00:00\", \"hospitalized\": 2110.0, \"icu\": 527.0, \"ventilated\": 527.0}, {\"day\": 27, \"date\": \"2020-05-02T00:00:00\", \"hospitalized\": 2381.0, \"icu\": 595.0, \"ventilated\": 595.0}, {\"day\": 28, \"date\": \"2020-05-03T00:00:00\", \"hospitalized\": 2685.0, \"icu\": 671.0, \"ventilated\": 671.0}, {\"day\": 29, \"date\": \"2020-05-04T00:00:00\", \"hospitalized\": 3024.0, \"icu\": 756.0, \"ventilated\": 756.0}, {\"day\": 30, \"date\": \"2020-05-05T00:00:00\", \"hospitalized\": 3401.0, \"icu\": 850.0, \"ventilated\": 850.0}, {\"day\": 31, \"date\": \"2020-05-06T00:00:00\", \"hospitalized\": 3820.0, \"icu\": 955.0, \"ventilated\": 955.0}, {\"day\": 32, \"date\": \"2020-05-07T00:00:00\", \"hospitalized\": 4284.0, \"icu\": 1071.0, \"ventilated\": 1071.0}, {\"day\": 33, \"date\": \"2020-05-08T00:00:00\", \"hospitalized\": 4796.0, \"icu\": 1199.0, \"ventilated\": 1199.0}, {\"day\": 34, \"date\": \"2020-05-09T00:00:00\", \"hospitalized\": 5358.0, \"icu\": 1339.0, \"ventilated\": 1339.0}, {\"day\": 35, \"date\": \"2020-05-10T00:00:00\", \"hospitalized\": 5973.0, \"icu\": 1493.0, \"ventilated\": 1493.0}, {\"day\": 36, \"date\": \"2020-05-11T00:00:00\", \"hospitalized\": 6641.0, \"icu\": 1660.0, \"ventilated\": 1660.0}, {\"day\": 37, \"date\": \"2020-05-12T00:00:00\", \"hospitalized\": 7363.0, \"icu\": 1840.0, \"ventilated\": 1840.0}, {\"day\": 38, \"date\": \"2020-05-13T00:00:00\", \"hospitalized\": 8139.0, \"icu\": 2034.0, \"ventilated\": 2034.0}, {\"day\": 39, \"date\": \"2020-05-14T00:00:00\", \"hospitalized\": 8965.0, \"icu\": 2241.0, \"ventilated\": 2241.0}, {\"day\": 40, \"date\": \"2020-05-15T00:00:00\", \"hospitalized\": 9837.0, \"icu\": 2459.0, \"ventilated\": 2459.0}, {\"day\": 41, \"date\": \"2020-05-16T00:00:00\", \"hospitalized\": 10750.0, \"icu\": 2687.0, \"ventilated\": 2687.0}, {\"day\": 42, \"date\": \"2020-05-17T00:00:00\", \"hospitalized\": 11693.0, \"icu\": 2923.0, \"ventilated\": 2923.0}, {\"day\": 43, \"date\": \"2020-05-18T00:00:00\", \"hospitalized\": 12655.0, \"icu\": 3163.0, \"ventilated\": 3163.0}, {\"day\": 44, \"date\": \"2020-05-19T00:00:00\", \"hospitalized\": 13623.0, \"icu\": 3405.0, \"ventilated\": 3405.0}, {\"day\": 45, \"date\": \"2020-05-20T00:00:00\", \"hospitalized\": 14579.0, \"icu\": 3644.0, \"ventilated\": 3644.0}, {\"day\": 46, \"date\": \"2020-05-21T00:00:00\", \"hospitalized\": 15504.0, \"icu\": 3876.0, \"ventilated\": 3876.0}, {\"day\": 47, \"date\": \"2020-05-22T00:00:00\", \"hospitalized\": 16377.0, \"icu\": 4094.0, \"ventilated\": 4094.0}, {\"day\": 48, \"date\": \"2020-05-23T00:00:00\", \"hospitalized\": 17178.0, \"icu\": 4294.0, \"ventilated\": 4294.0}, {\"day\": 49, \"date\": \"2020-05-24T00:00:00\", \"hospitalized\": 17883.0, \"icu\": 4470.0, \"ventilated\": 4470.0}, {\"day\": 50, \"date\": \"2020-05-25T00:00:00\", \"hospitalized\": 18474.0, \"icu\": 4618.0, \"ventilated\": 4618.0}, {\"day\": 51, \"date\": \"2020-05-26T00:00:00\", \"hospitalized\": 18932.0, \"icu\": 4733.0, \"ventilated\": 4733.0}, {\"day\": 52, \"date\": \"2020-05-27T00:00:00\", \"hospitalized\": 19243.0, \"icu\": 4810.0, \"ventilated\": 4810.0}, {\"day\": 53, \"date\": \"2020-05-28T00:00:00\", \"hospitalized\": 19397.0, \"icu\": 4849.0, \"ventilated\": 4849.0}, {\"day\": 54, \"date\": \"2020-05-29T00:00:00\", \"hospitalized\": 19390.0, \"icu\": 4847.0, \"ventilated\": 4847.0}, {\"day\": 55, \"date\": \"2020-05-30T00:00:00\", \"hospitalized\": 19223.0, \"icu\": 4805.0, \"ventilated\": 4805.0}, {\"day\": 56, \"date\": \"2020-05-31T00:00:00\", \"hospitalized\": 18903.0, \"icu\": 4725.0, \"ventilated\": 4725.0}, {\"day\": 57, \"date\": \"2020-06-01T00:00:00\", \"hospitalized\": 18443.0, \"icu\": 4610.0, \"ventilated\": 4610.0}, {\"day\": 58, \"date\": \"2020-06-02T00:00:00\", \"hospitalized\": 17858.0, \"icu\": 4464.0, \"ventilated\": 4464.0}, {\"day\": 59, \"date\": \"2020-06-03T00:00:00\", \"hospitalized\": 17168.0, \"icu\": 4292.0, \"ventilated\": 4292.0}, {\"day\": 60, \"date\": \"2020-06-04T00:00:00\", \"hospitalized\": 16394.0, \"icu\": 4098.0, \"ventilated\": 4098.0}, {\"day\": 61, \"date\": \"2020-06-05T00:00:00\", \"hospitalized\": 15558.0, \"icu\": 3889.0, \"ventilated\": 3889.0}, {\"day\": 62, \"date\": \"2020-06-06T00:00:00\", \"hospitalized\": 14680.0, \"icu\": 3670.0, \"ventilated\": 3670.0}, {\"day\": 63, \"date\": \"2020-06-07T00:00:00\", \"hospitalized\": 13781.0, \"icu\": 3445.0, \"ventilated\": 3445.0}, {\"day\": 64, \"date\": \"2020-06-08T00:00:00\", \"hospitalized\": 12879.0, \"icu\": 3219.0, \"ventilated\": 3219.0}, {\"day\": 65, \"date\": \"2020-06-09T00:00:00\", \"hospitalized\": 11987.0, \"icu\": 2996.0, \"ventilated\": 2996.0}, {\"day\": 66, \"date\": \"2020-06-10T00:00:00\", \"hospitalized\": 11118.0, \"icu\": 2779.0, \"ventilated\": 2779.0}, {\"day\": 67, \"date\": \"2020-06-11T00:00:00\", \"hospitalized\": 10282.0, \"icu\": 2570.0, \"ventilated\": 2570.0}, {\"day\": 68, \"date\": \"2020-06-12T00:00:00\", \"hospitalized\": 9485.0, \"icu\": 2371.0, \"ventilated\": 2371.0}, {\"day\": 69, \"date\": \"2020-06-13T00:00:00\", \"hospitalized\": 8732.0, \"icu\": 2183.0, \"ventilated\": 2183.0}, {\"day\": 70, \"date\": \"2020-06-14T00:00:00\", \"hospitalized\": 8026.0, \"icu\": 2006.0, \"ventilated\": 2006.0}, {\"day\": 71, \"date\": \"2020-06-15T00:00:00\", \"hospitalized\": 7368.0, \"icu\": 1842.0, \"ventilated\": 1842.0}, {\"day\": 72, \"date\": \"2020-06-16T00:00:00\", \"hospitalized\": 6757.0, \"icu\": 1689.0, \"ventilated\": 1689.0}, {\"day\": 73, \"date\": \"2020-06-17T00:00:00\", \"hospitalized\": 6194.0, \"icu\": 1548.0, \"ventilated\": 1548.0}, {\"day\": 74, \"date\": \"2020-06-18T00:00:00\", \"hospitalized\": 5675.0, \"icu\": 1418.0, \"ventilated\": 1418.0}, {\"day\": 75, \"date\": \"2020-06-19T00:00:00\", \"hospitalized\": 5200.0, \"icu\": 1300.0, \"ventilated\": 1300.0}, {\"day\": 76, \"date\": \"2020-06-20T00:00:00\", \"hospitalized\": 4764.0, \"icu\": 1191.0, \"ventilated\": 1191.0}, {\"day\": 77, \"date\": \"2020-06-21T00:00:00\", \"hospitalized\": 4366.0, \"icu\": 1091.0, \"ventilated\": 1091.0}, {\"day\": 78, \"date\": \"2020-06-22T00:00:00\", \"hospitalized\": 4003.0, \"icu\": 1000.0, \"ventilated\": 1000.0}, {\"day\": 79, \"date\": \"2020-06-23T00:00:00\", \"hospitalized\": 3672.0, \"icu\": 918.0, \"ventilated\": 918.0}, {\"day\": 80, \"date\": \"2020-06-24T00:00:00\", \"hospitalized\": 3370.0, \"icu\": 842.0, \"ventilated\": 842.0}, {\"day\": 81, \"date\": \"2020-06-25T00:00:00\", \"hospitalized\": 3095.0, \"icu\": 773.0, \"ventilated\": 773.0}, {\"day\": 82, \"date\": \"2020-06-26T00:00:00\", \"hospitalized\": 2844.0, \"icu\": 711.0, \"ventilated\": 711.0}, {\"day\": 83, \"date\": \"2020-06-27T00:00:00\", \"hospitalized\": 2616.0, \"icu\": 654.0, \"ventilated\": 654.0}, {\"day\": 84, \"date\": \"2020-06-28T00:00:00\", \"hospitalized\": 2408.0, \"icu\": 602.0, \"ventilated\": 602.0}, {\"day\": 85, \"date\": \"2020-06-29T00:00:00\", \"hospitalized\": 2218.0, \"icu\": 554.0, \"ventilated\": 554.0}, {\"day\": 86, \"date\": \"2020-06-30T00:00:00\", \"hospitalized\": 2045.0, \"icu\": 511.0, \"ventilated\": 511.0}, {\"day\": 87, \"date\": \"2020-07-01T00:00:00\", \"hospitalized\": 1887.0, \"icu\": 471.0, \"ventilated\": 471.0}, {\"day\": 88, \"date\": \"2020-07-02T00:00:00\", \"hospitalized\": 1743.0, \"icu\": 435.0, \"ventilated\": 435.0}, {\"day\": 89, \"date\": \"2020-07-03T00:00:00\", \"hospitalized\": 1611.0, \"icu\": 402.0, \"ventilated\": 402.0}, {\"day\": 90, \"date\": \"2020-07-04T00:00:00\", \"hospitalized\": 1490.0, \"icu\": 372.0, \"ventilated\": 372.0}, {\"day\": 91, \"date\": \"2020-07-05T00:00:00\", \"hospitalized\": 1379.0, \"icu\": 344.0, \"ventilated\": 344.0}, {\"day\": 92, \"date\": \"2020-07-06T00:00:00\", \"hospitalized\": 1277.0, \"icu\": 319.0, \"ventilated\": 319.0}, {\"day\": 93, \"date\": \"2020-07-07T00:00:00\", \"hospitalized\": 1184.0, \"icu\": 296.0, \"ventilated\": 296.0}, {\"day\": 94, \"date\": \"2020-07-08T00:00:00\", \"hospitalized\": 1099.0, \"icu\": 274.0, \"ventilated\": 274.0}, {\"day\": 95, \"date\": \"2020-07-09T00:00:00\", \"hospitalized\": 1020.0, \"icu\": 255.0, \"ventilated\": 255.0}, {\"day\": 96, \"date\": \"2020-07-10T00:00:00\", \"hospitalized\": 948.0, \"icu\": 237.0, \"ventilated\": 237.0}, {\"day\": 97, \"date\": \"2020-07-11T00:00:00\", \"hospitalized\": 881.0, \"icu\": 220.0, \"ventilated\": 220.0}, {\"day\": 98, \"date\": \"2020-07-12T00:00:00\", \"hospitalized\": 820.0, \"icu\": 205.0, \"ventilated\": 205.0}, {\"day\": 99, \"date\": \"2020-07-13T00:00:00\", \"hospitalized\": 763.0, \"icu\": 190.0, \"ventilated\": 190.0}, {\"day\": 100, \"date\": \"2020-07-14T00:00:00\", \"hospitalized\": 710.0, \"icu\": 177.0, \"ventilated\": 177.0}, {\"day\": 101, \"date\": \"2020-07-15T00:00:00\", \"hospitalized\": 662.0, \"icu\": 165.0, \"ventilated\": 165.0}, {\"day\": 102, \"date\": \"2020-07-16T00:00:00\", \"hospitalized\": 617.0, \"icu\": 154.0, \"ventilated\": 154.0}, {\"day\": 103, \"date\": \"2020-07-17T00:00:00\", \"hospitalized\": 576.0, \"icu\": 144.0, \"ventilated\": 144.0}, {\"day\": 104, \"date\": \"2020-07-18T00:00:00\", \"hospitalized\": 537.0, \"icu\": 134.0, \"ventilated\": 134.0}, {\"day\": 105, \"date\": \"2020-07-19T00:00:00\", \"hospitalized\": 502.0, \"icu\": 125.0, \"ventilated\": 125.0}, {\"day\": 106, \"date\": \"2020-07-20T00:00:00\", \"hospitalized\": 469.0, \"icu\": 117.0, \"ventilated\": 117.0}, {\"day\": 107, \"date\": \"2020-07-21T00:00:00\", \"hospitalized\": 438.0, \"icu\": 109.0, \"ventilated\": 109.0}, {\"day\": 108, \"date\": \"2020-07-22T00:00:00\", \"hospitalized\": 409.0, \"icu\": 102.0, \"ventilated\": 102.0}, {\"day\": 109, \"date\": \"2020-07-23T00:00:00\", \"hospitalized\": 383.0, \"icu\": 95.0, \"ventilated\": 95.0}, {\"day\": 110, \"date\": \"2020-07-24T00:00:00\", \"hospitalized\": 358.0, \"icu\": 89.0, \"ventilated\": 89.0}, {\"day\": 111, \"date\": \"2020-07-25T00:00:00\", \"hospitalized\": 335.0, \"icu\": 83.0, \"ventilated\": 83.0}, {\"day\": 112, \"date\": \"2020-07-26T00:00:00\", \"hospitalized\": 314.0, \"icu\": 78.0, \"ventilated\": 78.0}, {\"day\": 113, \"date\": \"2020-07-27T00:00:00\", \"hospitalized\": 294.0, \"icu\": 73.0, \"ventilated\": 73.0}, {\"day\": 114, \"date\": \"2020-07-28T00:00:00\", \"hospitalized\": 275.0, \"icu\": 68.0, \"ventilated\": 68.0}, {\"day\": 115, \"date\": \"2020-07-29T00:00:00\", \"hospitalized\": 258.0, \"icu\": 64.0, \"ventilated\": 64.0}, {\"day\": 116, \"date\": \"2020-07-30T00:00:00\", \"hospitalized\": 242.0, \"icu\": 60.0, \"ventilated\": 60.0}, {\"day\": 117, \"date\": \"2020-07-31T00:00:00\", \"hospitalized\": 226.0, \"icu\": 56.0, \"ventilated\": 56.0}, {\"day\": 118, \"date\": \"2020-08-01T00:00:00\", \"hospitalized\": 212.0, \"icu\": 53.0, \"ventilated\": 53.0}, {\"day\": 119, \"date\": \"2020-08-02T00:00:00\", \"hospitalized\": 199.0, \"icu\": 49.0, \"ventilated\": 49.0}, {\"day\": 120, \"date\": \"2020-08-03T00:00:00\", \"hospitalized\": 187.0, \"icu\": 46.0, \"ventilated\": 46.0}, {\"day\": 121, \"date\": \"2020-08-04T00:00:00\", \"hospitalized\": 175.0, \"icu\": 43.0, \"ventilated\": 43.0}, {\"day\": 122, \"date\": \"2020-08-05T00:00:00\", \"hospitalized\": 164.0, \"icu\": 41.0, \"ventilated\": 41.0}, {\"day\": 123, \"date\": \"2020-08-06T00:00:00\", \"hospitalized\": 154.0, \"icu\": 38.0, \"ventilated\": 38.0}, {\"day\": 124, \"date\": \"2020-08-07T00:00:00\", \"hospitalized\": 145.0, \"icu\": 36.0, \"ventilated\": 36.0}, {\"day\": 125, \"date\": \"2020-08-08T00:00:00\", \"hospitalized\": 136.0, \"icu\": 34.0, \"ventilated\": 34.0}, {\"day\": 126, \"date\": \"2020-08-09T00:00:00\", \"hospitalized\": 128.0, \"icu\": 32.0, \"ventilated\": 32.0}, {\"day\": 127, \"date\": \"2020-08-10T00:00:00\", \"hospitalized\": 120.0, \"icu\": 30.0, \"ventilated\": 30.0}, {\"day\": 128, \"date\": \"2020-08-11T00:00:00\", \"hospitalized\": 112.0, \"icu\": 28.0, \"ventilated\": 28.0}, {\"day\": 129, \"date\": \"2020-08-12T00:00:00\", \"hospitalized\": 106.0, \"icu\": 26.0, \"ventilated\": 26.0}, {\"day\": 130, \"date\": \"2020-08-13T00:00:00\", \"hospitalized\": 99.0, \"icu\": 24.0, \"ventilated\": 24.0}, {\"day\": 131, \"date\": \"2020-08-14T00:00:00\", \"hospitalized\": 93.0, \"icu\": 23.0, \"ventilated\": 23.0}, {\"day\": 132, \"date\": \"2020-08-15T00:00:00\", \"hospitalized\": 87.0, \"icu\": 21.0, \"ventilated\": 21.0}, {\"day\": 133, \"date\": \"2020-08-16T00:00:00\", \"hospitalized\": 82.0, \"icu\": 20.0, \"ventilated\": 20.0}, {\"day\": 134, \"date\": \"2020-08-17T00:00:00\", \"hospitalized\": 77.0, \"icu\": 19.0, \"ventilated\": 19.0}, {\"day\": 135, \"date\": \"2020-08-18T00:00:00\", \"hospitalized\": 73.0, \"icu\": 18.0, \"ventilated\": 18.0}, {\"day\": 136, \"date\": \"2020-08-19T00:00:00\", \"hospitalized\": 68.0, \"icu\": 17.0, \"ventilated\": 17.0}, {\"day\": 137, \"date\": \"2020-08-20T00:00:00\", \"hospitalized\": 64.0, \"icu\": 16.0, \"ventilated\": 16.0}, {\"day\": 138, \"date\": \"2020-08-21T00:00:00\", \"hospitalized\": 60.0, \"icu\": 15.0, \"ventilated\": 15.0}, {\"day\": 139, \"date\": \"2020-08-22T00:00:00\", \"hospitalized\": 57.0, \"icu\": 14.0, \"ventilated\": 14.0}, {\"day\": 140, \"date\": \"2020-08-23T00:00:00\", \"hospitalized\": 53.0, \"icu\": 13.0, \"ventilated\": 13.0}, {\"day\": 141, \"date\": \"2020-08-24T00:00:00\", \"hospitalized\": 50.0, \"icu\": 12.0, \"ventilated\": 12.0}, {\"day\": 142, \"date\": \"2020-08-25T00:00:00\", \"hospitalized\": 47.0, \"icu\": 11.0, \"ventilated\": 11.0}, {\"day\": 143, \"date\": \"2020-08-26T00:00:00\", \"hospitalized\": 44.0, \"icu\": 11.0, \"ventilated\": 11.0}, {\"day\": 144, \"date\": \"2020-08-27T00:00:00\", \"hospitalized\": 41.0, \"icu\": 10.0, \"ventilated\": 10.0}, {\"day\": 145, \"date\": \"2020-08-28T00:00:00\", \"hospitalized\": 39.0, \"icu\": 9.0, \"ventilated\": 9.0}, {\"day\": 146, \"date\": \"2020-08-29T00:00:00\", \"hospitalized\": 37.0, \"icu\": 9.0, \"ventilated\": 9.0}, {\"day\": 147, \"date\": \"2020-08-30T00:00:00\", \"hospitalized\": 34.0, \"icu\": 8.0, \"ventilated\": 8.0}, {\"day\": 148, \"date\": \"2020-08-31T00:00:00\", \"hospitalized\": 32.0, \"icu\": 8.0, \"ventilated\": 8.0}, {\"day\": 149, \"date\": \"2020-09-01T00:00:00\", \"hospitalized\": 30.0, \"icu\": 7.0, \"ventilated\": 7.0}, {\"day\": 150, \"date\": \"2020-09-02T00:00:00\", \"hospitalized\": 29.0, \"icu\": 7.0, \"ventilated\": 7.0}, {\"day\": 151, \"date\": \"2020-09-03T00:00:00\", \"hospitalized\": 27.0, \"icu\": 6.0, \"ventilated\": 6.0}, {\"day\": 152, \"date\": \"2020-09-04T00:00:00\", \"hospitalized\": 25.0, \"icu\": 6.0, \"ventilated\": 6.0}, {\"day\": 153, \"date\": \"2020-09-05T00:00:00\", \"hospitalized\": 24.0, \"icu\": 6.0, \"ventilated\": 6.0}, {\"day\": 154, \"date\": \"2020-09-06T00:00:00\", \"hospitalized\": 22.0, \"icu\": 5.0, \"ventilated\": 5.0}, {\"day\": 155, \"date\": \"2020-09-07T00:00:00\", \"hospitalized\": 21.0, \"icu\": 5.0, \"ventilated\": 5.0}, {\"day\": 156, \"date\": \"2020-09-08T00:00:00\", \"hospitalized\": 20.0, \"icu\": 5.0, \"ventilated\": 5.0}, {\"day\": 157, \"date\": \"2020-09-09T00:00:00\", \"hospitalized\": 18.0, \"icu\": 4.0, \"ventilated\": 4.0}, {\"day\": 158, \"date\": \"2020-09-10T00:00:00\", \"hospitalized\": 17.0, \"icu\": 4.0, \"ventilated\": 4.0}, {\"day\": 159, \"date\": \"2020-09-11T00:00:00\", \"hospitalized\": 16.0, \"icu\": 4.0, \"ventilated\": 4.0}, {\"day\": 160, \"date\": \"2020-09-12T00:00:00\", \"hospitalized\": 15.0, \"icu\": 3.0, \"ventilated\": 3.0}, {\"day\": 161, \"date\": \"2020-09-13T00:00:00\", \"hospitalized\": 14.0, \"icu\": 3.0, \"ventilated\": 3.0}, {\"day\": 162, \"date\": \"2020-09-14T00:00:00\", \"hospitalized\": 13.0, \"icu\": 3.0, \"ventilated\": 3.0}, {\"day\": 163, \"date\": \"2020-09-15T00:00:00\", \"hospitalized\": 13.0, \"icu\": 3.0, \"ventilated\": 3.0}, {\"day\": 164, \"date\": \"2020-09-16T00:00:00\", \"hospitalized\": 12.0, \"icu\": 3.0, \"ventilated\": 3.0}, {\"day\": 165, \"date\": \"2020-09-17T00:00:00\", \"hospitalized\": 11.0, \"icu\": 2.0, \"ventilated\": 2.0}, {\"day\": 166, \"date\": \"2020-09-18T00:00:00\", \"hospitalized\": 10.0, \"icu\": 2.0, \"ventilated\": 2.0}, {\"day\": 167, \"date\": \"2020-09-19T00:00:00\", \"hospitalized\": 10.0, \"icu\": 2.0, \"ventilated\": 2.0}, {\"day\": 168, \"date\": \"2020-09-20T00:00:00\", \"hospitalized\": 9.0, \"icu\": 2.0, \"ventilated\": 2.0}, {\"day\": 169, \"date\": \"2020-09-21T00:00:00\", \"hospitalized\": 9.0, \"icu\": 2.0, \"ventilated\": 2.0}, {\"day\": 170, \"date\": \"2020-09-22T00:00:00\", \"hospitalized\": 8.0, \"icu\": 2.0, \"ventilated\": 2.0}, {\"day\": 171, \"date\": \"2020-09-23T00:00:00\", \"hospitalized\": 8.0, \"icu\": 2.0, \"ventilated\": 2.0}, {\"day\": 172, \"date\": \"2020-09-24T00:00:00\", \"hospitalized\": 7.0, \"icu\": 1.0, \"ventilated\": 1.0}, {\"day\": 173, \"date\": \"2020-09-25T00:00:00\", \"hospitalized\": 7.0, \"icu\": 1.0, \"ventilated\": 1.0}, {\"day\": 174, \"date\": \"2020-09-26T00:00:00\", \"hospitalized\": 6.0, \"icu\": 1.0, \"ventilated\": 1.0}, {\"day\": 175, \"date\": \"2020-09-27T00:00:00\", \"hospitalized\": 6.0, \"icu\": 1.0, \"ventilated\": 1.0}, {\"day\": 176, \"date\": \"2020-09-28T00:00:00\", \"hospitalized\": 5.0, \"icu\": 1.0, \"ventilated\": 1.0}, {\"day\": 177, \"date\": \"2020-09-29T00:00:00\", \"hospitalized\": 5.0, \"icu\": 1.0, \"ventilated\": 1.0}, {\"day\": 178, \"date\": \"2020-09-30T00:00:00\", \"hospitalized\": 5.0, \"icu\": 1.0, \"ventilated\": 1.0}, {\"day\": 179, \"date\": \"2020-10-01T00:00:00\", \"hospitalized\": 4.0, \"icu\": 1.0, \"ventilated\": 1.0}, {\"day\": 180, \"date\": \"2020-10-02T00:00:00\", \"hospitalized\": 4.0, \"icu\": 1.0, \"ventilated\": 1.0}, {\"day\": 181, \"date\": \"2020-10-03T00:00:00\", \"hospitalized\": 4.0, \"icu\": 1.0, \"ventilated\": 1.0}, {\"day\": 182, \"date\": \"2020-10-04T00:00:00\", \"hospitalized\": 4.0, \"icu\": 1.0, \"ventilated\": 1.0}, {\"day\": 183, \"date\": \"2020-10-05T00:00:00\", \"hospitalized\": 3.0, \"icu\": 0.0, \"ventilated\": 0.0}, {\"day\": 184, \"date\": \"2020-10-06T00:00:00\", \"hospitalized\": 3.0, \"icu\": 0.0, \"ventilated\": 0.0}, {\"day\": 185, \"date\": \"2020-10-07T00:00:00\", \"hospitalized\": 3.0, \"icu\": 0.0, \"ventilated\": 0.0}, {\"day\": 186, \"date\": \"2020-10-08T00:00:00\", \"hospitalized\": 3.0, \"icu\": 0.0, \"ventilated\": 0.0}, {\"day\": 187, \"date\": \"2020-10-09T00:00:00\", \"hospitalized\": 3.0, \"icu\": 0.0, \"ventilated\": 0.0}, {\"day\": 188, \"date\": \"2020-10-10T00:00:00\", \"hospitalized\": 2.0, \"icu\": 0.0, \"ventilated\": 0.0}, {\"day\": 189, \"date\": \"2020-10-11T00:00:00\", \"hospitalized\": 2.0, \"icu\": 0.0, \"ventilated\": 0.0}, {\"day\": 190, \"date\": \"2020-10-12T00:00:00\", \"hospitalized\": 2.0, \"icu\": 0.0, \"ventilated\": 0.0}, {\"day\": 191, \"date\": \"2020-10-13T00:00:00\", \"hospitalized\": 2.0, \"icu\": 0.0, \"ventilated\": 0.0}, {\"day\": 192, \"date\": \"2020-10-14T00:00:00\", \"hospitalized\": 2.0, \"icu\": 0.0, \"ventilated\": 0.0}, {\"day\": 193, \"date\": \"2020-10-15T00:00:00\", \"hospitalized\": 2.0, \"icu\": 0.0, \"ventilated\": 0.0}, {\"day\": 194, \"date\": \"2020-10-16T00:00:00\", \"hospitalized\": 2.0, \"icu\": 0.0, \"ventilated\": 0.0}, {\"day\": 195, \"date\": \"2020-10-17T00:00:00\", \"hospitalized\": 1.0, \"icu\": 0.0, \"ventilated\": 0.0}, {\"day\": 196, \"date\": \"2020-10-18T00:00:00\", \"hospitalized\": 1.0, \"icu\": 0.0, \"ventilated\": 0.0}, {\"day\": 197, \"date\": \"2020-10-19T00:00:00\", \"hospitalized\": 1.0, \"icu\": 0.0, \"ventilated\": 0.0}, {\"day\": 198, \"date\": \"2020-10-20T00:00:00\", \"hospitalized\": 1.0, \"icu\": 0.0, \"ventilated\": 0.0}, {\"day\": 199, \"date\": \"2020-10-21T00:00:00\", \"hospitalized\": 1.0, \"icu\": 0.0, \"ventilated\": 0.0}, {\"day\": 200, \"date\": \"2020-10-22T00:00:00\", \"hospitalized\": 1.0, \"icu\": 0.0, \"ventilated\": 0.0}]}}, {\"mode\": \"vega-lite\"});\n",
       "</script>"
      ],
      "text/plain": [
       "alt.LayerChart(...)"
      ]
     },
     "execution_count": 16,
     "metadata": {},
     "output_type": "execute_result"
    }
   ],
   "source": [
    "# Graphique nouveaux cas\n",
    "\n",
    "admits_chart = build_admits_chart(alt=alt, admits_floor_df=m.admits_floor_df, max_y_axis=p.max_y_axis)\n",
    "admits_chart"
   ]
  },
  {
   "cell_type": "code",
   "execution_count": 17,
   "metadata": {},
   "outputs": [
    {
     "data": {
      "text/html": [
       "\n",
       "<div id=\"altair-viz-6ad5a718b6c549c692f6aec388ac25f6\"></div>\n",
       "<script type=\"text/javascript\">\n",
       "  (function(spec, embedOpt){\n",
       "    let outputDiv = document.currentScript.previousElementSibling;\n",
       "    if (outputDiv.id !== \"altair-viz-6ad5a718b6c549c692f6aec388ac25f6\") {\n",
       "      outputDiv = document.getElementById(\"altair-viz-6ad5a718b6c549c692f6aec388ac25f6\");\n",
       "    }\n",
       "    const paths = {\n",
       "      \"vega\": \"https://cdn.jsdelivr.net/npm//vega@5?noext\",\n",
       "      \"vega-lib\": \"https://cdn.jsdelivr.net/npm//vega-lib?noext\",\n",
       "      \"vega-lite\": \"https://cdn.jsdelivr.net/npm//vega-lite@4.8.1?noext\",\n",
       "      \"vega-embed\": \"https://cdn.jsdelivr.net/npm//vega-embed@6?noext\",\n",
       "    };\n",
       "\n",
       "    function loadScript(lib) {\n",
       "      return new Promise(function(resolve, reject) {\n",
       "        var s = document.createElement('script');\n",
       "        s.src = paths[lib];\n",
       "        s.async = true;\n",
       "        s.onload = () => resolve(paths[lib]);\n",
       "        s.onerror = () => reject(`Error loading script: ${paths[lib]}`);\n",
       "        document.getElementsByTagName(\"head\")[0].appendChild(s);\n",
       "      });\n",
       "    }\n",
       "\n",
       "    function showError(err) {\n",
       "      outputDiv.innerHTML = `<div class=\"error\" style=\"color:red;\">${err}</div>`;\n",
       "      throw err;\n",
       "    }\n",
       "\n",
       "    function displayChart(vegaEmbed) {\n",
       "      vegaEmbed(outputDiv, spec, embedOpt)\n",
       "        .catch(err => showError(`Javascript Error: ${err.message}<br>This usually means there's a typo in your chart specification. See the javascript console for the full traceback.`));\n",
       "    }\n",
       "\n",
       "    if(typeof define === \"function\" && define.amd) {\n",
       "      requirejs.config({paths});\n",
       "      require([\"vega-embed\"], displayChart, err => showError(`Error loading script: ${err.message}`));\n",
       "    } else if (typeof vegaEmbed === \"function\") {\n",
       "      displayChart(vegaEmbed);\n",
       "    } else {\n",
       "      loadScript(\"vega\")\n",
       "        .then(() => loadScript(\"vega-lite\"))\n",
       "        .then(() => loadScript(\"vega-embed\"))\n",
       "        .catch(showError)\n",
       "        .then(() => displayChart(vegaEmbed));\n",
       "    }\n",
       "  })({\"config\": {\"view\": {\"continuousWidth\": 400, \"continuousHeight\": 300}, \"legend\": {\"orient\": \"bottom\"}}, \"layer\": [{\"mark\": {\"type\": \"line\", \"point\": true}, \"encoding\": {\"color\": {\"type\": \"nominal\", \"field\": \"key\"}, \"tooltip\": [{\"type\": \"temporal\", \"field\": \"date\"}, {\"type\": \"quantitative\", \"field\": \"value\", \"format\": \".0f\", \"title\": \"Census\"}, {\"type\": \"nominal\", \"field\": \"key\"}], \"x\": {\"type\": \"temporal\", \"axis\": {\"format\": \"%b, %d\"}, \"field\": \"date\", \"title\": \"Date\"}, \"y\": {\"type\": \"quantitative\", \"field\": \"value\", \"scale\": {}, \"title\": \"Census\"}}, \"selection\": {\"selector007\": {\"type\": \"interval\", \"bind\": \"scales\", \"encodings\": [\"x\", \"y\"]}}, \"transform\": [{\"fold\": [\"hospitalized\", \"icu\", \"ventilated\"]}]}, {\"mark\": {\"type\": \"rule\", \"color\": \"black\", \"opacity\": 0.35, \"size\": 2}, \"encoding\": {\"x\": {\"type\": \"temporal\", \"axis\": {\"format\": \"%b, %d\"}, \"field\": \"date\", \"title\": \"Date\"}}, \"transform\": [{\"filter\": \"(datum.day === 0)\"}]}], \"data\": {\"name\": \"data-6b059d6fb1e8ceb8ab4df91d4db56dc0\"}, \"$schema\": \"https://vega.github.io/schema/vega-lite/v4.8.1.json\", \"datasets\": {\"data-6b059d6fb1e8ceb8ab4df91d4db56dc0\": [{\"day\": -35, \"date\": \"2020-03-01T00:00:00\", \"hospitalized\": null, \"icu\": null, \"ventilated\": null}, {\"day\": -34, \"date\": \"2020-03-02T00:00:00\", \"hospitalized\": 0.0, \"icu\": 0.0, \"ventilated\": 0.0}, {\"day\": -33, \"date\": \"2020-03-03T00:00:00\", \"hospitalized\": 0.0, \"icu\": 0.0, \"ventilated\": 0.0}, {\"day\": -32, \"date\": \"2020-03-04T00:00:00\", \"hospitalized\": 0.0, \"icu\": 0.0, \"ventilated\": 0.0}, {\"day\": -31, \"date\": \"2020-03-05T00:00:00\", \"hospitalized\": 1.0, \"icu\": 0.0, \"ventilated\": 0.0}, {\"day\": -30, \"date\": \"2020-03-06T00:00:00\", \"hospitalized\": 1.0, \"icu\": 0.0, \"ventilated\": 0.0}, {\"day\": -29, \"date\": \"2020-03-07T00:00:00\", \"hospitalized\": 2.0, \"icu\": 0.0, \"ventilated\": 0.0}, {\"day\": -28, \"date\": \"2020-03-08T00:00:00\", \"hospitalized\": 3.0, \"icu\": 0.0, \"ventilated\": 0.0}, {\"day\": -27, \"date\": \"2020-03-09T00:00:00\", \"hospitalized\": 4.0, \"icu\": 1.0, \"ventilated\": 1.0}, {\"day\": -26, \"date\": \"2020-03-10T00:00:00\", \"hospitalized\": 5.0, \"icu\": 1.0, \"ventilated\": 1.0}, {\"day\": -25, \"date\": \"2020-03-11T00:00:00\", \"hospitalized\": 6.0, \"icu\": 1.0, \"ventilated\": 1.0}, {\"day\": -24, \"date\": \"2020-03-12T00:00:00\", \"hospitalized\": 7.0, \"icu\": 1.0, \"ventilated\": 1.0}, {\"day\": -23, \"date\": \"2020-03-13T00:00:00\", \"hospitalized\": 9.0, \"icu\": 2.0, \"ventilated\": 2.0}, {\"day\": -22, \"date\": \"2020-03-14T00:00:00\", \"hospitalized\": 10.0, \"icu\": 2.0, \"ventilated\": 2.0}, {\"day\": -21, \"date\": \"2020-03-15T00:00:00\", \"hospitalized\": 12.0, \"icu\": 3.0, \"ventilated\": 3.0}, {\"day\": -20, \"date\": \"2020-03-16T00:00:00\", \"hospitalized\": 15.0, \"icu\": 4.0, \"ventilated\": 4.0}, {\"day\": -19, \"date\": \"2020-03-17T00:00:00\", \"hospitalized\": 18.0, \"icu\": 4.0, \"ventilated\": 4.0}, {\"day\": -18, \"date\": \"2020-03-18T00:00:00\", \"hospitalized\": 21.0, \"icu\": 5.0, \"ventilated\": 5.0}, {\"day\": -17, \"date\": \"2020-03-19T00:00:00\", \"hospitalized\": 25.0, \"icu\": 6.0, \"ventilated\": 6.0}, {\"day\": -16, \"date\": \"2020-03-20T00:00:00\", \"hospitalized\": 30.0, \"icu\": 8.0, \"ventilated\": 8.0}, {\"day\": -15, \"date\": \"2020-03-21T00:00:00\", \"hospitalized\": 36.0, \"icu\": 9.0, \"ventilated\": 9.0}, {\"day\": -14, \"date\": \"2020-03-22T00:00:00\", \"hospitalized\": 43.0, \"icu\": 11.0, \"ventilated\": 11.0}, {\"day\": -13, \"date\": \"2020-03-23T00:00:00\", \"hospitalized\": 51.0, \"icu\": 13.0, \"ventilated\": 13.0}, {\"day\": -12, \"date\": \"2020-03-24T00:00:00\", \"hospitalized\": 61.0, \"icu\": 16.0, \"ventilated\": 16.0}, {\"day\": -11, \"date\": \"2020-03-25T00:00:00\", \"hospitalized\": 72.0, \"icu\": 19.0, \"ventilated\": 19.0}, {\"day\": -10, \"date\": \"2020-03-26T00:00:00\", \"hospitalized\": 86.0, \"icu\": 22.0, \"ventilated\": 22.0}, {\"day\": -9, \"date\": \"2020-03-27T00:00:00\", \"hospitalized\": 102.0, \"icu\": 27.0, \"ventilated\": 27.0}, {\"day\": -8, \"date\": \"2020-03-28T00:00:00\", \"hospitalized\": 122.0, \"icu\": 32.0, \"ventilated\": 32.0}, {\"day\": -7, \"date\": \"2020-03-29T00:00:00\", \"hospitalized\": 145.0, \"icu\": 38.0, \"ventilated\": 38.0}, {\"day\": -6, \"date\": \"2020-03-30T00:00:00\", \"hospitalized\": 172.0, \"icu\": 45.0, \"ventilated\": 45.0}, {\"day\": -5, \"date\": \"2020-03-31T00:00:00\", \"hospitalized\": 205.0, \"icu\": 54.0, \"ventilated\": 54.0}, {\"day\": -4, \"date\": \"2020-04-01T00:00:00\", \"hospitalized\": 243.0, \"icu\": 64.0, \"ventilated\": 64.0}, {\"day\": -3, \"date\": \"2020-04-02T00:00:00\", \"hospitalized\": 290.0, \"icu\": 77.0, \"ventilated\": 77.0}, {\"day\": -2, \"date\": \"2020-04-03T00:00:00\", \"hospitalized\": 344.0, \"icu\": 91.0, \"ventilated\": 91.0}, {\"day\": -1, \"date\": \"2020-04-04T00:00:00\", \"hospitalized\": 410.0, \"icu\": 109.0, \"ventilated\": 109.0}, {\"day\": 0, \"date\": \"2020-04-05T00:00:00\", \"hospitalized\": 487.0, \"icu\": 129.0, \"ventilated\": 129.0}, {\"day\": 1, \"date\": \"2020-04-06T00:00:00\", \"hospitalized\": 557.0, \"icu\": 148.0, \"ventilated\": 148.0}, {\"day\": 2, \"date\": \"2020-04-07T00:00:00\", \"hospitalized\": 635.0, \"icu\": 169.0, \"ventilated\": 169.0}, {\"day\": 3, \"date\": \"2020-04-08T00:00:00\", \"hospitalized\": 723.0, \"icu\": 193.0, \"ventilated\": 193.0}, {\"day\": 4, \"date\": \"2020-04-09T00:00:00\", \"hospitalized\": 821.0, \"icu\": 220.0, \"ventilated\": 220.0}, {\"day\": 5, \"date\": \"2020-04-10T00:00:00\", \"hospitalized\": 931.0, \"icu\": 251.0, \"ventilated\": 251.0}, {\"day\": 6, \"date\": \"2020-04-11T00:00:00\", \"hospitalized\": 1054.0, \"icu\": 285.0, \"ventilated\": 285.0}, {\"day\": 7, \"date\": \"2020-04-12T00:00:00\", \"hospitalized\": 1191.0, \"icu\": 323.0, \"ventilated\": 323.0}, {\"day\": 8, \"date\": \"2020-04-13T00:00:00\", \"hospitalized\": 1344.0, \"icu\": 366.0, \"ventilated\": 366.0}, {\"day\": 9, \"date\": \"2020-04-14T00:00:00\", \"hospitalized\": 1514.0, \"icu\": 415.0, \"ventilated\": 415.0}, {\"day\": 10, \"date\": \"2020-04-15T00:00:00\", \"hospitalized\": 1703.0, \"icu\": 469.0, \"ventilated\": 469.0}, {\"day\": 11, \"date\": \"2020-04-16T00:00:00\", \"hospitalized\": 1936.0, \"icu\": 530.0, \"ventilated\": 530.0}, {\"day\": 12, \"date\": \"2020-04-17T00:00:00\", \"hospitalized\": 2200.0, \"icu\": 597.0, \"ventilated\": 597.0}, {\"day\": 13, \"date\": \"2020-04-18T00:00:00\", \"hospitalized\": 2499.0, \"icu\": 679.0, \"ventilated\": 679.0}, {\"day\": 14, \"date\": \"2020-04-19T00:00:00\", \"hospitalized\": 2839.0, \"icu\": 771.0, \"ventilated\": 771.0}, {\"day\": 15, \"date\": \"2020-04-20T00:00:00\", \"hospitalized\": 3225.0, \"icu\": 876.0, \"ventilated\": 876.0}, {\"day\": 16, \"date\": \"2020-04-21T00:00:00\", \"hospitalized\": 3662.0, \"icu\": 995.0, \"ventilated\": 995.0}, {\"day\": 17, \"date\": \"2020-04-22T00:00:00\", \"hospitalized\": 4158.0, \"icu\": 1130.0, \"ventilated\": 1130.0}, {\"day\": 18, \"date\": \"2020-04-23T00:00:00\", \"hospitalized\": 4721.0, \"icu\": 1283.0, \"ventilated\": 1283.0}, {\"day\": 19, \"date\": \"2020-04-24T00:00:00\", \"hospitalized\": 5358.0, \"icu\": 1456.0, \"ventilated\": 1456.0}, {\"day\": 20, \"date\": \"2020-04-25T00:00:00\", \"hospitalized\": 6080.0, \"icu\": 1653.0, \"ventilated\": 1653.0}, {\"day\": 21, \"date\": \"2020-04-26T00:00:00\", \"hospitalized\": 6898.0, \"icu\": 1875.0, \"ventilated\": 1875.0}, {\"day\": 22, \"date\": \"2020-04-27T00:00:00\", \"hospitalized\": 7822.0, \"icu\": 2127.0, \"ventilated\": 2127.0}, {\"day\": 23, \"date\": \"2020-04-28T00:00:00\", \"hospitalized\": 8867.0, \"icu\": 2412.0, \"ventilated\": 2412.0}, {\"day\": 24, \"date\": \"2020-04-29T00:00:00\", \"hospitalized\": 10048.0, \"icu\": 2733.0, \"ventilated\": 2733.0}, {\"day\": 25, \"date\": \"2020-04-30T00:00:00\", \"hospitalized\": 11381.0, \"icu\": 3096.0, \"ventilated\": 3096.0}, {\"day\": 26, \"date\": \"2020-05-01T00:00:00\", \"hospitalized\": 12883.0, \"icu\": 3506.0, \"ventilated\": 3506.0}, {\"day\": 27, \"date\": \"2020-05-02T00:00:00\", \"hospitalized\": 14575.0, \"icu\": 3968.0, \"ventilated\": 3968.0}, {\"day\": 28, \"date\": \"2020-05-03T00:00:00\", \"hospitalized\": 16478.0, \"icu\": 4487.0, \"ventilated\": 4487.0}, {\"day\": 29, \"date\": \"2020-05-04T00:00:00\", \"hospitalized\": 18616.0, \"icu\": 5071.0, \"ventilated\": 5071.0}, {\"day\": 30, \"date\": \"2020-05-05T00:00:00\", \"hospitalized\": 21012.0, \"icu\": 5726.0, \"ventilated\": 5726.0}, {\"day\": 31, \"date\": \"2020-05-06T00:00:00\", \"hospitalized\": 23694.0, \"icu\": 6459.0, \"ventilated\": 6459.0}, {\"day\": 32, \"date\": \"2020-05-07T00:00:00\", \"hospitalized\": 26688.0, \"icu\": 7279.0, \"ventilated\": 7279.0}, {\"day\": 33, \"date\": \"2020-05-08T00:00:00\", \"hospitalized\": 30025.0, \"icu\": 8193.0, \"ventilated\": 8193.0}, {\"day\": 34, \"date\": \"2020-05-09T00:00:00\", \"hospitalized\": 33731.0, \"icu\": 9211.0, \"ventilated\": 9211.0}, {\"day\": 35, \"date\": \"2020-05-10T00:00:00\", \"hospitalized\": 37836.0, \"icu\": 10339.0, \"ventilated\": 10339.0}, {\"day\": 36, \"date\": \"2020-05-11T00:00:00\", \"hospitalized\": 42368.0, \"icu\": 11586.0, \"ventilated\": 11586.0}, {\"day\": 37, \"date\": \"2020-05-12T00:00:00\", \"hospitalized\": 47350.0, \"icu\": 12960.0, \"ventilated\": 12960.0}, {\"day\": 38, \"date\": \"2020-05-13T00:00:00\", \"hospitalized\": 52804.0, \"icu\": 14467.0, \"ventilated\": 14467.0}, {\"day\": 39, \"date\": \"2020-05-14T00:00:00\", \"hospitalized\": 58745.0, \"icu\": 16113.0, \"ventilated\": 16113.0}, {\"day\": 40, \"date\": \"2020-05-15T00:00:00\", \"hospitalized\": 65182.0, \"icu\": 17902.0, \"ventilated\": 17902.0}, {\"day\": 41, \"date\": \"2020-05-16T00:00:00\", \"hospitalized\": 72111.0, \"icu\": 19833.0, \"ventilated\": 19833.0}, {\"day\": 42, \"date\": \"2020-05-17T00:00:00\", \"hospitalized\": 79519.0, \"icu\": 21906.0, \"ventilated\": 21906.0}, {\"day\": 43, \"date\": \"2020-05-18T00:00:00\", \"hospitalized\": 87379.0, \"icu\": 24115.0, \"ventilated\": 24115.0}, {\"day\": 44, \"date\": \"2020-05-19T00:00:00\", \"hospitalized\": 95643.0, \"icu\": 26449.0, \"ventilated\": 26449.0}, {\"day\": 45, \"date\": \"2020-05-20T00:00:00\", \"hospitalized\": 104249.0, \"icu\": 28895.0, \"ventilated\": 28895.0}, {\"day\": 46, \"date\": \"2020-05-21T00:00:00\", \"hospitalized\": 113111.0, \"icu\": 31431.0, \"ventilated\": 31431.0}, {\"day\": 47, \"date\": \"2020-05-22T00:00:00\", \"hospitalized\": 122125.0, \"icu\": 34032.0, \"ventilated\": 34032.0}, {\"day\": 48, \"date\": \"2020-05-23T00:00:00\", \"hospitalized\": 131164.0, \"icu\": 36666.0, \"ventilated\": 36666.0}, {\"day\": 49, \"date\": \"2020-05-24T00:00:00\", \"hospitalized\": 140083.0, \"icu\": 39296.0, \"ventilated\": 39296.0}, {\"day\": 50, \"date\": \"2020-05-25T00:00:00\", \"hospitalized\": 148720.0, \"icu\": 41880.0, \"ventilated\": 41880.0}, {\"day\": 51, \"date\": \"2020-05-26T00:00:00\", \"hospitalized\": 156902.0, \"icu\": 44372.0, \"ventilated\": 44372.0}, {\"day\": 52, \"date\": \"2020-05-27T00:00:00\", \"hospitalized\": 164453.0, \"icu\": 46724.0, \"ventilated\": 46724.0}, {\"day\": 53, \"date\": \"2020-05-28T00:00:00\", \"hospitalized\": 171195.0, \"icu\": 48886.0, \"ventilated\": 48886.0}, {\"day\": 54, \"date\": \"2020-05-29T00:00:00\", \"hospitalized\": 176962.0, \"icu\": 50810.0, \"ventilated\": 50810.0}, {\"day\": 55, \"date\": \"2020-05-30T00:00:00\", \"hospitalized\": 181606.0, \"icu\": 52452.0, \"ventilated\": 52452.0}, {\"day\": 56, \"date\": \"2020-05-31T00:00:00\", \"hospitalized\": 185006.0, \"icu\": 53772.0, \"ventilated\": 53772.0}, {\"day\": 57, \"date\": \"2020-06-01T00:00:00\", \"hospitalized\": 187072.0, \"icu\": 54738.0, \"ventilated\": 54738.0}, {\"day\": 58, \"date\": \"2020-06-02T00:00:00\", \"hospitalized\": 187752.0, \"icu\": 55327.0, \"ventilated\": 55327.0}, {\"day\": 59, \"date\": \"2020-06-03T00:00:00\", \"hospitalized\": 187036.0, \"icu\": 55524.0, \"ventilated\": 55524.0}, {\"day\": 60, \"date\": \"2020-06-04T00:00:00\", \"hospitalized\": 184956.0, \"icu\": 55328.0, \"ventilated\": 55328.0}, {\"day\": 61, \"date\": \"2020-06-05T00:00:00\", \"hospitalized\": 181581.0, \"icu\": 54747.0, \"ventilated\": 54747.0}, {\"day\": 62, \"date\": \"2020-06-06T00:00:00\", \"hospitalized\": 177018.0, \"icu\": 53798.0, \"ventilated\": 53798.0}, {\"day\": 63, \"date\": \"2020-06-07T00:00:00\", \"hospitalized\": 171402.0, \"icu\": 52510.0, \"ventilated\": 52510.0}, {\"day\": 64, \"date\": \"2020-06-08T00:00:00\", \"hospitalized\": 164891.0, \"icu\": 50919.0, \"ventilated\": 50919.0}, {\"day\": 65, \"date\": \"2020-06-09T00:00:00\", \"hospitalized\": 157655.0, \"icu\": 49067.0, \"ventilated\": 49067.0}, {\"day\": 66, \"date\": \"2020-06-10T00:00:00\", \"hospitalized\": 149869.0, \"icu\": 46999.0, \"ventilated\": 46999.0}, {\"day\": 67, \"date\": \"2020-06-11T00:00:00\", \"hospitalized\": 141708.0, \"icu\": 44763.0, \"ventilated\": 44763.0}, {\"day\": 68, \"date\": \"2020-06-12T00:00:00\", \"hospitalized\": 133335.0, \"icu\": 42409.0, \"ventilated\": 42409.0}, {\"day\": 69, \"date\": \"2020-06-13T00:00:00\", \"hospitalized\": 124899.0, \"icu\": 39981.0, \"ventilated\": 39981.0}, {\"day\": 70, \"date\": \"2020-06-14T00:00:00\", \"hospitalized\": 116531.0, \"icu\": 37523.0, \"ventilated\": 37523.0}, {\"day\": 71, \"date\": \"2020-06-15T00:00:00\", \"hospitalized\": 108341.0, \"icu\": 35073.0, \"ventilated\": 35073.0}, {\"day\": 72, \"date\": \"2020-06-16T00:00:00\", \"hospitalized\": 100418.0, \"icu\": 32664.0, \"ventilated\": 32664.0}, {\"day\": 73, \"date\": \"2020-06-17T00:00:00\", \"hospitalized\": 92830.0, \"icu\": 30323.0, \"ventilated\": 30323.0}, {\"day\": 74, \"date\": \"2020-06-18T00:00:00\", \"hospitalized\": 85627.0, \"icu\": 28072.0, \"ventilated\": 28072.0}, {\"day\": 75, \"date\": \"2020-06-19T00:00:00\", \"hospitalized\": 78840.0, \"icu\": 25926.0, \"ventilated\": 25926.0}, {\"day\": 76, \"date\": \"2020-06-20T00:00:00\", \"hospitalized\": 72486.0, \"icu\": 23898.0, \"ventilated\": 23898.0}, {\"day\": 77, \"date\": \"2020-06-21T00:00:00\", \"hospitalized\": 66571.0, \"icu\": 21992.0, \"ventilated\": 21992.0}, {\"day\": 78, \"date\": \"2020-06-22T00:00:00\", \"hospitalized\": 61089.0, \"icu\": 20214.0, \"ventilated\": 20214.0}, {\"day\": 79, \"date\": \"2020-06-23T00:00:00\", \"hospitalized\": 56029.0, \"icu\": 18561.0, \"ventilated\": 18561.0}, {\"day\": 80, \"date\": \"2020-06-24T00:00:00\", \"hospitalized\": 51374.0, \"icu\": 17033.0, \"ventilated\": 17033.0}, {\"day\": 81, \"date\": \"2020-06-25T00:00:00\", \"hospitalized\": 47101.0, \"icu\": 15623.0, \"ventilated\": 15623.0}, {\"day\": 82, \"date\": \"2020-06-26T00:00:00\", \"hospitalized\": 43188.0, \"icu\": 14328.0, \"ventilated\": 14328.0}, {\"day\": 83, \"date\": \"2020-06-27T00:00:00\", \"hospitalized\": 39610.0, \"icu\": 13140.0, \"ventilated\": 13140.0}, {\"day\": 84, \"date\": \"2020-06-28T00:00:00\", \"hospitalized\": 36343.0, \"icu\": 12053.0, \"ventilated\": 12053.0}, {\"day\": 85, \"date\": \"2020-06-29T00:00:00\", \"hospitalized\": 33361.0, \"icu\": 11059.0, \"ventilated\": 11059.0}, {\"day\": 86, \"date\": \"2020-06-30T00:00:00\", \"hospitalized\": 30642.0, \"icu\": 10151.0, \"ventilated\": 10151.0}, {\"day\": 87, \"date\": \"2020-07-01T00:00:00\", \"hospitalized\": 28163.0, \"icu\": 9323.0, \"ventilated\": 9323.0}, {\"day\": 88, \"date\": \"2020-07-02T00:00:00\", \"hospitalized\": 25902.0, \"icu\": 8568.0, \"ventilated\": 8568.0}, {\"day\": 89, \"date\": \"2020-07-03T00:00:00\", \"hospitalized\": 23841.0, \"icu\": 7879.0, \"ventilated\": 7879.0}, {\"day\": 90, \"date\": \"2020-07-04T00:00:00\", \"hospitalized\": 21961.0, \"icu\": 7251.0, \"ventilated\": 7251.0}, {\"day\": 91, \"date\": \"2020-07-05T00:00:00\", \"hospitalized\": 20245.0, \"icu\": 6677.0, \"ventilated\": 6677.0}, {\"day\": 92, \"date\": \"2020-07-06T00:00:00\", \"hospitalized\": 18678.0, \"icu\": 6154.0, \"ventilated\": 6154.0}, {\"day\": 93, \"date\": \"2020-07-07T00:00:00\", \"hospitalized\": 17246.0, \"icu\": 5677.0, \"ventilated\": 5677.0}, {\"day\": 94, \"date\": \"2020-07-08T00:00:00\", \"hospitalized\": 15937.0, \"icu\": 5240.0, \"ventilated\": 5240.0}, {\"day\": 95, \"date\": \"2020-07-09T00:00:00\", \"hospitalized\": 14739.0, \"icu\": 4841.0, \"ventilated\": 4841.0}, {\"day\": 96, \"date\": \"2020-07-10T00:00:00\", \"hospitalized\": 13642.0, \"icu\": 4476.0, \"ventilated\": 4476.0}, {\"day\": 97, \"date\": \"2020-07-11T00:00:00\", \"hospitalized\": 12636.0, \"icu\": 4142.0, \"ventilated\": 4142.0}, {\"day\": 98, \"date\": \"2020-07-12T00:00:00\", \"hospitalized\": 11713.0, \"icu\": 3836.0, \"ventilated\": 3836.0}, {\"day\": 99, \"date\": \"2020-07-13T00:00:00\", \"hospitalized\": 10865.0, \"icu\": 3554.0, \"ventilated\": 3554.0}, {\"day\": 100, \"date\": \"2020-07-14T00:00:00\", \"hospitalized\": 10086.0, \"icu\": 3296.0, \"ventilated\": 3296.0}, {\"day\": 101, \"date\": \"2020-07-15T00:00:00\", \"hospitalized\": 9369.0, \"icu\": 3059.0, \"ventilated\": 3059.0}, {\"day\": 102, \"date\": \"2020-07-16T00:00:00\", \"hospitalized\": 8709.0, \"icu\": 2841.0, \"ventilated\": 2841.0}, {\"day\": 103, \"date\": \"2020-07-17T00:00:00\", \"hospitalized\": 8100.0, \"icu\": 2640.0, \"ventilated\": 2640.0}, {\"day\": 104, \"date\": \"2020-07-18T00:00:00\", \"hospitalized\": 7539.0, \"icu\": 2455.0, \"ventilated\": 2455.0}, {\"day\": 105, \"date\": \"2020-07-19T00:00:00\", \"hospitalized\": 7020.0, \"icu\": 2285.0, \"ventilated\": 2285.0}, {\"day\": 106, \"date\": \"2020-07-20T00:00:00\", \"hospitalized\": 6541.0, \"icu\": 2127.0, \"ventilated\": 2127.0}, {\"day\": 107, \"date\": \"2020-07-21T00:00:00\", \"hospitalized\": 6098.0, \"icu\": 1982.0, \"ventilated\": 1982.0}, {\"day\": 108, \"date\": \"2020-07-22T00:00:00\", \"hospitalized\": 5688.0, \"icu\": 1847.0, \"ventilated\": 1847.0}, {\"day\": 109, \"date\": \"2020-07-23T00:00:00\", \"hospitalized\": 5308.0, \"icu\": 1722.0, \"ventilated\": 1722.0}, {\"day\": 110, \"date\": \"2020-07-24T00:00:00\", \"hospitalized\": 4955.0, \"icu\": 1607.0, \"ventilated\": 1607.0}, {\"day\": 111, \"date\": \"2020-07-25T00:00:00\", \"hospitalized\": 4628.0, \"icu\": 1500.0, \"ventilated\": 1500.0}, {\"day\": 112, \"date\": \"2020-07-26T00:00:00\", \"hospitalized\": 4325.0, \"icu\": 1401.0, \"ventilated\": 1401.0}, {\"day\": 113, \"date\": \"2020-07-27T00:00:00\", \"hospitalized\": 4043.0, \"icu\": 1309.0, \"ventilated\": 1309.0}, {\"day\": 114, \"date\": \"2020-07-28T00:00:00\", \"hospitalized\": 3780.0, \"icu\": 1223.0, \"ventilated\": 1223.0}, {\"day\": 115, \"date\": \"2020-07-29T00:00:00\", \"hospitalized\": 3536.0, \"icu\": 1144.0, \"ventilated\": 1144.0}, {\"day\": 116, \"date\": \"2020-07-30T00:00:00\", \"hospitalized\": 3309.0, \"icu\": 1070.0, \"ventilated\": 1070.0}, {\"day\": 117, \"date\": \"2020-07-31T00:00:00\", \"hospitalized\": 3098.0, \"icu\": 1001.0, \"ventilated\": 1001.0}, {\"day\": 118, \"date\": \"2020-08-01T00:00:00\", \"hospitalized\": 2901.0, \"icu\": 937.0, \"ventilated\": 937.0}, {\"day\": 119, \"date\": \"2020-08-02T00:00:00\", \"hospitalized\": 2717.0, \"icu\": 877.0, \"ventilated\": 877.0}, {\"day\": 120, \"date\": \"2020-08-03T00:00:00\", \"hospitalized\": 2546.0, \"icu\": 822.0, \"ventilated\": 822.0}, {\"day\": 121, \"date\": \"2020-08-04T00:00:00\", \"hospitalized\": 2386.0, \"icu\": 770.0, \"ventilated\": 770.0}, {\"day\": 122, \"date\": \"2020-08-05T00:00:00\", \"hospitalized\": 2236.0, \"icu\": 721.0, \"ventilated\": 721.0}, {\"day\": 123, \"date\": \"2020-08-06T00:00:00\", \"hospitalized\": 2097.0, \"icu\": 676.0, \"ventilated\": 676.0}, {\"day\": 124, \"date\": \"2020-08-07T00:00:00\", \"hospitalized\": 1966.0, \"icu\": 634.0, \"ventilated\": 634.0}, {\"day\": 125, \"date\": \"2020-08-08T00:00:00\", \"hospitalized\": 1844.0, \"icu\": 594.0, \"ventilated\": 594.0}, {\"day\": 126, \"date\": \"2020-08-09T00:00:00\", \"hospitalized\": 1730.0, \"icu\": 557.0, \"ventilated\": 557.0}, {\"day\": 127, \"date\": \"2020-08-10T00:00:00\", \"hospitalized\": 1624.0, \"icu\": 523.0, \"ventilated\": 523.0}, {\"day\": 128, \"date\": \"2020-08-11T00:00:00\", \"hospitalized\": 1524.0, \"icu\": 491.0, \"ventilated\": 491.0}, {\"day\": 129, \"date\": \"2020-08-12T00:00:00\", \"hospitalized\": 1431.0, \"icu\": 460.0, \"ventilated\": 460.0}, {\"day\": 130, \"date\": \"2020-08-13T00:00:00\", \"hospitalized\": 1343.0, \"icu\": 432.0, \"ventilated\": 432.0}, {\"day\": 131, \"date\": \"2020-08-14T00:00:00\", \"hospitalized\": 1261.0, \"icu\": 406.0, \"ventilated\": 406.0}, {\"day\": 132, \"date\": \"2020-08-15T00:00:00\", \"hospitalized\": 1184.0, \"icu\": 381.0, \"ventilated\": 381.0}, {\"day\": 133, \"date\": \"2020-08-16T00:00:00\", \"hospitalized\": 1112.0, \"icu\": 358.0, \"ventilated\": 358.0}, {\"day\": 134, \"date\": \"2020-08-17T00:00:00\", \"hospitalized\": 1045.0, \"icu\": 336.0, \"ventilated\": 336.0}, {\"day\": 135, \"date\": \"2020-08-18T00:00:00\", \"hospitalized\": 981.0, \"icu\": 315.0, \"ventilated\": 315.0}, {\"day\": 136, \"date\": \"2020-08-19T00:00:00\", \"hospitalized\": 922.0, \"icu\": 296.0, \"ventilated\": 296.0}, {\"day\": 137, \"date\": \"2020-08-20T00:00:00\", \"hospitalized\": 866.0, \"icu\": 278.0, \"ventilated\": 278.0}, {\"day\": 138, \"date\": \"2020-08-21T00:00:00\", \"hospitalized\": 814.0, \"icu\": 261.0, \"ventilated\": 261.0}, {\"day\": 139, \"date\": \"2020-08-22T00:00:00\", \"hospitalized\": 765.0, \"icu\": 246.0, \"ventilated\": 246.0}, {\"day\": 140, \"date\": \"2020-08-23T00:00:00\", \"hospitalized\": 719.0, \"icu\": 231.0, \"ventilated\": 231.0}, {\"day\": 141, \"date\": \"2020-08-24T00:00:00\", \"hospitalized\": 676.0, \"icu\": 217.0, \"ventilated\": 217.0}, {\"day\": 142, \"date\": \"2020-08-25T00:00:00\", \"hospitalized\": 636.0, \"icu\": 204.0, \"ventilated\": 204.0}, {\"day\": 143, \"date\": \"2020-08-26T00:00:00\", \"hospitalized\": 597.0, \"icu\": 192.0, \"ventilated\": 192.0}, {\"day\": 144, \"date\": \"2020-08-27T00:00:00\", \"hospitalized\": 562.0, \"icu\": 180.0, \"ventilated\": 180.0}, {\"day\": 145, \"date\": \"2020-08-28T00:00:00\", \"hospitalized\": 528.0, \"icu\": 169.0, \"ventilated\": 169.0}, {\"day\": 146, \"date\": \"2020-08-29T00:00:00\", \"hospitalized\": 497.0, \"icu\": 159.0, \"ventilated\": 159.0}, {\"day\": 147, \"date\": \"2020-08-30T00:00:00\", \"hospitalized\": 467.0, \"icu\": 150.0, \"ventilated\": 150.0}, {\"day\": 148, \"date\": \"2020-08-31T00:00:00\", \"hospitalized\": 439.0, \"icu\": 141.0, \"ventilated\": 141.0}, {\"day\": 149, \"date\": \"2020-09-01T00:00:00\", \"hospitalized\": 413.0, \"icu\": 132.0, \"ventilated\": 132.0}, {\"day\": 150, \"date\": \"2020-09-02T00:00:00\", \"hospitalized\": 388.0, \"icu\": 124.0, \"ventilated\": 124.0}, {\"day\": 151, \"date\": \"2020-09-03T00:00:00\", \"hospitalized\": 365.0, \"icu\": 117.0, \"ventilated\": 117.0}, {\"day\": 152, \"date\": \"2020-09-04T00:00:00\", \"hospitalized\": 344.0, \"icu\": 110.0, \"ventilated\": 110.0}, {\"day\": 153, \"date\": \"2020-09-05T00:00:00\", \"hospitalized\": 323.0, \"icu\": 103.0, \"ventilated\": 103.0}, {\"day\": 154, \"date\": \"2020-09-06T00:00:00\", \"hospitalized\": 304.0, \"icu\": 97.0, \"ventilated\": 97.0}, {\"day\": 155, \"date\": \"2020-09-07T00:00:00\", \"hospitalized\": 286.0, \"icu\": 91.0, \"ventilated\": 91.0}, {\"day\": 156, \"date\": \"2020-09-08T00:00:00\", \"hospitalized\": 269.0, \"icu\": 86.0, \"ventilated\": 86.0}, {\"day\": 157, \"date\": \"2020-09-09T00:00:00\", \"hospitalized\": 253.0, \"icu\": 81.0, \"ventilated\": 81.0}, {\"day\": 158, \"date\": \"2020-09-10T00:00:00\", \"hospitalized\": 238.0, \"icu\": 76.0, \"ventilated\": 76.0}, {\"day\": 159, \"date\": \"2020-09-11T00:00:00\", \"hospitalized\": 224.0, \"icu\": 72.0, \"ventilated\": 72.0}, {\"day\": 160, \"date\": \"2020-09-12T00:00:00\", \"hospitalized\": 211.0, \"icu\": 67.0, \"ventilated\": 67.0}, {\"day\": 161, \"date\": \"2020-09-13T00:00:00\", \"hospitalized\": 198.0, \"icu\": 63.0, \"ventilated\": 63.0}, {\"day\": 162, \"date\": \"2020-09-14T00:00:00\", \"hospitalized\": 186.0, \"icu\": 59.0, \"ventilated\": 59.0}, {\"day\": 163, \"date\": \"2020-09-15T00:00:00\", \"hospitalized\": 175.0, \"icu\": 56.0, \"ventilated\": 56.0}, {\"day\": 164, \"date\": \"2020-09-16T00:00:00\", \"hospitalized\": 165.0, \"icu\": 53.0, \"ventilated\": 53.0}, {\"day\": 165, \"date\": \"2020-09-17T00:00:00\", \"hospitalized\": 155.0, \"icu\": 49.0, \"ventilated\": 49.0}, {\"day\": 166, \"date\": \"2020-09-18T00:00:00\", \"hospitalized\": 146.0, \"icu\": 47.0, \"ventilated\": 47.0}, {\"day\": 167, \"date\": \"2020-09-19T00:00:00\", \"hospitalized\": 137.0, \"icu\": 44.0, \"ventilated\": 44.0}, {\"day\": 168, \"date\": \"2020-09-20T00:00:00\", \"hospitalized\": 129.0, \"icu\": 41.0, \"ventilated\": 41.0}, {\"day\": 169, \"date\": \"2020-09-21T00:00:00\", \"hospitalized\": 122.0, \"icu\": 39.0, \"ventilated\": 39.0}, {\"day\": 170, \"date\": \"2020-09-22T00:00:00\", \"hospitalized\": 114.0, \"icu\": 36.0, \"ventilated\": 36.0}, {\"day\": 171, \"date\": \"2020-09-23T00:00:00\", \"hospitalized\": 108.0, \"icu\": 34.0, \"ventilated\": 34.0}, {\"day\": 172, \"date\": \"2020-09-24T00:00:00\", \"hospitalized\": 101.0, \"icu\": 32.0, \"ventilated\": 32.0}, {\"day\": 173, \"date\": \"2020-09-25T00:00:00\", \"hospitalized\": 95.0, \"icu\": 30.0, \"ventilated\": 30.0}, {\"day\": 174, \"date\": \"2020-09-26T00:00:00\", \"hospitalized\": 90.0, \"icu\": 28.0, \"ventilated\": 28.0}, {\"day\": 175, \"date\": \"2020-09-27T00:00:00\", \"hospitalized\": 84.0, \"icu\": 27.0, \"ventilated\": 27.0}, {\"day\": 176, \"date\": \"2020-09-28T00:00:00\", \"hospitalized\": 79.0, \"icu\": 25.0, \"ventilated\": 25.0}, {\"day\": 177, \"date\": \"2020-09-29T00:00:00\", \"hospitalized\": 75.0, \"icu\": 24.0, \"ventilated\": 24.0}, {\"day\": 178, \"date\": \"2020-09-30T00:00:00\", \"hospitalized\": 70.0, \"icu\": 22.0, \"ventilated\": 22.0}, {\"day\": 179, \"date\": \"2020-10-01T00:00:00\", \"hospitalized\": 66.0, \"icu\": 21.0, \"ventilated\": 21.0}, {\"day\": 180, \"date\": \"2020-10-02T00:00:00\", \"hospitalized\": 62.0, \"icu\": 20.0, \"ventilated\": 20.0}, {\"day\": 181, \"date\": \"2020-10-03T00:00:00\", \"hospitalized\": 58.0, \"icu\": 18.0, \"ventilated\": 18.0}, {\"day\": 182, \"date\": \"2020-10-04T00:00:00\", \"hospitalized\": 55.0, \"icu\": 17.0, \"ventilated\": 17.0}, {\"day\": 183, \"date\": \"2020-10-05T00:00:00\", \"hospitalized\": 52.0, \"icu\": 16.0, \"ventilated\": 16.0}, {\"day\": 184, \"date\": \"2020-10-06T00:00:00\", \"hospitalized\": 49.0, \"icu\": 15.0, \"ventilated\": 15.0}, {\"day\": 185, \"date\": \"2020-10-07T00:00:00\", \"hospitalized\": 46.0, \"icu\": 14.0, \"ventilated\": 14.0}, {\"day\": 186, \"date\": \"2020-10-08T00:00:00\", \"hospitalized\": 43.0, \"icu\": 13.0, \"ventilated\": 13.0}, {\"day\": 187, \"date\": \"2020-10-09T00:00:00\", \"hospitalized\": 40.0, \"icu\": 13.0, \"ventilated\": 13.0}, {\"day\": 188, \"date\": \"2020-10-10T00:00:00\", \"hospitalized\": 38.0, \"icu\": 12.0, \"ventilated\": 12.0}, {\"day\": 189, \"date\": \"2020-10-11T00:00:00\", \"hospitalized\": 36.0, \"icu\": 11.0, \"ventilated\": 11.0}, {\"day\": 190, \"date\": \"2020-10-12T00:00:00\", \"hospitalized\": 34.0, \"icu\": 10.0, \"ventilated\": 10.0}, {\"day\": 191, \"date\": \"2020-10-13T00:00:00\", \"hospitalized\": 32.0, \"icu\": 10.0, \"ventilated\": 10.0}, {\"day\": 192, \"date\": \"2020-10-14T00:00:00\", \"hospitalized\": 30.0, \"icu\": 9.0, \"ventilated\": 9.0}, {\"day\": 193, \"date\": \"2020-10-15T00:00:00\", \"hospitalized\": 28.0, \"icu\": 9.0, \"ventilated\": 9.0}, {\"day\": 194, \"date\": \"2020-10-16T00:00:00\", \"hospitalized\": 26.0, \"icu\": 8.0, \"ventilated\": 8.0}, {\"day\": 195, \"date\": \"2020-10-17T00:00:00\", \"hospitalized\": 25.0, \"icu\": 8.0, \"ventilated\": 8.0}, {\"day\": 196, \"date\": \"2020-10-18T00:00:00\", \"hospitalized\": 23.0, \"icu\": 7.0, \"ventilated\": 7.0}, {\"day\": 197, \"date\": \"2020-10-19T00:00:00\", \"hospitalized\": 22.0, \"icu\": 7.0, \"ventilated\": 7.0}, {\"day\": 198, \"date\": \"2020-10-20T00:00:00\", \"hospitalized\": 21.0, \"icu\": 6.0, \"ventilated\": 6.0}, {\"day\": 199, \"date\": \"2020-10-21T00:00:00\", \"hospitalized\": 19.0, \"icu\": 6.0, \"ventilated\": 6.0}, {\"day\": 200, \"date\": \"2020-10-22T00:00:00\", \"hospitalized\": 18.0, \"icu\": 5.0, \"ventilated\": 5.0}]}}, {\"mode\": \"vega-lite\"});\n",
       "</script>"
      ],
      "text/plain": [
       "alt.LayerChart(...)"
      ]
     },
     "execution_count": 17,
     "metadata": {},
     "output_type": "execute_result"
    }
   ],
   "source": [
    "# Graphique cumulatif\n",
    "\n",
    "census_chart = build_census_chart(alt=alt, census_floor_df=m.census_floor_df, max_y_axis=p.max_y_axis)\n",
    "census_chart"
   ]
  }
 ],
 "metadata": {
  "kernelspec": {
   "display_name": "Chime",
   "language": "python",
   "name": "chime"
  },
  "language_info": {
   "codemirror_mode": {
    "name": "ipython",
    "version": 3
   },
   "file_extension": ".py",
   "mimetype": "text/x-python",
   "name": "python",
   "nbconvert_exporter": "python",
   "pygments_lexer": "ipython3",
   "version": "3.7.5"
  }
 },
 "nbformat": 4,
 "nbformat_minor": 4
}
