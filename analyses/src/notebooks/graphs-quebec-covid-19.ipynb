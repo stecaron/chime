{
 "cells": [
  {
   "cell_type": "markdown",
   "metadata": {},
   "source": [
    "# COVID-19 QC\n",
    "\n",
    "Dans ce document, nous voulons utiliser le modèle [SIR](https://code-for-philly.gitbook.io/chime/what-is-chime/sir-modeling) développé par *Peen Medecine* et l'appliquer à la réalité du Québec."
   ]
  },
  {
   "cell_type": "code",
   "execution_count": 29,
   "metadata": {},
   "outputs": [],
   "source": [
    "import os\n",
    "import altair as alt\n",
    "import streamlit as st\n",
    "from datetime import date\n",
    "\n",
    "#os.chdir(\"../../..\")\n",
    "from src.penn_chime.charts import (\n",
    "    build_admits_chart,\n",
    "    build_census_chart,\n",
    "    build_descriptions,\n",
    "    build_sim_sir_w_date_chart,\n",
    "    build_table,\n",
    ")\n",
    "from src.penn_chime.constants import DATE_FORMAT\n",
    "from src.penn_chime.parameters import Parameters\n",
    "from src.penn_chime.parameters import Parameters, Regions, Disposition\n",
    "\n",
    "from src.penn_chime.models import SimSirModel\n",
    "from src.penn_chime.settings import get_defaults\n",
    "from src.penn_chime.presentation import (\n",
    "    display_download_link,\n",
    "    display_header,\n",
    "    display_sidebar,\n",
    "    hide_menu_style,\n",
    "    write_definitions,\n",
    "    write_footer,\n",
    ")"
   ]
  },
  {
   "cell_type": "code",
   "execution_count": 45,
   "metadata": {},
   "outputs": [],
   "source": [
    "# Parametres propres au Quebec\n",
    "\n",
    "QC_POPULATION = 8500000\n",
    "QC_MARKET_SHARE = 1 # Couverture du systeme de santé\n",
    "\n",
    "QC_DATE_PREMIER_HOSP = '2019-03-15'\n",
    "\n",
    "QC_NB_JOURS_HOSPITALISATION = 10\n",
    "QC_NB_JOURS_SI = 12\n",
    "\n",
    "QC_POURC_HOSPITALISATION = 0.08\n",
    "QC_POURC_SI = 0.02\n",
    "QC_POURC_VENTILATEUR = QC_POURC_SI"
   ]
  },
  {
   "cell_type": "code",
   "execution_count": 51,
   "metadata": {},
   "outputs": [],
   "source": [
    "# Change the default settings\n",
    "params = Parameters(\n",
    "        population=QC_POPULATION,\n",
    "        current_hospitalized=69,\n",
    "        date_first_hospitalized=date(2020,3,7),\n",
    "        doubling_time=4.0,\n",
    "        hospitalized=Disposition(QC_POURC_HOSPITALISATION, QC_NB_JOURS_HOSPITALISATION),\n",
    "        icu=Disposition(QC_POURC_SI, QC_NB_JOURS_SI),\n",
    "        infectious_days=14,\n",
    "        market_share=QC_MARKET_SHARE,\n",
    "        n_days=200,\n",
    "        mitigation_date=date.today(),\n",
    "        relative_contact_rate=0.3,\n",
    "        ventilated=Disposition(QC_POURC_VENTILATEUR, QC_NB_JOURS_SI),\n",
    "    )"
   ]
  },
  {
   "cell_type": "code",
   "execution_count": 52,
   "metadata": {},
   "outputs": [
    {
     "name": "stdout",
     "output_type": "stream",
     "text": [
      "2020-04-05 10:13:48,830 - src.penn_chime.models - INFO - Using doubling_time: 4.0\n"
     ]
    },
    {
     "name": "stderr",
     "output_type": "stream",
     "text": [
      "Using doubling_time: 4.0\n"
     ]
    },
    {
     "name": "stdout",
     "output_type": "stream",
     "text": [
      "2020-04-05 10:13:48,871 - src.penn_chime.models - INFO - Set i_day = 24\n"
     ]
    },
    {
     "name": "stderr",
     "output_type": "stream",
     "text": [
      "Set i_day = 24\n"
     ]
    },
    {
     "name": "stdout",
     "output_type": "stream",
     "text": [
      "2020-04-05 10:13:48,874 - src.penn_chime.models - INFO - Estimated date_first_hospitalized: 2020-03-12; current_date: 2020-04-05; i_day: 24\n"
     ]
    },
    {
     "name": "stderr",
     "output_type": "stream",
     "text": [
      "Estimated date_first_hospitalized: 2020-03-12; current_date: 2020-04-05; i_day: 24\n"
     ]
    },
    {
     "name": "stdout",
     "output_type": "stream",
     "text": [
      "2020-04-05 10:13:48,876 - src.penn_chime.models - INFO - len(np.arange(-i_day, n_days+1)): 225\n"
     ]
    },
    {
     "name": "stderr",
     "output_type": "stream",
     "text": [
      "len(np.arange(-i_day, n_days+1)): 225\n"
     ]
    },
    {
     "name": "stdout",
     "output_type": "stream",
     "text": [
      "2020-04-05 10:13:48,878 - src.penn_chime.models - INFO - len(raw_df): 225\n"
     ]
    },
    {
     "name": "stderr",
     "output_type": "stream",
     "text": [
      "len(raw_df): 225\n"
     ]
    }
   ],
   "source": [
    "# Run the Penn Med SIR model\n",
    "p = display_sidebar(st, params)\n",
    "m = SimSirModel(p)"
   ]
  },
  {
   "cell_type": "code",
   "execution_count": 49,
   "metadata": {},
   "outputs": [
    {
     "data": {
      "text/html": [
       "\n",
       "<div id=\"altair-viz-4d89a3bd5294420a91d8183d05ec1ef4\"></div>\n",
       "<script type=\"text/javascript\">\n",
       "  (function(spec, embedOpt){\n",
       "    let outputDiv = document.currentScript.previousElementSibling;\n",
       "    if (outputDiv.id !== \"altair-viz-4d89a3bd5294420a91d8183d05ec1ef4\") {\n",
       "      outputDiv = document.getElementById(\"altair-viz-4d89a3bd5294420a91d8183d05ec1ef4\");\n",
       "    }\n",
       "    const paths = {\n",
       "      \"vega\": \"https://cdn.jsdelivr.net/npm//vega@5?noext\",\n",
       "      \"vega-lib\": \"https://cdn.jsdelivr.net/npm//vega-lib?noext\",\n",
       "      \"vega-lite\": \"https://cdn.jsdelivr.net/npm//vega-lite@4.8.1?noext\",\n",
       "      \"vega-embed\": \"https://cdn.jsdelivr.net/npm//vega-embed@6?noext\",\n",
       "    };\n",
       "\n",
       "    function loadScript(lib) {\n",
       "      return new Promise(function(resolve, reject) {\n",
       "        var s = document.createElement('script');\n",
       "        s.src = paths[lib];\n",
       "        s.async = true;\n",
       "        s.onload = () => resolve(paths[lib]);\n",
       "        s.onerror = () => reject(`Error loading script: ${paths[lib]}`);\n",
       "        document.getElementsByTagName(\"head\")[0].appendChild(s);\n",
       "      });\n",
       "    }\n",
       "\n",
       "    function showError(err) {\n",
       "      outputDiv.innerHTML = `<div class=\"error\" style=\"color:red;\">${err}</div>`;\n",
       "      throw err;\n",
       "    }\n",
       "\n",
       "    function displayChart(vegaEmbed) {\n",
       "      vegaEmbed(outputDiv, spec, embedOpt)\n",
       "        .catch(err => showError(`Javascript Error: ${err.message}<br>This usually means there's a typo in your chart specification. See the javascript console for the full traceback.`));\n",
       "    }\n",
       "\n",
       "    if(typeof define === \"function\" && define.amd) {\n",
       "      requirejs.config({paths});\n",
       "      require([\"vega-embed\"], displayChart, err => showError(`Error loading script: ${err.message}`));\n",
       "    } else if (typeof vegaEmbed === \"function\") {\n",
       "      displayChart(vegaEmbed);\n",
       "    } else {\n",
       "      loadScript(\"vega\")\n",
       "        .then(() => loadScript(\"vega-lite\"))\n",
       "        .then(() => loadScript(\"vega-embed\"))\n",
       "        .catch(showError)\n",
       "        .then(() => displayChart(vegaEmbed));\n",
       "    }\n",
       "  })({\"config\": {\"view\": {\"continuousWidth\": 400, \"continuousHeight\": 300}, \"legend\": {\"orient\": \"bottom\"}}, \"layer\": [{\"mark\": {\"type\": \"line\", \"point\": true}, \"encoding\": {\"color\": {\"type\": \"nominal\", \"field\": \"key\"}, \"tooltip\": [{\"type\": \"temporal\", \"field\": \"date\"}, {\"type\": \"quantitative\", \"field\": \"value\", \"format\": \".0f\", \"title\": \"Admit\"}, {\"type\": \"nominal\", \"field\": \"key\"}], \"x\": {\"type\": \"temporal\", \"axis\": {\"format\": \"%b, %d\"}, \"field\": \"date\", \"title\": \"Date\"}, \"y\": {\"type\": \"quantitative\", \"field\": \"value\", \"scale\": {}, \"title\": \"Daily admissions\"}}, \"selection\": {\"selector014\": {\"type\": \"interval\", \"bind\": \"scales\", \"encodings\": [\"x\", \"y\"]}}, \"transform\": [{\"fold\": [\"hospitalized\", \"icu\", \"ventilated\"]}]}, {\"mark\": {\"type\": \"rule\", \"color\": \"black\", \"opacity\": 0.35, \"size\": 2}, \"encoding\": {\"x\": {\"type\": \"temporal\", \"axis\": {\"format\": \"%b, %d\"}, \"field\": \"date\", \"title\": \"Date\"}}, \"transform\": [{\"filter\": \"(datum.day === 0)\"}]}], \"data\": {\"name\": \"data-7384f7292887fa12a4851099521685e0\"}, \"$schema\": \"https://vega.github.io/schema/vega-lite/v4.8.1.json\", \"datasets\": {\"data-7384f7292887fa12a4851099521685e0\": [{\"day\": -24, \"date\": \"2020-03-12T00:00:00\", \"hospitalized\": null, \"icu\": null, \"ventilated\": null}, {\"day\": -23, \"date\": \"2020-03-13T00:00:00\", \"hospitalized\": 0.0, \"icu\": 0.0, \"ventilated\": 0.0}, {\"day\": -22, \"date\": \"2020-03-14T00:00:00\", \"hospitalized\": 0.0, \"icu\": 0.0, \"ventilated\": 0.0}, {\"day\": -21, \"date\": \"2020-03-15T00:00:00\", \"hospitalized\": 0.0, \"icu\": 0.0, \"ventilated\": 0.0}, {\"day\": -20, \"date\": \"2020-03-16T00:00:00\", \"hospitalized\": 0.0, \"icu\": 0.0, \"ventilated\": 0.0}, {\"day\": -19, \"date\": \"2020-03-17T00:00:00\", \"hospitalized\": 0.0, \"icu\": 0.0, \"ventilated\": 0.0}, {\"day\": -18, \"date\": \"2020-03-18T00:00:00\", \"hospitalized\": 0.0, \"icu\": 0.0, \"ventilated\": 0.0}, {\"day\": -17, \"date\": \"2020-03-19T00:00:00\", \"hospitalized\": 0.0, \"icu\": 0.0, \"ventilated\": 0.0}, {\"day\": -16, \"date\": \"2020-03-20T00:00:00\", \"hospitalized\": 0.0, \"icu\": 0.0, \"ventilated\": 0.0}, {\"day\": -15, \"date\": \"2020-03-21T00:00:00\", \"hospitalized\": 1.0, \"icu\": 0.0, \"ventilated\": 0.0}, {\"day\": -14, \"date\": \"2020-03-22T00:00:00\", \"hospitalized\": 1.0, \"icu\": 0.0, \"ventilated\": 0.0}, {\"day\": -13, \"date\": \"2020-03-23T00:00:00\", \"hospitalized\": 1.0, \"icu\": 0.0, \"ventilated\": 0.0}, {\"day\": -12, \"date\": \"2020-03-24T00:00:00\", \"hospitalized\": 1.0, \"icu\": 0.0, \"ventilated\": 0.0}, {\"day\": -11, \"date\": \"2020-03-25T00:00:00\", \"hospitalized\": 2.0, \"icu\": 0.0, \"ventilated\": 0.0}, {\"day\": -10, \"date\": \"2020-03-26T00:00:00\", \"hospitalized\": 2.0, \"icu\": 0.0, \"ventilated\": 0.0}, {\"day\": -9, \"date\": \"2020-03-27T00:00:00\", \"hospitalized\": 2.0, \"icu\": 0.0, \"ventilated\": 0.0}, {\"day\": -8, \"date\": \"2020-03-28T00:00:00\", \"hospitalized\": 3.0, \"icu\": 1.0, \"ventilated\": 1.0}, {\"day\": -7, \"date\": \"2020-03-29T00:00:00\", \"hospitalized\": 4.0, \"icu\": 1.0, \"ventilated\": 1.0}, {\"day\": -6, \"date\": \"2020-03-30T00:00:00\", \"hospitalized\": 4.0, \"icu\": 1.0, \"ventilated\": 1.0}, {\"day\": -5, \"date\": \"2020-03-31T00:00:00\", \"hospitalized\": 5.0, \"icu\": 1.0, \"ventilated\": 1.0}, {\"day\": -4, \"date\": \"2020-04-01T00:00:00\", \"hospitalized\": 7.0, \"icu\": 2.0, \"ventilated\": 2.0}, {\"day\": -3, \"date\": \"2020-04-02T00:00:00\", \"hospitalized\": 8.0, \"icu\": 2.0, \"ventilated\": 2.0}, {\"day\": -2, \"date\": \"2020-04-03T00:00:00\", \"hospitalized\": 9.0, \"icu\": 2.0, \"ventilated\": 2.0}, {\"day\": -1, \"date\": \"2020-04-04T00:00:00\", \"hospitalized\": 11.0, \"icu\": 3.0, \"ventilated\": 3.0}, {\"day\": 0, \"date\": \"2020-04-05T00:00:00\", \"hospitalized\": 14.0, \"icu\": 4.0, \"ventilated\": 4.0}, {\"day\": 1, \"date\": \"2020-04-06T00:00:00\", \"hospitalized\": 11.0, \"icu\": 3.0, \"ventilated\": 3.0}, {\"day\": 2, \"date\": \"2020-04-07T00:00:00\", \"hospitalized\": 12.0, \"icu\": 3.0, \"ventilated\": 3.0}, {\"day\": 3, \"date\": \"2020-04-08T00:00:00\", \"hospitalized\": 14.0, \"icu\": 4.0, \"ventilated\": 4.0}, {\"day\": 4, \"date\": \"2020-04-09T00:00:00\", \"hospitalized\": 16.0, \"icu\": 4.0, \"ventilated\": 4.0}, {\"day\": 5, \"date\": \"2020-04-10T00:00:00\", \"hospitalized\": 17.0, \"icu\": 5.0, \"ventilated\": 5.0}, {\"day\": 6, \"date\": \"2020-04-11T00:00:00\", \"hospitalized\": 19.0, \"icu\": 5.0, \"ventilated\": 5.0}, {\"day\": 7, \"date\": \"2020-04-12T00:00:00\", \"hospitalized\": 21.0, \"icu\": 6.0, \"ventilated\": 6.0}, {\"day\": 8, \"date\": \"2020-04-13T00:00:00\", \"hospitalized\": 24.0, \"icu\": 6.0, \"ventilated\": 6.0}, {\"day\": 9, \"date\": \"2020-04-14T00:00:00\", \"hospitalized\": 27.0, \"icu\": 7.0, \"ventilated\": 7.0}, {\"day\": 10, \"date\": \"2020-04-15T00:00:00\", \"hospitalized\": 30.0, \"icu\": 8.0, \"ventilated\": 8.0}, {\"day\": 11, \"date\": \"2020-04-16T00:00:00\", \"hospitalized\": 33.0, \"icu\": 9.0, \"ventilated\": 9.0}, {\"day\": 12, \"date\": \"2020-04-17T00:00:00\", \"hospitalized\": 37.0, \"icu\": 10.0, \"ventilated\": 10.0}, {\"day\": 13, \"date\": \"2020-04-18T00:00:00\", \"hospitalized\": 41.0, \"icu\": 11.0, \"ventilated\": 11.0}, {\"day\": 14, \"date\": \"2020-04-19T00:00:00\", \"hospitalized\": 45.0, \"icu\": 13.0, \"ventilated\": 13.0}, {\"day\": 15, \"date\": \"2020-04-20T00:00:00\", \"hospitalized\": 50.0, \"icu\": 14.0, \"ventilated\": 14.0}, {\"day\": 16, \"date\": \"2020-04-21T00:00:00\", \"hospitalized\": 56.0, \"icu\": 16.0, \"ventilated\": 16.0}, {\"day\": 17, \"date\": \"2020-04-22T00:00:00\", \"hospitalized\": 62.0, \"icu\": 17.0, \"ventilated\": 17.0}, {\"day\": 18, \"date\": \"2020-04-23T00:00:00\", \"hospitalized\": 69.0, \"icu\": 19.0, \"ventilated\": 19.0}, {\"day\": 19, \"date\": \"2020-04-24T00:00:00\", \"hospitalized\": 77.0, \"icu\": 22.0, \"ventilated\": 22.0}, {\"day\": 20, \"date\": \"2020-04-25T00:00:00\", \"hospitalized\": 86.0, \"icu\": 24.0, \"ventilated\": 24.0}, {\"day\": 21, \"date\": \"2020-04-26T00:00:00\", \"hospitalized\": 95.0, \"icu\": 27.0, \"ventilated\": 27.0}, {\"day\": 22, \"date\": \"2020-04-27T00:00:00\", \"hospitalized\": 106.0, \"icu\": 30.0, \"ventilated\": 30.0}, {\"day\": 23, \"date\": \"2020-04-28T00:00:00\", \"hospitalized\": 117.0, \"icu\": 33.0, \"ventilated\": 33.0}, {\"day\": 24, \"date\": \"2020-04-29T00:00:00\", \"hospitalized\": 130.0, \"icu\": 37.0, \"ventilated\": 37.0}, {\"day\": 25, \"date\": \"2020-04-30T00:00:00\", \"hospitalized\": 145.0, \"icu\": 41.0, \"ventilated\": 41.0}, {\"day\": 26, \"date\": \"2020-05-01T00:00:00\", \"hospitalized\": 161.0, \"icu\": 46.0, \"ventilated\": 46.0}, {\"day\": 27, \"date\": \"2020-05-02T00:00:00\", \"hospitalized\": 179.0, \"icu\": 51.0, \"ventilated\": 51.0}, {\"day\": 28, \"date\": \"2020-05-03T00:00:00\", \"hospitalized\": 198.0, \"icu\": 56.0, \"ventilated\": 56.0}, {\"day\": 29, \"date\": \"2020-05-04T00:00:00\", \"hospitalized\": 220.0, \"icu\": 63.0, \"ventilated\": 63.0}, {\"day\": 30, \"date\": \"2020-05-05T00:00:00\", \"hospitalized\": 245.0, \"icu\": 70.0, \"ventilated\": 70.0}, {\"day\": 31, \"date\": \"2020-05-06T00:00:00\", \"hospitalized\": 272.0, \"icu\": 77.0, \"ventilated\": 77.0}, {\"day\": 32, \"date\": \"2020-05-07T00:00:00\", \"hospitalized\": 301.0, \"icu\": 86.0, \"ventilated\": 86.0}, {\"day\": 33, \"date\": \"2020-05-08T00:00:00\", \"hospitalized\": 334.0, \"icu\": 95.0, \"ventilated\": 95.0}, {\"day\": 34, \"date\": \"2020-05-09T00:00:00\", \"hospitalized\": 371.0, \"icu\": 106.0, \"ventilated\": 106.0}, {\"day\": 35, \"date\": \"2020-05-10T00:00:00\", \"hospitalized\": 412.0, \"icu\": 117.0, \"ventilated\": 117.0}, {\"day\": 36, \"date\": \"2020-05-11T00:00:00\", \"hospitalized\": 457.0, \"icu\": 130.0, \"ventilated\": 130.0}, {\"day\": 37, \"date\": \"2020-05-12T00:00:00\", \"hospitalized\": 506.0, \"icu\": 144.0, \"ventilated\": 144.0}, {\"day\": 38, \"date\": \"2020-05-13T00:00:00\", \"hospitalized\": 562.0, \"icu\": 160.0, \"ventilated\": 160.0}, {\"day\": 39, \"date\": \"2020-05-14T00:00:00\", \"hospitalized\": 623.0, \"icu\": 178.0, \"ventilated\": 178.0}, {\"day\": 40, \"date\": \"2020-05-15T00:00:00\", \"hospitalized\": 690.0, \"icu\": 197.0, \"ventilated\": 197.0}, {\"day\": 41, \"date\": \"2020-05-16T00:00:00\", \"hospitalized\": 764.0, \"icu\": 218.0, \"ventilated\": 218.0}, {\"day\": 42, \"date\": \"2020-05-17T00:00:00\", \"hospitalized\": 846.0, \"icu\": 241.0, \"ventilated\": 241.0}, {\"day\": 43, \"date\": \"2020-05-18T00:00:00\", \"hospitalized\": 937.0, \"icu\": 267.0, \"ventilated\": 267.0}, {\"day\": 44, \"date\": \"2020-05-19T00:00:00\", \"hospitalized\": 1037.0, \"icu\": 296.0, \"ventilated\": 296.0}, {\"day\": 45, \"date\": \"2020-05-20T00:00:00\", \"hospitalized\": 1147.0, \"icu\": 327.0, \"ventilated\": 327.0}, {\"day\": 46, \"date\": \"2020-05-21T00:00:00\", \"hospitalized\": 1268.0, \"icu\": 362.0, \"ventilated\": 362.0}, {\"day\": 47, \"date\": \"2020-05-22T00:00:00\", \"hospitalized\": 1402.0, \"icu\": 400.0, \"ventilated\": 400.0}, {\"day\": 48, \"date\": \"2020-05-23T00:00:00\", \"hospitalized\": 1548.0, \"icu\": 442.0, \"ventilated\": 442.0}, {\"day\": 49, \"date\": \"2020-05-24T00:00:00\", \"hospitalized\": 1708.0, \"icu\": 488.0, \"ventilated\": 488.0}, {\"day\": 50, \"date\": \"2020-05-25T00:00:00\", \"hospitalized\": 1884.0, \"icu\": 538.0, \"ventilated\": 538.0}, {\"day\": 51, \"date\": \"2020-05-26T00:00:00\", \"hospitalized\": 2076.0, \"icu\": 593.0, \"ventilated\": 593.0}, {\"day\": 52, \"date\": \"2020-05-27T00:00:00\", \"hospitalized\": 2286.0, \"icu\": 653.0, \"ventilated\": 653.0}, {\"day\": 53, \"date\": \"2020-05-28T00:00:00\", \"hospitalized\": 2515.0, \"icu\": 718.0, \"ventilated\": 718.0}, {\"day\": 54, \"date\": \"2020-05-29T00:00:00\", \"hospitalized\": 2764.0, \"icu\": 789.0, \"ventilated\": 789.0}, {\"day\": 55, \"date\": \"2020-05-30T00:00:00\", \"hospitalized\": 3033.0, \"icu\": 866.0, \"ventilated\": 866.0}, {\"day\": 56, \"date\": \"2020-05-31T00:00:00\", \"hospitalized\": 3325.0, \"icu\": 950.0, \"ventilated\": 950.0}, {\"day\": 57, \"date\": \"2020-06-01T00:00:00\", \"hospitalized\": 3640.0, \"icu\": 1040.0, \"ventilated\": 1040.0}, {\"day\": 58, \"date\": \"2020-06-02T00:00:00\", \"hospitalized\": 3978.0, \"icu\": 1136.0, \"ventilated\": 1136.0}, {\"day\": 59, \"date\": \"2020-06-03T00:00:00\", \"hospitalized\": 4341.0, \"icu\": 1240.0, \"ventilated\": 1240.0}, {\"day\": 60, \"date\": \"2020-06-04T00:00:00\", \"hospitalized\": 4728.0, \"icu\": 1350.0, \"ventilated\": 1350.0}, {\"day\": 61, \"date\": \"2020-06-05T00:00:00\", \"hospitalized\": 5139.0, \"icu\": 1468.0, \"ventilated\": 1468.0}, {\"day\": 62, \"date\": \"2020-06-06T00:00:00\", \"hospitalized\": 5574.0, \"icu\": 1592.0, \"ventilated\": 1592.0}, {\"day\": 63, \"date\": \"2020-06-07T00:00:00\", \"hospitalized\": 6032.0, \"icu\": 1723.0, \"ventilated\": 1723.0}, {\"day\": 64, \"date\": \"2020-06-08T00:00:00\", \"hospitalized\": 6510.0, \"icu\": 1860.0, \"ventilated\": 1860.0}, {\"day\": 65, \"date\": \"2020-06-09T00:00:00\", \"hospitalized\": 7008.0, \"icu\": 2002.0, \"ventilated\": 2002.0}, {\"day\": 66, \"date\": \"2020-06-10T00:00:00\", \"hospitalized\": 7521.0, \"icu\": 2148.0, \"ventilated\": 2148.0}, {\"day\": 67, \"date\": \"2020-06-11T00:00:00\", \"hospitalized\": 8046.0, \"icu\": 2298.0, \"ventilated\": 2298.0}, {\"day\": 68, \"date\": \"2020-06-12T00:00:00\", \"hospitalized\": 8578.0, \"icu\": 2450.0, \"ventilated\": 2450.0}, {\"day\": 69, \"date\": \"2020-06-13T00:00:00\", \"hospitalized\": 9112.0, \"icu\": 2603.0, \"ventilated\": 2603.0}, {\"day\": 70, \"date\": \"2020-06-14T00:00:00\", \"hospitalized\": 9643.0, \"icu\": 2755.0, \"ventilated\": 2755.0}, {\"day\": 71, \"date\": \"2020-06-15T00:00:00\", \"hospitalized\": 10162.0, \"icu\": 2903.0, \"ventilated\": 2903.0}, {\"day\": 72, \"date\": \"2020-06-16T00:00:00\", \"hospitalized\": 10664.0, \"icu\": 3046.0, \"ventilated\": 3046.0}, {\"day\": 73, \"date\": \"2020-06-17T00:00:00\", \"hospitalized\": 11140.0, \"icu\": 3182.0, \"ventilated\": 3182.0}, {\"day\": 74, \"date\": \"2020-06-18T00:00:00\", \"hospitalized\": 11582.0, \"icu\": 3309.0, \"ventilated\": 3309.0}, {\"day\": 75, \"date\": \"2020-06-19T00:00:00\", \"hospitalized\": 11983.0, \"icu\": 3423.0, \"ventilated\": 3423.0}, {\"day\": 76, \"date\": \"2020-06-20T00:00:00\", \"hospitalized\": 12336.0, \"icu\": 3524.0, \"ventilated\": 3524.0}, {\"day\": 77, \"date\": \"2020-06-21T00:00:00\", \"hospitalized\": 12633.0, \"icu\": 3609.0, \"ventilated\": 3609.0}, {\"day\": 78, \"date\": \"2020-06-22T00:00:00\", \"hospitalized\": 12869.0, \"icu\": 3677.0, \"ventilated\": 3677.0}, {\"day\": 79, \"date\": \"2020-06-23T00:00:00\", \"hospitalized\": 13040.0, \"icu\": 3725.0, \"ventilated\": 3725.0}, {\"day\": 80, \"date\": \"2020-06-24T00:00:00\", \"hospitalized\": 13141.0, \"icu\": 3754.0, \"ventilated\": 3754.0}, {\"day\": 81, \"date\": \"2020-06-25T00:00:00\", \"hospitalized\": 13171.0, \"icu\": 3763.0, \"ventilated\": 3763.0}, {\"day\": 82, \"date\": \"2020-06-26T00:00:00\", \"hospitalized\": 13131.0, \"icu\": 3751.0, \"ventilated\": 3751.0}, {\"day\": 83, \"date\": \"2020-06-27T00:00:00\", \"hospitalized\": 13021.0, \"icu\": 3720.0, \"ventilated\": 3720.0}, {\"day\": 84, \"date\": \"2020-06-28T00:00:00\", \"hospitalized\": 12845.0, \"icu\": 3670.0, \"ventilated\": 3670.0}, {\"day\": 85, \"date\": \"2020-06-29T00:00:00\", \"hospitalized\": 12608.0, \"icu\": 3602.0, \"ventilated\": 3602.0}, {\"day\": 86, \"date\": \"2020-06-30T00:00:00\", \"hospitalized\": 12315.0, \"icu\": 3518.0, \"ventilated\": 3518.0}, {\"day\": 87, \"date\": \"2020-07-01T00:00:00\", \"hospitalized\": 11972.0, \"icu\": 3420.0, \"ventilated\": 3420.0}, {\"day\": 88, \"date\": \"2020-07-02T00:00:00\", \"hospitalized\": 11588.0, \"icu\": 3310.0, \"ventilated\": 3310.0}, {\"day\": 89, \"date\": \"2020-07-03T00:00:00\", \"hospitalized\": 11168.0, \"icu\": 3191.0, \"ventilated\": 3191.0}, {\"day\": 90, \"date\": \"2020-07-04T00:00:00\", \"hospitalized\": 10722.0, \"icu\": 3063.0, \"ventilated\": 3063.0}, {\"day\": 91, \"date\": \"2020-07-05T00:00:00\", \"hospitalized\": 10256.0, \"icu\": 2930.0, \"ventilated\": 2930.0}, {\"day\": 92, \"date\": \"2020-07-06T00:00:00\", \"hospitalized\": 9777.0, \"icu\": 2793.0, \"ventilated\": 2793.0}, {\"day\": 93, \"date\": \"2020-07-07T00:00:00\", \"hospitalized\": 9292.0, \"icu\": 2655.0, \"ventilated\": 2655.0}, {\"day\": 94, \"date\": \"2020-07-08T00:00:00\", \"hospitalized\": 8807.0, \"icu\": 2516.0, \"ventilated\": 2516.0}, {\"day\": 95, \"date\": \"2020-07-09T00:00:00\", \"hospitalized\": 8326.0, \"icu\": 2378.0, \"ventilated\": 2378.0}, {\"day\": 96, \"date\": \"2020-07-10T00:00:00\", \"hospitalized\": 7853.0, \"icu\": 2243.0, \"ventilated\": 2243.0}, {\"day\": 97, \"date\": \"2020-07-11T00:00:00\", \"hospitalized\": 7393.0, \"icu\": 2112.0, \"ventilated\": 2112.0}, {\"day\": 98, \"date\": \"2020-07-12T00:00:00\", \"hospitalized\": 6948.0, \"icu\": 1985.0, \"ventilated\": 1985.0}, {\"day\": 99, \"date\": \"2020-07-13T00:00:00\", \"hospitalized\": 6520.0, \"icu\": 1862.0, \"ventilated\": 1862.0}, {\"day\": 100, \"date\": \"2020-07-14T00:00:00\", \"hospitalized\": 6110.0, \"icu\": 1745.0, \"ventilated\": 1745.0}]}}, {\"mode\": \"vega-lite\"});\n",
       "</script>"
      ],
      "text/plain": [
       "alt.LayerChart(...)"
      ]
     },
     "execution_count": 49,
     "metadata": {},
     "output_type": "execute_result"
    }
   ],
   "source": [
    "# Graphique nouveaux cas\n",
    "\n",
    "admits_chart = build_admits_chart(alt=alt, admits_floor_df=m.admits_floor_df, max_y_axis=p.max_y_axis)\n",
    "admits_chart"
   ]
  },
  {
   "cell_type": "code",
   "execution_count": 53,
   "metadata": {},
   "outputs": [
    {
     "data": {
      "text/html": [
       "\n",
       "<div id=\"altair-viz-40478e1d17254e1da961fb2432e069b9\"></div>\n",
       "<script type=\"text/javascript\">\n",
       "  (function(spec, embedOpt){\n",
       "    let outputDiv = document.currentScript.previousElementSibling;\n",
       "    if (outputDiv.id !== \"altair-viz-40478e1d17254e1da961fb2432e069b9\") {\n",
       "      outputDiv = document.getElementById(\"altair-viz-40478e1d17254e1da961fb2432e069b9\");\n",
       "    }\n",
       "    const paths = {\n",
       "      \"vega\": \"https://cdn.jsdelivr.net/npm//vega@5?noext\",\n",
       "      \"vega-lib\": \"https://cdn.jsdelivr.net/npm//vega-lib?noext\",\n",
       "      \"vega-lite\": \"https://cdn.jsdelivr.net/npm//vega-lite@4.8.1?noext\",\n",
       "      \"vega-embed\": \"https://cdn.jsdelivr.net/npm//vega-embed@6?noext\",\n",
       "    };\n",
       "\n",
       "    function loadScript(lib) {\n",
       "      return new Promise(function(resolve, reject) {\n",
       "        var s = document.createElement('script');\n",
       "        s.src = paths[lib];\n",
       "        s.async = true;\n",
       "        s.onload = () => resolve(paths[lib]);\n",
       "        s.onerror = () => reject(`Error loading script: ${paths[lib]}`);\n",
       "        document.getElementsByTagName(\"head\")[0].appendChild(s);\n",
       "      });\n",
       "    }\n",
       "\n",
       "    function showError(err) {\n",
       "      outputDiv.innerHTML = `<div class=\"error\" style=\"color:red;\">${err}</div>`;\n",
       "      throw err;\n",
       "    }\n",
       "\n",
       "    function displayChart(vegaEmbed) {\n",
       "      vegaEmbed(outputDiv, spec, embedOpt)\n",
       "        .catch(err => showError(`Javascript Error: ${err.message}<br>This usually means there's a typo in your chart specification. See the javascript console for the full traceback.`));\n",
       "    }\n",
       "\n",
       "    if(typeof define === \"function\" && define.amd) {\n",
       "      requirejs.config({paths});\n",
       "      require([\"vega-embed\"], displayChart, err => showError(`Error loading script: ${err.message}`));\n",
       "    } else if (typeof vegaEmbed === \"function\") {\n",
       "      displayChart(vegaEmbed);\n",
       "    } else {\n",
       "      loadScript(\"vega\")\n",
       "        .then(() => loadScript(\"vega-lite\"))\n",
       "        .then(() => loadScript(\"vega-embed\"))\n",
       "        .catch(showError)\n",
       "        .then(() => displayChart(vegaEmbed));\n",
       "    }\n",
       "  })({\"config\": {\"view\": {\"continuousWidth\": 400, \"continuousHeight\": 300}, \"legend\": {\"orient\": \"bottom\"}}, \"layer\": [{\"mark\": {\"type\": \"line\", \"point\": true}, \"encoding\": {\"color\": {\"type\": \"nominal\", \"field\": \"key\"}, \"tooltip\": [{\"type\": \"temporal\", \"field\": \"date\"}, {\"type\": \"quantitative\", \"field\": \"value\", \"format\": \".0f\", \"title\": \"Census\"}, {\"type\": \"nominal\", \"field\": \"key\"}], \"x\": {\"type\": \"temporal\", \"axis\": {\"format\": \"%b, %d\"}, \"field\": \"date\", \"title\": \"Date\"}, \"y\": {\"type\": \"quantitative\", \"field\": \"value\", \"scale\": {}, \"title\": \"Census\"}}, \"selection\": {\"selector016\": {\"type\": \"interval\", \"bind\": \"scales\", \"encodings\": [\"x\", \"y\"]}}, \"transform\": [{\"fold\": [\"hospitalized\", \"icu\", \"ventilated\"]}]}, {\"mark\": {\"type\": \"rule\", \"color\": \"black\", \"opacity\": 0.35, \"size\": 2}, \"encoding\": {\"x\": {\"type\": \"temporal\", \"axis\": {\"format\": \"%b, %d\"}, \"field\": \"date\", \"title\": \"Date\"}}, \"transform\": [{\"filter\": \"(datum.day === 0)\"}]}], \"data\": {\"name\": \"data-ab48793321a80163734cb0f2336f615a\"}, \"$schema\": \"https://vega.github.io/schema/vega-lite/v4.8.1.json\", \"datasets\": {\"data-ab48793321a80163734cb0f2336f615a\": [{\"day\": -24, \"date\": \"2020-03-12T00:00:00\", \"hospitalized\": null, \"icu\": null, \"ventilated\": null}, {\"day\": -23, \"date\": \"2020-03-13T00:00:00\", \"hospitalized\": 0.0, \"icu\": 0.0, \"ventilated\": 0.0}, {\"day\": -22, \"date\": \"2020-03-14T00:00:00\", \"hospitalized\": 0.0, \"icu\": 0.0, \"ventilated\": 0.0}, {\"day\": -21, \"date\": \"2020-03-15T00:00:00\", \"hospitalized\": 0.0, \"icu\": 0.0, \"ventilated\": 0.0}, {\"day\": -20, \"date\": \"2020-03-16T00:00:00\", \"hospitalized\": 1.0, \"icu\": 0.0, \"ventilated\": 0.0}, {\"day\": -19, \"date\": \"2020-03-17T00:00:00\", \"hospitalized\": 1.0, \"icu\": 0.0, \"ventilated\": 0.0}, {\"day\": -18, \"date\": \"2020-03-18T00:00:00\", \"hospitalized\": 2.0, \"icu\": 0.0, \"ventilated\": 0.0}, {\"day\": -17, \"date\": \"2020-03-19T00:00:00\", \"hospitalized\": 3.0, \"icu\": 0.0, \"ventilated\": 0.0}, {\"day\": -16, \"date\": \"2020-03-20T00:00:00\", \"hospitalized\": 4.0, \"icu\": 1.0, \"ventilated\": 1.0}, {\"day\": -15, \"date\": \"2020-03-21T00:00:00\", \"hospitalized\": 5.0, \"icu\": 1.0, \"ventilated\": 1.0}, {\"day\": -14, \"date\": \"2020-03-22T00:00:00\", \"hospitalized\": 6.0, \"icu\": 1.0, \"ventilated\": 1.0}, {\"day\": -13, \"date\": \"2020-03-23T00:00:00\", \"hospitalized\": 7.0, \"icu\": 2.0, \"ventilated\": 2.0}, {\"day\": -12, \"date\": \"2020-03-24T00:00:00\", \"hospitalized\": 9.0, \"icu\": 2.0, \"ventilated\": 2.0}, {\"day\": -11, \"date\": \"2020-03-25T00:00:00\", \"hospitalized\": 10.0, \"icu\": 3.0, \"ventilated\": 3.0}, {\"day\": -10, \"date\": \"2020-03-26T00:00:00\", \"hospitalized\": 12.0, \"icu\": 3.0, \"ventilated\": 3.0}, {\"day\": -9, \"date\": \"2020-03-27T00:00:00\", \"hospitalized\": 15.0, \"icu\": 4.0, \"ventilated\": 4.0}, {\"day\": -8, \"date\": \"2020-03-28T00:00:00\", \"hospitalized\": 18.0, \"icu\": 5.0, \"ventilated\": 5.0}, {\"day\": -7, \"date\": \"2020-03-29T00:00:00\", \"hospitalized\": 21.0, \"icu\": 6.0, \"ventilated\": 6.0}, {\"day\": -6, \"date\": \"2020-03-30T00:00:00\", \"hospitalized\": 25.0, \"icu\": 7.0, \"ventilated\": 7.0}, {\"day\": -5, \"date\": \"2020-03-31T00:00:00\", \"hospitalized\": 30.0, \"icu\": 9.0, \"ventilated\": 9.0}, {\"day\": -4, \"date\": \"2020-04-01T00:00:00\", \"hospitalized\": 36.0, \"icu\": 11.0, \"ventilated\": 11.0}, {\"day\": -3, \"date\": \"2020-04-02T00:00:00\", \"hospitalized\": 43.0, \"icu\": 13.0, \"ventilated\": 13.0}, {\"day\": -2, \"date\": \"2020-04-03T00:00:00\", \"hospitalized\": 51.0, \"icu\": 15.0, \"ventilated\": 15.0}, {\"day\": -1, \"date\": \"2020-04-04T00:00:00\", \"hospitalized\": 61.0, \"icu\": 18.0, \"ventilated\": 18.0}, {\"day\": 0, \"date\": \"2020-04-05T00:00:00\", \"hospitalized\": 72.0, \"icu\": 22.0, \"ventilated\": 22.0}, {\"day\": 1, \"date\": \"2020-04-06T00:00:00\", \"hospitalized\": 81.0, \"icu\": 24.0, \"ventilated\": 24.0}, {\"day\": 2, \"date\": \"2020-04-07T00:00:00\", \"hospitalized\": 90.0, \"icu\": 27.0, \"ventilated\": 27.0}, {\"day\": 3, \"date\": \"2020-04-08T00:00:00\", \"hospitalized\": 100.0, \"icu\": 31.0, \"ventilated\": 31.0}, {\"day\": 4, \"date\": \"2020-04-09T00:00:00\", \"hospitalized\": 112.0, \"icu\": 34.0, \"ventilated\": 34.0}, {\"day\": 5, \"date\": \"2020-04-10T00:00:00\", \"hospitalized\": 123.0, \"icu\": 38.0, \"ventilated\": 38.0}, {\"day\": 6, \"date\": \"2020-04-11T00:00:00\", \"hospitalized\": 136.0, \"icu\": 42.0, \"ventilated\": 42.0}, {\"day\": 7, \"date\": \"2020-04-12T00:00:00\", \"hospitalized\": 150.0, \"icu\": 47.0, \"ventilated\": 47.0}, {\"day\": 8, \"date\": \"2020-04-13T00:00:00\", \"hospitalized\": 164.0, \"icu\": 52.0, \"ventilated\": 52.0}, {\"day\": 9, \"date\": \"2020-04-14T00:00:00\", \"hospitalized\": 180.0, \"icu\": 57.0, \"ventilated\": 57.0}, {\"day\": 10, \"date\": \"2020-04-15T00:00:00\", \"hospitalized\": 196.0, \"icu\": 63.0, \"ventilated\": 63.0}, {\"day\": 11, \"date\": \"2020-04-16T00:00:00\", \"hospitalized\": 217.0, \"icu\": 69.0, \"ventilated\": 69.0}, {\"day\": 12, \"date\": \"2020-04-17T00:00:00\", \"hospitalized\": 241.0, \"icu\": 76.0, \"ventilated\": 76.0}, {\"day\": 13, \"date\": \"2020-04-18T00:00:00\", \"hospitalized\": 268.0, \"icu\": 84.0, \"ventilated\": 84.0}, {\"day\": 14, \"date\": \"2020-04-19T00:00:00\", \"hospitalized\": 298.0, \"icu\": 94.0, \"ventilated\": 94.0}, {\"day\": 15, \"date\": \"2020-04-20T00:00:00\", \"hospitalized\": 331.0, \"icu\": 104.0, \"ventilated\": 104.0}, {\"day\": 16, \"date\": \"2020-04-21T00:00:00\", \"hospitalized\": 368.0, \"icu\": 116.0, \"ventilated\": 116.0}, {\"day\": 17, \"date\": \"2020-04-22T00:00:00\", \"hospitalized\": 409.0, \"icu\": 128.0, \"ventilated\": 128.0}, {\"day\": 18, \"date\": \"2020-04-23T00:00:00\", \"hospitalized\": 454.0, \"icu\": 143.0, \"ventilated\": 143.0}, {\"day\": 19, \"date\": \"2020-04-24T00:00:00\", \"hospitalized\": 505.0, \"icu\": 159.0, \"ventilated\": 159.0}, {\"day\": 20, \"date\": \"2020-04-25T00:00:00\", \"hospitalized\": 561.0, \"icu\": 176.0, \"ventilated\": 176.0}, {\"day\": 21, \"date\": \"2020-04-26T00:00:00\", \"hospitalized\": 623.0, \"icu\": 196.0, \"ventilated\": 196.0}, {\"day\": 22, \"date\": \"2020-04-27T00:00:00\", \"hospitalized\": 692.0, \"icu\": 217.0, \"ventilated\": 217.0}, {\"day\": 23, \"date\": \"2020-04-28T00:00:00\", \"hospitalized\": 768.0, \"icu\": 242.0, \"ventilated\": 242.0}, {\"day\": 24, \"date\": \"2020-04-29T00:00:00\", \"hospitalized\": 853.0, \"icu\": 268.0, \"ventilated\": 268.0}, {\"day\": 25, \"date\": \"2020-04-30T00:00:00\", \"hospitalized\": 948.0, \"icu\": 298.0, \"ventilated\": 298.0}, {\"day\": 26, \"date\": \"2020-05-01T00:00:00\", \"hospitalized\": 1053.0, \"icu\": 331.0, \"ventilated\": 331.0}, {\"day\": 27, \"date\": \"2020-05-02T00:00:00\", \"hospitalized\": 1169.0, \"icu\": 368.0, \"ventilated\": 368.0}, {\"day\": 28, \"date\": \"2020-05-03T00:00:00\", \"hospitalized\": 1298.0, \"icu\": 408.0, \"ventilated\": 408.0}, {\"day\": 29, \"date\": \"2020-05-04T00:00:00\", \"hospitalized\": 1441.0, \"icu\": 454.0, \"ventilated\": 454.0}, {\"day\": 30, \"date\": \"2020-05-05T00:00:00\", \"hospitalized\": 1601.0, \"icu\": 504.0, \"ventilated\": 504.0}, {\"day\": 31, \"date\": \"2020-05-06T00:00:00\", \"hospitalized\": 1777.0, \"icu\": 559.0, \"ventilated\": 559.0}, {\"day\": 32, \"date\": \"2020-05-07T00:00:00\", \"hospitalized\": 1973.0, \"icu\": 621.0, \"ventilated\": 621.0}, {\"day\": 33, \"date\": \"2020-05-08T00:00:00\", \"hospitalized\": 2190.0, \"icu\": 689.0, \"ventilated\": 689.0}, {\"day\": 34, \"date\": \"2020-05-09T00:00:00\", \"hospitalized\": 2431.0, \"icu\": 765.0, \"ventilated\": 765.0}, {\"day\": 35, \"date\": \"2020-05-10T00:00:00\", \"hospitalized\": 2697.0, \"icu\": 849.0, \"ventilated\": 849.0}, {\"day\": 36, \"date\": \"2020-05-11T00:00:00\", \"hospitalized\": 2993.0, \"icu\": 942.0, \"ventilated\": 942.0}, {\"day\": 37, \"date\": \"2020-05-12T00:00:00\", \"hospitalized\": 3321.0, \"icu\": 1046.0, \"ventilated\": 1046.0}, {\"day\": 38, \"date\": \"2020-05-13T00:00:00\", \"hospitalized\": 3684.0, \"icu\": 1160.0, \"ventilated\": 1160.0}, {\"day\": 39, \"date\": \"2020-05-14T00:00:00\", \"hospitalized\": 4087.0, \"icu\": 1287.0, \"ventilated\": 1287.0}, {\"day\": 40, \"date\": \"2020-05-15T00:00:00\", \"hospitalized\": 4532.0, \"icu\": 1428.0, \"ventilated\": 1428.0}, {\"day\": 41, \"date\": \"2020-05-16T00:00:00\", \"hospitalized\": 5025.0, \"icu\": 1583.0, \"ventilated\": 1583.0}, {\"day\": 42, \"date\": \"2020-05-17T00:00:00\", \"hospitalized\": 5570.0, \"icu\": 1755.0, \"ventilated\": 1755.0}, {\"day\": 43, \"date\": \"2020-05-18T00:00:00\", \"hospitalized\": 6172.0, \"icu\": 1945.0, \"ventilated\": 1945.0}, {\"day\": 44, \"date\": \"2020-05-19T00:00:00\", \"hospitalized\": 6838.0, \"icu\": 2155.0, \"ventilated\": 2155.0}, {\"day\": 45, \"date\": \"2020-05-20T00:00:00\", \"hospitalized\": 7574.0, \"icu\": 2387.0, \"ventilated\": 2387.0}, {\"day\": 46, \"date\": \"2020-05-21T00:00:00\", \"hospitalized\": 8385.0, \"icu\": 2644.0, \"ventilated\": 2644.0}, {\"day\": 47, \"date\": \"2020-05-22T00:00:00\", \"hospitalized\": 9280.0, \"icu\": 2927.0, \"ventilated\": 2927.0}, {\"day\": 48, \"date\": \"2020-05-23T00:00:00\", \"hospitalized\": 10267.0, \"icu\": 3238.0, \"ventilated\": 3238.0}, {\"day\": 49, \"date\": \"2020-05-24T00:00:00\", \"hospitalized\": 11353.0, \"icu\": 3582.0, \"ventilated\": 3582.0}, {\"day\": 50, \"date\": \"2020-05-25T00:00:00\", \"hospitalized\": 12547.0, \"icu\": 3960.0, \"ventilated\": 3960.0}, {\"day\": 51, \"date\": \"2020-05-26T00:00:00\", \"hospitalized\": 13859.0, \"icu\": 4375.0, \"ventilated\": 4375.0}, {\"day\": 52, \"date\": \"2020-05-27T00:00:00\", \"hospitalized\": 15299.0, \"icu\": 4831.0, \"ventilated\": 4831.0}, {\"day\": 53, \"date\": \"2020-05-28T00:00:00\", \"hospitalized\": 16877.0, \"icu\": 5332.0, \"ventilated\": 5332.0}, {\"day\": 54, \"date\": \"2020-05-29T00:00:00\", \"hospitalized\": 18604.0, \"icu\": 5879.0, \"ventilated\": 5879.0}, {\"day\": 55, \"date\": \"2020-05-30T00:00:00\", \"hospitalized\": 20490.0, \"icu\": 6478.0, \"ventilated\": 6478.0}, {\"day\": 56, \"date\": \"2020-05-31T00:00:00\", \"hospitalized\": 22546.0, \"icu\": 7132.0, \"ventilated\": 7132.0}, {\"day\": 57, \"date\": \"2020-06-01T00:00:00\", \"hospitalized\": 24785.0, \"icu\": 7844.0, \"ventilated\": 7844.0}, {\"day\": 58, \"date\": \"2020-06-02T00:00:00\", \"hospitalized\": 27215.0, \"icu\": 8618.0, \"ventilated\": 8618.0}, {\"day\": 59, \"date\": \"2020-06-03T00:00:00\", \"hospitalized\": 29847.0, \"icu\": 9458.0, \"ventilated\": 9458.0}, {\"day\": 60, \"date\": \"2020-06-04T00:00:00\", \"hospitalized\": 32691.0, \"icu\": 10367.0, \"ventilated\": 10367.0}, {\"day\": 61, \"date\": \"2020-06-05T00:00:00\", \"hospitalized\": 35753.0, \"icu\": 11347.0, \"ventilated\": 11347.0}, {\"day\": 62, \"date\": \"2020-06-06T00:00:00\", \"hospitalized\": 39041.0, \"icu\": 12401.0, \"ventilated\": 12401.0}, {\"day\": 63, \"date\": \"2020-06-07T00:00:00\", \"hospitalized\": 42558.0, \"icu\": 13531.0, \"ventilated\": 13531.0}, {\"day\": 64, \"date\": \"2020-06-08T00:00:00\", \"hospitalized\": 46304.0, \"icu\": 14738.0, \"ventilated\": 14738.0}, {\"day\": 65, \"date\": \"2020-06-09T00:00:00\", \"hospitalized\": 50279.0, \"icu\": 16022.0, \"ventilated\": 16022.0}, {\"day\": 66, \"date\": \"2020-06-10T00:00:00\", \"hospitalized\": 54474.0, \"icu\": 17381.0, \"ventilated\": 17381.0}, {\"day\": 67, \"date\": \"2020-06-11T00:00:00\", \"hospitalized\": 58880.0, \"icu\": 18813.0, \"ventilated\": 18813.0}, {\"day\": 68, \"date\": \"2020-06-12T00:00:00\", \"hospitalized\": 63480.0, \"icu\": 20314.0, \"ventilated\": 20314.0}, {\"day\": 69, \"date\": \"2020-06-13T00:00:00\", \"hospitalized\": 68251.0, \"icu\": 21877.0, \"ventilated\": 21877.0}, {\"day\": 70, \"date\": \"2020-06-14T00:00:00\", \"hospitalized\": 73166.0, \"icu\": 23495.0, \"ventilated\": 23495.0}, {\"day\": 71, \"date\": \"2020-06-15T00:00:00\", \"hospitalized\": 78189.0, \"icu\": 25159.0, \"ventilated\": 25159.0}, {\"day\": 72, \"date\": \"2020-06-16T00:00:00\", \"hospitalized\": 83279.0, \"icu\": 26855.0, \"ventilated\": 26855.0}, {\"day\": 73, \"date\": \"2020-06-17T00:00:00\", \"hospitalized\": 88387.0, \"icu\": 28569.0, \"ventilated\": 28569.0}, {\"day\": 74, \"date\": \"2020-06-18T00:00:00\", \"hospitalized\": 93459.0, \"icu\": 30286.0, \"ventilated\": 30286.0}, {\"day\": 75, \"date\": \"2020-06-19T00:00:00\", \"hospitalized\": 98435.0, \"icu\": 31986.0, \"ventilated\": 31986.0}, {\"day\": 76, \"date\": \"2020-06-20T00:00:00\", \"hospitalized\": 103250.0, \"icu\": 33651.0, \"ventilated\": 33651.0}, {\"day\": 77, \"date\": \"2020-06-21T00:00:00\", \"hospitalized\": 107838.0, \"icu\": 35258.0, \"ventilated\": 35258.0}, {\"day\": 78, \"date\": \"2020-06-22T00:00:00\", \"hospitalized\": 112129.0, \"icu\": 36786.0, \"ventilated\": 36786.0}, {\"day\": 79, \"date\": \"2020-06-23T00:00:00\", \"hospitalized\": 116057.0, \"icu\": 38213.0, \"ventilated\": 38213.0}, {\"day\": 80, \"date\": \"2020-06-24T00:00:00\", \"hospitalized\": 119555.0, \"icu\": 39517.0, \"ventilated\": 39517.0}, {\"day\": 81, \"date\": \"2020-06-25T00:00:00\", \"hospitalized\": 122564.0, \"icu\": 40677.0, \"ventilated\": 40677.0}, {\"day\": 82, \"date\": \"2020-06-26T00:00:00\", \"hospitalized\": 125031.0, \"icu\": 41673.0, \"ventilated\": 41673.0}, {\"day\": 83, \"date\": \"2020-06-27T00:00:00\", \"hospitalized\": 126912.0, \"icu\": 42490.0, \"ventilated\": 42490.0}, {\"day\": 84, \"date\": \"2020-06-28T00:00:00\", \"hospitalized\": 128176.0, \"icu\": 43114.0, \"ventilated\": 43114.0}, {\"day\": 85, \"date\": \"2020-06-29T00:00:00\", \"hospitalized\": 128800.0, \"icu\": 43533.0, \"ventilated\": 43533.0}, {\"day\": 86, \"date\": \"2020-06-30T00:00:00\", \"hospitalized\": 128779.0, \"icu\": 43742.0, \"ventilated\": 43742.0}, {\"day\": 87, \"date\": \"2020-07-01T00:00:00\", \"hospitalized\": 128118.0, \"icu\": 43739.0, \"ventilated\": 43739.0}, {\"day\": 88, \"date\": \"2020-07-02T00:00:00\", \"hospitalized\": 126836.0, \"icu\": 43525.0, \"ventilated\": 43525.0}, {\"day\": 89, \"date\": \"2020-07-03T00:00:00\", \"hospitalized\": 124965.0, \"icu\": 43107.0, \"ventilated\": 43107.0}, {\"day\": 90, \"date\": \"2020-07-04T00:00:00\", \"hospitalized\": 122546.0, \"icu\": 42493.0, \"ventilated\": 42493.0}, {\"day\": 91, \"date\": \"2020-07-05T00:00:00\", \"hospitalized\": 119631.0, \"icu\": 41698.0, \"ventilated\": 41698.0}, {\"day\": 92, \"date\": \"2020-07-06T00:00:00\", \"hospitalized\": 116278.0, \"icu\": 40737.0, \"ventilated\": 40737.0}, {\"day\": 93, \"date\": \"2020-07-07T00:00:00\", \"hospitalized\": 112549.0, \"icu\": 39629.0, \"ventilated\": 39629.0}, {\"day\": 94, \"date\": \"2020-07-08T00:00:00\", \"hospitalized\": 108511.0, \"icu\": 38393.0, \"ventilated\": 38393.0}, {\"day\": 95, \"date\": \"2020-07-09T00:00:00\", \"hospitalized\": 104228.0, \"icu\": 37052.0, \"ventilated\": 37052.0}, {\"day\": 96, \"date\": \"2020-07-10T00:00:00\", \"hospitalized\": 99767.0, \"icu\": 35626.0, \"ventilated\": 35626.0}, {\"day\": 97, \"date\": \"2020-07-11T00:00:00\", \"hospitalized\": 95188.0, \"icu\": 34136.0, \"ventilated\": 34136.0}, {\"day\": 98, \"date\": \"2020-07-12T00:00:00\", \"hospitalized\": 90548.0, \"icu\": 32602.0, \"ventilated\": 32602.0}, {\"day\": 99, \"date\": \"2020-07-13T00:00:00\", \"hospitalized\": 85899.0, \"icu\": 31044.0, \"ventilated\": 31044.0}, {\"day\": 100, \"date\": \"2020-07-14T00:00:00\", \"hospitalized\": 81287.0, \"icu\": 29479.0, \"ventilated\": 29479.0}, {\"day\": 101, \"date\": \"2020-07-15T00:00:00\", \"hospitalized\": 76751.0, \"icu\": 27922.0, \"ventilated\": 27922.0}, {\"day\": 102, \"date\": \"2020-07-16T00:00:00\", \"hospitalized\": 72323.0, \"icu\": 26388.0, \"ventilated\": 26388.0}, {\"day\": 103, \"date\": \"2020-07-17T00:00:00\", \"hospitalized\": 68031.0, \"icu\": 24886.0, \"ventilated\": 24886.0}, {\"day\": 104, \"date\": \"2020-07-18T00:00:00\", \"hospitalized\": 63895.0, \"icu\": 23427.0, \"ventilated\": 23427.0}, {\"day\": 105, \"date\": \"2020-07-19T00:00:00\", \"hospitalized\": 59930.0, \"icu\": 22018.0, \"ventilated\": 22018.0}, {\"day\": 106, \"date\": \"2020-07-20T00:00:00\", \"hospitalized\": 56148.0, \"icu\": 20665.0, \"ventilated\": 20665.0}, {\"day\": 107, \"date\": \"2020-07-21T00:00:00\", \"hospitalized\": 52554.0, \"icu\": 19372.0, \"ventilated\": 19372.0}, {\"day\": 108, \"date\": \"2020-07-22T00:00:00\", \"hospitalized\": 49151.0, \"icu\": 18141.0, \"ventilated\": 18141.0}, {\"day\": 109, \"date\": \"2020-07-23T00:00:00\", \"hospitalized\": 45940.0, \"icu\": 16973.0, \"ventilated\": 16973.0}, {\"day\": 110, \"date\": \"2020-07-24T00:00:00\", \"hospitalized\": 42917.0, \"icu\": 15870.0, \"ventilated\": 15870.0}, {\"day\": 111, \"date\": \"2020-07-25T00:00:00\", \"hospitalized\": 40078.0, \"icu\": 14831.0, \"ventilated\": 14831.0}, {\"day\": 112, \"date\": \"2020-07-26T00:00:00\", \"hospitalized\": 37418.0, \"icu\": 13854.0, \"ventilated\": 13854.0}, {\"day\": 113, \"date\": \"2020-07-27T00:00:00\", \"hospitalized\": 34928.0, \"icu\": 12937.0, \"ventilated\": 12937.0}, {\"day\": 114, \"date\": \"2020-07-28T00:00:00\", \"hospitalized\": 32603.0, \"icu\": 12078.0, \"ventilated\": 12078.0}, {\"day\": 115, \"date\": \"2020-07-29T00:00:00\", \"hospitalized\": 30432.0, \"icu\": 11275.0, \"ventilated\": 11275.0}, {\"day\": 116, \"date\": \"2020-07-30T00:00:00\", \"hospitalized\": 28408.0, \"icu\": 10526.0, \"ventilated\": 10526.0}, {\"day\": 117, \"date\": \"2020-07-31T00:00:00\", \"hospitalized\": 26522.0, \"icu\": 9826.0, \"ventilated\": 9826.0}, {\"day\": 118, \"date\": \"2020-08-01T00:00:00\", \"hospitalized\": 24767.0, \"icu\": 9174.0, \"ventilated\": 9174.0}, {\"day\": 119, \"date\": \"2020-08-02T00:00:00\", \"hospitalized\": 23132.0, \"icu\": 8567.0, \"ventilated\": 8567.0}, {\"day\": 120, \"date\": \"2020-08-03T00:00:00\", \"hospitalized\": 21611.0, \"icu\": 8002.0, \"ventilated\": 8002.0}, {\"day\": 121, \"date\": \"2020-08-04T00:00:00\", \"hospitalized\": 20197.0, \"icu\": 7476.0, \"ventilated\": 7476.0}, {\"day\": 122, \"date\": \"2020-08-05T00:00:00\", \"hospitalized\": 18880.0, \"icu\": 6986.0, \"ventilated\": 6986.0}, {\"day\": 123, \"date\": \"2020-08-06T00:00:00\", \"hospitalized\": 17656.0, \"icu\": 6530.0, \"ventilated\": 6530.0}, {\"day\": 124, \"date\": \"2020-08-07T00:00:00\", \"hospitalized\": 16516.0, \"icu\": 6106.0, \"ventilated\": 6106.0}, {\"day\": 125, \"date\": \"2020-08-08T00:00:00\", \"hospitalized\": 15456.0, \"icu\": 5712.0, \"ventilated\": 5712.0}, {\"day\": 126, \"date\": \"2020-08-09T00:00:00\", \"hospitalized\": 14469.0, \"icu\": 5345.0, \"ventilated\": 5345.0}, {\"day\": 127, \"date\": \"2020-08-10T00:00:00\", \"hospitalized\": 13550.0, \"icu\": 5003.0, \"ventilated\": 5003.0}, {\"day\": 128, \"date\": \"2020-08-11T00:00:00\", \"hospitalized\": 12694.0, \"icu\": 4685.0, \"ventilated\": 4685.0}, {\"day\": 129, \"date\": \"2020-08-12T00:00:00\", \"hospitalized\": 11897.0, \"icu\": 4388.0, \"ventilated\": 4388.0}, {\"day\": 130, \"date\": \"2020-08-13T00:00:00\", \"hospitalized\": 11153.0, \"icu\": 4112.0, \"ventilated\": 4112.0}, {\"day\": 131, \"date\": \"2020-08-14T00:00:00\", \"hospitalized\": 10460.0, \"icu\": 3855.0, \"ventilated\": 3855.0}, {\"day\": 132, \"date\": \"2020-08-15T00:00:00\", \"hospitalized\": 9813.0, \"icu\": 3615.0, \"ventilated\": 3615.0}, {\"day\": 133, \"date\": \"2020-08-16T00:00:00\", \"hospitalized\": 9210.0, \"icu\": 3391.0, \"ventilated\": 3391.0}, {\"day\": 134, \"date\": \"2020-08-17T00:00:00\", \"hospitalized\": 8647.0, \"icu\": 3182.0, \"ventilated\": 3182.0}, {\"day\": 135, \"date\": \"2020-08-18T00:00:00\", \"hospitalized\": 8120.0, \"icu\": 2987.0, \"ventilated\": 2987.0}, {\"day\": 136, \"date\": \"2020-08-19T00:00:00\", \"hospitalized\": 7629.0, \"icu\": 2805.0, \"ventilated\": 2805.0}, {\"day\": 137, \"date\": \"2020-08-20T00:00:00\", \"hospitalized\": 7169.0, \"icu\": 2635.0, \"ventilated\": 2635.0}, {\"day\": 138, \"date\": \"2020-08-21T00:00:00\", \"hospitalized\": 6739.0, \"icu\": 2476.0, \"ventilated\": 2476.0}, {\"day\": 139, \"date\": \"2020-08-22T00:00:00\", \"hospitalized\": 6337.0, \"icu\": 2327.0, \"ventilated\": 2327.0}, {\"day\": 140, \"date\": \"2020-08-23T00:00:00\", \"hospitalized\": 5960.0, \"icu\": 2188.0, \"ventilated\": 2188.0}, {\"day\": 141, \"date\": \"2020-08-24T00:00:00\", \"hospitalized\": 5607.0, \"icu\": 2058.0, \"ventilated\": 2058.0}, {\"day\": 142, \"date\": \"2020-08-25T00:00:00\", \"hospitalized\": 5277.0, \"icu\": 1936.0, \"ventilated\": 1936.0}, {\"day\": 143, \"date\": \"2020-08-26T00:00:00\", \"hospitalized\": 4967.0, \"icu\": 1822.0, \"ventilated\": 1822.0}, {\"day\": 144, \"date\": \"2020-08-27T00:00:00\", \"hospitalized\": 4677.0, \"icu\": 1715.0, \"ventilated\": 1715.0}, {\"day\": 145, \"date\": \"2020-08-28T00:00:00\", \"hospitalized\": 4404.0, \"icu\": 1614.0, \"ventilated\": 1614.0}, {\"day\": 146, \"date\": \"2020-08-29T00:00:00\", \"hospitalized\": 4149.0, \"icu\": 1520.0, \"ventilated\": 1520.0}, {\"day\": 147, \"date\": \"2020-08-30T00:00:00\", \"hospitalized\": 3909.0, \"icu\": 1432.0, \"ventilated\": 1432.0}, {\"day\": 148, \"date\": \"2020-08-31T00:00:00\", \"hospitalized\": 3683.0, \"icu\": 1349.0, \"ventilated\": 1349.0}, {\"day\": 149, \"date\": \"2020-09-01T00:00:00\", \"hospitalized\": 3472.0, \"icu\": 1271.0, \"ventilated\": 1271.0}, {\"day\": 150, \"date\": \"2020-09-02T00:00:00\", \"hospitalized\": 3273.0, \"icu\": 1198.0, \"ventilated\": 1198.0}, {\"day\": 151, \"date\": \"2020-09-03T00:00:00\", \"hospitalized\": 3086.0, \"icu\": 1129.0, \"ventilated\": 1129.0}, {\"day\": 152, \"date\": \"2020-09-04T00:00:00\", \"hospitalized\": 2910.0, \"icu\": 1065.0, \"ventilated\": 1065.0}, {\"day\": 153, \"date\": \"2020-09-05T00:00:00\", \"hospitalized\": 2745.0, \"icu\": 1004.0, \"ventilated\": 1004.0}, {\"day\": 154, \"date\": \"2020-09-06T00:00:00\", \"hospitalized\": 2589.0, \"icu\": 947.0, \"ventilated\": 947.0}, {\"day\": 155, \"date\": \"2020-09-07T00:00:00\", \"hospitalized\": 2443.0, \"icu\": 893.0, \"ventilated\": 893.0}, {\"day\": 156, \"date\": \"2020-09-08T00:00:00\", \"hospitalized\": 2305.0, \"icu\": 843.0, \"ventilated\": 843.0}, {\"day\": 157, \"date\": \"2020-09-09T00:00:00\", \"hospitalized\": 2175.0, \"icu\": 795.0, \"ventilated\": 795.0}, {\"day\": 158, \"date\": \"2020-09-10T00:00:00\", \"hospitalized\": 2053.0, \"icu\": 750.0, \"ventilated\": 750.0}, {\"day\": 159, \"date\": \"2020-09-11T00:00:00\", \"hospitalized\": 1938.0, \"icu\": 708.0, \"ventilated\": 708.0}, {\"day\": 160, \"date\": \"2020-09-12T00:00:00\", \"hospitalized\": 1830.0, \"icu\": 668.0, \"ventilated\": 668.0}, {\"day\": 161, \"date\": \"2020-09-13T00:00:00\", \"hospitalized\": 1727.0, \"icu\": 631.0, \"ventilated\": 631.0}, {\"day\": 162, \"date\": \"2020-09-14T00:00:00\", \"hospitalized\": 1631.0, \"icu\": 596.0, \"ventilated\": 596.0}, {\"day\": 163, \"date\": \"2020-09-15T00:00:00\", \"hospitalized\": 1540.0, \"icu\": 562.0, \"ventilated\": 562.0}, {\"day\": 164, \"date\": \"2020-09-16T00:00:00\", \"hospitalized\": 1455.0, \"icu\": 531.0, \"ventilated\": 531.0}, {\"day\": 165, \"date\": \"2020-09-17T00:00:00\", \"hospitalized\": 1374.0, \"icu\": 501.0, \"ventilated\": 501.0}, {\"day\": 166, \"date\": \"2020-09-18T00:00:00\", \"hospitalized\": 1298.0, \"icu\": 474.0, \"ventilated\": 474.0}, {\"day\": 167, \"date\": \"2020-09-19T00:00:00\", \"hospitalized\": 1226.0, \"icu\": 447.0, \"ventilated\": 447.0}, {\"day\": 168, \"date\": \"2020-09-20T00:00:00\", \"hospitalized\": 1158.0, \"icu\": 423.0, \"ventilated\": 423.0}, {\"day\": 169, \"date\": \"2020-09-21T00:00:00\", \"hospitalized\": 1094.0, \"icu\": 399.0, \"ventilated\": 399.0}, {\"day\": 170, \"date\": \"2020-09-22T00:00:00\", \"hospitalized\": 1034.0, \"icu\": 377.0, \"ventilated\": 377.0}, {\"day\": 171, \"date\": \"2020-09-23T00:00:00\", \"hospitalized\": 977.0, \"icu\": 356.0, \"ventilated\": 356.0}, {\"day\": 172, \"date\": \"2020-09-24T00:00:00\", \"hospitalized\": 923.0, \"icu\": 337.0, \"ventilated\": 337.0}, {\"day\": 173, \"date\": \"2020-09-25T00:00:00\", \"hospitalized\": 873.0, \"icu\": 318.0, \"ventilated\": 318.0}, {\"day\": 174, \"date\": \"2020-09-26T00:00:00\", \"hospitalized\": 825.0, \"icu\": 301.0, \"ventilated\": 301.0}, {\"day\": 175, \"date\": \"2020-09-27T00:00:00\", \"hospitalized\": 780.0, \"icu\": 284.0, \"ventilated\": 284.0}, {\"day\": 176, \"date\": \"2020-09-28T00:00:00\", \"hospitalized\": 737.0, \"icu\": 269.0, \"ventilated\": 269.0}, {\"day\": 177, \"date\": \"2020-09-29T00:00:00\", \"hospitalized\": 696.0, \"icu\": 254.0, \"ventilated\": 254.0}, {\"day\": 178, \"date\": \"2020-09-30T00:00:00\", \"hospitalized\": 658.0, \"icu\": 240.0, \"ventilated\": 240.0}, {\"day\": 179, \"date\": \"2020-10-01T00:00:00\", \"hospitalized\": 622.0, \"icu\": 227.0, \"ventilated\": 227.0}, {\"day\": 180, \"date\": \"2020-10-02T00:00:00\", \"hospitalized\": 588.0, \"icu\": 214.0, \"ventilated\": 214.0}, {\"day\": 181, \"date\": \"2020-10-03T00:00:00\", \"hospitalized\": 556.0, \"icu\": 203.0, \"ventilated\": 203.0}, {\"day\": 182, \"date\": \"2020-10-04T00:00:00\", \"hospitalized\": 526.0, \"icu\": 191.0, \"ventilated\": 191.0}, {\"day\": 183, \"date\": \"2020-10-05T00:00:00\", \"hospitalized\": 497.0, \"icu\": 181.0, \"ventilated\": 181.0}, {\"day\": 184, \"date\": \"2020-10-06T00:00:00\", \"hospitalized\": 470.0, \"icu\": 171.0, \"ventilated\": 171.0}, {\"day\": 185, \"date\": \"2020-10-07T00:00:00\", \"hospitalized\": 444.0, \"icu\": 162.0, \"ventilated\": 162.0}, {\"day\": 186, \"date\": \"2020-10-08T00:00:00\", \"hospitalized\": 420.0, \"icu\": 153.0, \"ventilated\": 153.0}, {\"day\": 187, \"date\": \"2020-10-09T00:00:00\", \"hospitalized\": 397.0, \"icu\": 145.0, \"ventilated\": 145.0}, {\"day\": 188, \"date\": \"2020-10-10T00:00:00\", \"hospitalized\": 376.0, \"icu\": 137.0, \"ventilated\": 137.0}, {\"day\": 189, \"date\": \"2020-10-11T00:00:00\", \"hospitalized\": 355.0, \"icu\": 129.0, \"ventilated\": 129.0}, {\"day\": 190, \"date\": \"2020-10-12T00:00:00\", \"hospitalized\": 336.0, \"icu\": 122.0, \"ventilated\": 122.0}, {\"day\": 191, \"date\": \"2020-10-13T00:00:00\", \"hospitalized\": 318.0, \"icu\": 116.0, \"ventilated\": 116.0}, {\"day\": 192, \"date\": \"2020-10-14T00:00:00\", \"hospitalized\": 300.0, \"icu\": 109.0, \"ventilated\": 109.0}, {\"day\": 193, \"date\": \"2020-10-15T00:00:00\", \"hospitalized\": 284.0, \"icu\": 103.0, \"ventilated\": 103.0}, {\"day\": 194, \"date\": \"2020-10-16T00:00:00\", \"hospitalized\": 269.0, \"icu\": 98.0, \"ventilated\": 98.0}, {\"day\": 195, \"date\": \"2020-10-17T00:00:00\", \"hospitalized\": 254.0, \"icu\": 92.0, \"ventilated\": 92.0}, {\"day\": 196, \"date\": \"2020-10-18T00:00:00\", \"hospitalized\": 240.0, \"icu\": 87.0, \"ventilated\": 87.0}, {\"day\": 197, \"date\": \"2020-10-19T00:00:00\", \"hospitalized\": 227.0, \"icu\": 83.0, \"ventilated\": 83.0}, {\"day\": 198, \"date\": \"2020-10-20T00:00:00\", \"hospitalized\": 215.0, \"icu\": 78.0, \"ventilated\": 78.0}, {\"day\": 199, \"date\": \"2020-10-21T00:00:00\", \"hospitalized\": 203.0, \"icu\": 74.0, \"ventilated\": 74.0}, {\"day\": 200, \"date\": \"2020-10-22T00:00:00\", \"hospitalized\": 192.0, \"icu\": 70.0, \"ventilated\": 70.0}]}}, {\"mode\": \"vega-lite\"});\n",
       "</script>"
      ],
      "text/plain": [
       "alt.LayerChart(...)"
      ]
     },
     "execution_count": 53,
     "metadata": {},
     "output_type": "execute_result"
    }
   ],
   "source": [
    "# Graphique cumulatif\n",
    "\n",
    "census_chart = build_census_chart(alt=alt, census_floor_df=m.census_floor_df, max_y_axis=p.max_y_axis)\n",
    "census_chart"
   ]
  },
  {
   "cell_type": "code",
   "execution_count": 54,
   "metadata": {},
   "outputs": [
    {
     "data": {
      "text/html": [
       "<div>\n",
       "<style scoped>\n",
       "    .dataframe tbody tr th:only-of-type {\n",
       "        vertical-align: middle;\n",
       "    }\n",
       "\n",
       "    .dataframe tbody tr th {\n",
       "        vertical-align: top;\n",
       "    }\n",
       "\n",
       "    .dataframe thead th {\n",
       "        text-align: right;\n",
       "    }\n",
       "</style>\n",
       "<table border=\"1\" class=\"dataframe\">\n",
       "  <thead>\n",
       "    <tr style=\"text-align: right;\">\n",
       "      <th></th>\n",
       "      <th>day</th>\n",
       "      <th>date</th>\n",
       "      <th>hospitalized</th>\n",
       "      <th>icu</th>\n",
       "      <th>ventilated</th>\n",
       "    </tr>\n",
       "  </thead>\n",
       "  <tbody>\n",
       "    <tr>\n",
       "      <th>0</th>\n",
       "      <td>-24</td>\n",
       "      <td>2020-03-12</td>\n",
       "      <td>NaN</td>\n",
       "      <td>NaN</td>\n",
       "      <td>NaN</td>\n",
       "    </tr>\n",
       "    <tr>\n",
       "      <th>1</th>\n",
       "      <td>-23</td>\n",
       "      <td>2020-03-13</td>\n",
       "      <td>0.0</td>\n",
       "      <td>0.0</td>\n",
       "      <td>0.0</td>\n",
       "    </tr>\n",
       "    <tr>\n",
       "      <th>2</th>\n",
       "      <td>-22</td>\n",
       "      <td>2020-03-14</td>\n",
       "      <td>0.0</td>\n",
       "      <td>0.0</td>\n",
       "      <td>0.0</td>\n",
       "    </tr>\n",
       "    <tr>\n",
       "      <th>3</th>\n",
       "      <td>-21</td>\n",
       "      <td>2020-03-15</td>\n",
       "      <td>0.0</td>\n",
       "      <td>0.0</td>\n",
       "      <td>0.0</td>\n",
       "    </tr>\n",
       "    <tr>\n",
       "      <th>4</th>\n",
       "      <td>-20</td>\n",
       "      <td>2020-03-16</td>\n",
       "      <td>1.0</td>\n",
       "      <td>0.0</td>\n",
       "      <td>0.0</td>\n",
       "    </tr>\n",
       "    <tr>\n",
       "      <th>...</th>\n",
       "      <td>...</td>\n",
       "      <td>...</td>\n",
       "      <td>...</td>\n",
       "      <td>...</td>\n",
       "      <td>...</td>\n",
       "    </tr>\n",
       "    <tr>\n",
       "      <th>220</th>\n",
       "      <td>196</td>\n",
       "      <td>2020-10-18</td>\n",
       "      <td>240.0</td>\n",
       "      <td>87.0</td>\n",
       "      <td>87.0</td>\n",
       "    </tr>\n",
       "    <tr>\n",
       "      <th>221</th>\n",
       "      <td>197</td>\n",
       "      <td>2020-10-19</td>\n",
       "      <td>227.0</td>\n",
       "      <td>83.0</td>\n",
       "      <td>83.0</td>\n",
       "    </tr>\n",
       "    <tr>\n",
       "      <th>222</th>\n",
       "      <td>198</td>\n",
       "      <td>2020-10-20</td>\n",
       "      <td>215.0</td>\n",
       "      <td>78.0</td>\n",
       "      <td>78.0</td>\n",
       "    </tr>\n",
       "    <tr>\n",
       "      <th>223</th>\n",
       "      <td>199</td>\n",
       "      <td>2020-10-21</td>\n",
       "      <td>203.0</td>\n",
       "      <td>74.0</td>\n",
       "      <td>74.0</td>\n",
       "    </tr>\n",
       "    <tr>\n",
       "      <th>224</th>\n",
       "      <td>200</td>\n",
       "      <td>2020-10-22</td>\n",
       "      <td>192.0</td>\n",
       "      <td>70.0</td>\n",
       "      <td>70.0</td>\n",
       "    </tr>\n",
       "  </tbody>\n",
       "</table>\n",
       "<p>225 rows × 5 columns</p>\n",
       "</div>"
      ],
      "text/plain": [
       "     day       date  hospitalized   icu  ventilated\n",
       "0    -24 2020-03-12           NaN   NaN         NaN\n",
       "1    -23 2020-03-13           0.0   0.0         0.0\n",
       "2    -22 2020-03-14           0.0   0.0         0.0\n",
       "3    -21 2020-03-15           0.0   0.0         0.0\n",
       "4    -20 2020-03-16           1.0   0.0         0.0\n",
       "..   ...        ...           ...   ...         ...\n",
       "220  196 2020-10-18         240.0  87.0        87.0\n",
       "221  197 2020-10-19         227.0  83.0        83.0\n",
       "222  198 2020-10-20         215.0  78.0        78.0\n",
       "223  199 2020-10-21         203.0  74.0        74.0\n",
       "224  200 2020-10-22         192.0  70.0        70.0\n",
       "\n",
       "[225 rows x 5 columns]"
      ]
     },
     "execution_count": 54,
     "metadata": {},
     "output_type": "execute_result"
    }
   ],
   "source": [
    "# Créer le graphique retrospectif\n",
    "\n",
    "m.census_floor_df['reel'] = "
   ]
  }
 ],
 "metadata": {
  "kernelspec": {
   "display_name": "Chime",
   "language": "python",
   "name": "chime"
  },
  "language_info": {
   "codemirror_mode": {
    "name": "ipython",
    "version": 3
   },
   "file_extension": ".py",
   "mimetype": "text/x-python",
   "name": "python",
   "nbconvert_exporter": "python",
   "pygments_lexer": "ipython3",
   "version": "3.7.5"
  }
 },
 "nbformat": 4,
 "nbformat_minor": 4
}
