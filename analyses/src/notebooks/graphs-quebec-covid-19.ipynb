{
 "cells": [
  {
   "cell_type": "markdown",
   "metadata": {},
   "source": [
    "# COVID-19 QC\n",
    "\n",
    "Dans ce document, nous voulons utiliser le modèle [SIR](https://code-for-philly.gitbook.io/chime/what-is-chime/sir-modeling) développé par *Penn Medecine* et l'appliquer à la réalité du Québec."
   ]
  },
  {
   "cell_type": "code",
   "execution_count": 2,
   "metadata": {},
   "outputs": [],
   "source": [
    "import os\n",
    "import altair as alt\n",
    "import streamlit as st\n",
    "from datetime import date\n",
    "import pandas as pd\n",
    "\n",
    "#os.chdir(\"../../..\")\n",
    "from src.penn_chime.charts import (\n",
    "    build_admits_chart,\n",
    "    build_census_chart,\n",
    "    build_census_chart_with_real,\n",
    "    build_descriptions,\n",
    "    build_sim_sir_w_date_chart,\n",
    "    build_table,\n",
    ")\n",
    "from src.penn_chime.constants import DATE_FORMAT\n",
    "from src.penn_chime.parameters import Parameters\n",
    "from src.penn_chime.parameters import Parameters, Regions, Disposition\n",
    "\n",
    "from src.penn_chime.models import SimSirModel\n",
    "from src.penn_chime.settings import get_defaults\n",
    "from src.penn_chime.presentation import (\n",
    "    display_download_link,\n",
    "    display_header,\n",
    "    display_sidebar,\n",
    "    hide_menu_style,\n",
    "    write_definitions,\n",
    "    write_footer,\n",
    ")"
   ]
  },
  {
   "cell_type": "markdown",
   "metadata": {},
   "source": [
    "Dans la prochaine cellule, on peut voir certains des paramètres du modèle SIR. Les paramètres QC_POPULATION (nombre d'habitants : 8,500,000), QC_MARKET_SHARE (couverture du système de santé : on considère l'ensemble des hopitaux, donc 100% = 1) et QC_DATE_PREMIER_HOSP (la date du premier cas hospitalisé : 15 mars 2020) sont connus et ne demandent pas d'analyse plus poussée.\n",
    "\n",
    "Par contre, d'autres paramètres peuvent être estimés, déduits ou réfléchis à partir d'avis d'expert et des données du Québec :\n",
    "\n",
    "- `QC_NB_JOURS_HOSPITALISATION`: nombre de jours en moyenne d'hospitalisation\n",
    "- `QC_NB_JOURS_SI`: nombre de jours passé en moyenne aux soins intensifs\n",
    "- `QC_POURC_HOSPITALISATION`: pourcentage des cas infectés (total et non rapportés) qui sont hospitalisés. Pour le moment nous l'avons estimé à partir du % moyen observé au Québec. Voir le fichier (`../../data_qc_ratios.csv`). Puisque les ratios sont calculés à partir du nombre de cas confirmés, et non du nombre de personnes infectées (qui est inconnu), nous l'avons ajusté à la baisse. Il est encore légèrement plus haut que le 5% rencontré dans la littérature sur le sujet.\n",
    "- `QC_POURC_SI`: pourcentage des cas infectés (total et non rapportés) qui iront aux soins intensifs. Pour le moment nous l'avons estimé à partir du % moyen observé au Québec. Voir le fichier (`../../data_qc_ratios.csv`).\n",
    "- `QC_DISTANT_SOCIAL`: facteur de ralentissement de la propagation du virus en réponse aux mesures mises en place et appliquées par la population (0%: aucune mesures appliquées et les contacts dans la population sont similaires à l'habitude) "
   ]
  },
  {
   "cell_type": "code",
   "execution_count": 123,
   "metadata": {},
   "outputs": [],
   "source": [
    "# Parametres propres au Quebec\n",
    "\n",
    "QC_POPULATION = 8500000\n",
    "QC_MARKET_SHARE = 1 # Couverture du systeme de santé\n",
    "\n",
    "QC_DATE_PREMIER_HOSP = date(2020,3,15)\n",
    "\n",
    "QC_NB_JOURS_HOSPITALISATION = 10\n",
    "QC_NB_JOURS_SI = 12\n",
    "\n",
    "QC_POURC_HOSPITALISATION = 0.06\n",
    "QC_POURC_SI = 0.015\n",
    "QC_POURC_VENTILATEUR = QC_POURC_SI"
   ]
  },
  {
   "cell_type": "markdown",
   "metadata": {},
   "source": [
    "## Projections"
   ]
  },
  {
   "cell_type": "markdown",
   "metadata": {},
   "source": [
    "### Projections à partir d'une date antérieure\n",
    "\n",
    "Le graphique ci-dessous montre les cas hospitalisés et aux SI réels versus les prédictions du modèle en considérant la situation au Québec le 25 mars 2018 où il y avait 106 personnes hospitalisés."
   ]
  },
  {
   "cell_type": "code",
   "execution_count": 124,
   "metadata": {},
   "outputs": [
    {
     "name": "stderr",
     "output_type": "stream",
     "text": [
      "Using doubling_time: 4.0\n",
      "Set i_day = 26\n",
      "Estimated date_first_hospitalized: 2020-02-28; current_date: 2020-03-25; i_day: 26\n",
      "len(np.arange(-i_day, n_days+1)): 227\n",
      "len(raw_df): 227\n"
     ]
    }
   ],
   "source": [
    "# Change the default settings\n",
    "\n",
    "QC_HOSP_CURRENT_DATE = 106\n",
    "CURRENT_DATE = date(2020,3,25)\n",
    "QC_DISTANTIATION_SOCIAL = 0\n",
    "\n",
    "params = Parameters(\n",
    "        population=QC_POPULATION,\n",
    "        current_date=CURRENT_DATE,\n",
    "        current_hospitalized=QC_HOSP_CURRENT_DATE,\n",
    "        date_first_hospitalized=QC_DATE_PREMIER_HOSP,\n",
    "        doubling_time=4.0,\n",
    "        hospitalized=Disposition(QC_POURC_HOSPITALISATION, QC_NB_JOURS_HOSPITALISATION),\n",
    "        icu=Disposition(QC_POURC_SI, QC_NB_JOURS_SI),\n",
    "        infectious_days=14,\n",
    "        market_share=QC_MARKET_SHARE,\n",
    "        n_days=200,\n",
    "        mitigation_date=CURRENT_DATE,\n",
    "        relative_contact_rate=QC_DISTANTIATION_SOCIAL,\n",
    "        ventilated=Disposition(QC_POURC_VENTILATEUR, QC_NB_JOURS_SI),\n",
    "    )\n",
    "\n",
    "# Run the Penn Med SIR model\n",
    "p = display_sidebar(st, params)\n",
    "m = SimSirModel(p)"
   ]
  },
  {
   "cell_type": "code",
   "execution_count": 125,
   "metadata": {},
   "outputs": [],
   "source": [
    "import datetime\n",
    "DATES = ['Date']\n",
    "COLS_MERGE = ['Date', 'hosp_reel', 'icu_reel']\n",
    "qc_reels = pd.read_csv('analyses/data/qc_hosp_icu.csv', parse_dates=DATES)\n",
    "qc_reels.rename(columns={'hosp':'hosp_reel',\n",
    "                         'icu':'icu_reel'},\n",
    "                 inplace=True)\n",
    "\n",
    "df_with_real = m.census_floor_df.merge(qc_reels[COLS_MERGE], left_on='date', right_on='Date', how=\"left\").drop(columns=['Date'])\n",
    "df_with_real = df_with_real.astype({'hosp_reel':'float64', 'icu_reel': 'float64'})"
   ]
  },
  {
   "cell_type": "code",
   "execution_count": 126,
   "metadata": {
    "scrolled": false
   },
   "outputs": [
    {
     "data": {
      "text/html": [
       "\n",
       "<div id=\"altair-viz-b2fbb8cec9fe4b0883e00ab11dfa96b9\"></div>\n",
       "<script type=\"text/javascript\">\n",
       "  (function(spec, embedOpt){\n",
       "    let outputDiv = document.currentScript.previousElementSibling;\n",
       "    if (outputDiv.id !== \"altair-viz-b2fbb8cec9fe4b0883e00ab11dfa96b9\") {\n",
       "      outputDiv = document.getElementById(\"altair-viz-b2fbb8cec9fe4b0883e00ab11dfa96b9\");\n",
       "    }\n",
       "    const paths = {\n",
       "      \"vega\": \"https://cdn.jsdelivr.net/npm//vega@5?noext\",\n",
       "      \"vega-lib\": \"https://cdn.jsdelivr.net/npm//vega-lib?noext\",\n",
       "      \"vega-lite\": \"https://cdn.jsdelivr.net/npm//vega-lite@4.8.1?noext\",\n",
       "      \"vega-embed\": \"https://cdn.jsdelivr.net/npm//vega-embed@6?noext\",\n",
       "    };\n",
       "\n",
       "    function loadScript(lib) {\n",
       "      return new Promise(function(resolve, reject) {\n",
       "        var s = document.createElement('script');\n",
       "        s.src = paths[lib];\n",
       "        s.async = true;\n",
       "        s.onload = () => resolve(paths[lib]);\n",
       "        s.onerror = () => reject(`Error loading script: ${paths[lib]}`);\n",
       "        document.getElementsByTagName(\"head\")[0].appendChild(s);\n",
       "      });\n",
       "    }\n",
       "\n",
       "    function showError(err) {\n",
       "      outputDiv.innerHTML = `<div class=\"error\" style=\"color:red;\">${err}</div>`;\n",
       "      throw err;\n",
       "    }\n",
       "\n",
       "    function displayChart(vegaEmbed) {\n",
       "      vegaEmbed(outputDiv, spec, embedOpt)\n",
       "        .catch(err => showError(`Javascript Error: ${err.message}<br>This usually means there's a typo in your chart specification. See the javascript console for the full traceback.`));\n",
       "    }\n",
       "\n",
       "    if(typeof define === \"function\" && define.amd) {\n",
       "      requirejs.config({paths});\n",
       "      require([\"vega-embed\"], displayChart, err => showError(`Error loading script: ${err.message}`));\n",
       "    } else if (typeof vegaEmbed === \"function\") {\n",
       "      displayChart(vegaEmbed);\n",
       "    } else {\n",
       "      loadScript(\"vega\")\n",
       "        .then(() => loadScript(\"vega-lite\"))\n",
       "        .then(() => loadScript(\"vega-embed\"))\n",
       "        .catch(showError)\n",
       "        .then(() => displayChart(vegaEmbed));\n",
       "    }\n",
       "  })({\"config\": {\"view\": {\"continuousWidth\": 400, \"continuousHeight\": 300}, \"legend\": {\"orient\": \"bottom\"}}, \"layer\": [{\"mark\": {\"type\": \"line\", \"point\": true}, \"encoding\": {\"color\": {\"type\": \"nominal\", \"field\": \"key\"}, \"tooltip\": [{\"type\": \"temporal\", \"field\": \"date\"}, {\"type\": \"quantitative\", \"field\": \"value\", \"format\": \".0f\", \"title\": \"Census\"}, {\"type\": \"nominal\", \"field\": \"key\"}], \"x\": {\"type\": \"temporal\", \"axis\": {\"format\": \"%b, %d\"}, \"field\": \"date\", \"title\": \"Date\"}, \"y\": {\"type\": \"quantitative\", \"field\": \"value\", \"scale\": {}, \"title\": \"Census\"}}, \"selection\": {\"selector036\": {\"type\": \"interval\", \"bind\": \"scales\", \"encodings\": [\"x\", \"y\"]}}, \"transform\": [{\"fold\": [\"hospitalized\", \"icu\", \"hosp_reel\", \"icu_reel\"]}]}, {\"mark\": {\"type\": \"rule\", \"color\": \"black\", \"opacity\": 0.35, \"size\": 2}, \"encoding\": {\"x\": {\"type\": \"temporal\", \"axis\": {\"format\": \"%b, %d\"}, \"field\": \"date\", \"title\": \"Date\"}}, \"transform\": [{\"filter\": \"(datum.day === 0)\"}]}], \"data\": {\"name\": \"data-72a6ef2490cb9d12f0592e5f3cce4d30\"}, \"$schema\": \"https://vega.github.io/schema/vega-lite/v4.8.1.json\", \"datasets\": {\"data-72a6ef2490cb9d12f0592e5f3cce4d30\": [{\"day\": -26, \"date\": \"2020-02-28T00:00:00\", \"hospitalized\": null, \"icu\": null, \"ventilated\": null, \"hosp_reel\": null, \"icu_reel\": null}, {\"day\": -25, \"date\": \"2020-02-29T00:00:00\", \"hospitalized\": 0.0, \"icu\": 0.0, \"ventilated\": 0.0, \"hosp_reel\": null, \"icu_reel\": null}, {\"day\": -24, \"date\": \"2020-03-01T00:00:00\", \"hospitalized\": 0.0, \"icu\": 0.0, \"ventilated\": 0.0, \"hosp_reel\": null, \"icu_reel\": null}, {\"day\": -23, \"date\": \"2020-03-02T00:00:00\", \"hospitalized\": 0.0, \"icu\": 0.0, \"ventilated\": 0.0, \"hosp_reel\": null, \"icu_reel\": null}, {\"day\": -22, \"date\": \"2020-03-03T00:00:00\", \"hospitalized\": 1.0, \"icu\": 0.0, \"ventilated\": 0.0, \"hosp_reel\": null, \"icu_reel\": null}, {\"day\": -21, \"date\": \"2020-03-04T00:00:00\", \"hospitalized\": 1.0, \"icu\": 0.0, \"ventilated\": 0.0, \"hosp_reel\": null, \"icu_reel\": null}, {\"day\": -20, \"date\": \"2020-03-05T00:00:00\", \"hospitalized\": 2.0, \"icu\": 0.0, \"ventilated\": 0.0, \"hosp_reel\": null, \"icu_reel\": null}, {\"day\": -19, \"date\": \"2020-03-06T00:00:00\", \"hospitalized\": 3.0, \"icu\": 0.0, \"ventilated\": 0.0, \"hosp_reel\": null, \"icu_reel\": null}, {\"day\": -18, \"date\": \"2020-03-07T00:00:00\", \"hospitalized\": 4.0, \"icu\": 1.0, \"ventilated\": 1.0, \"hosp_reel\": null, \"icu_reel\": null}, {\"day\": -17, \"date\": \"2020-03-08T00:00:00\", \"hospitalized\": 5.0, \"icu\": 1.0, \"ventilated\": 1.0, \"hosp_reel\": null, \"icu_reel\": null}, {\"day\": -16, \"date\": \"2020-03-09T00:00:00\", \"hospitalized\": 6.0, \"icu\": 1.0, \"ventilated\": 1.0, \"hosp_reel\": null, \"icu_reel\": null}, {\"day\": -15, \"date\": \"2020-03-10T00:00:00\", \"hospitalized\": 7.0, \"icu\": 1.0, \"ventilated\": 1.0, \"hosp_reel\": null, \"icu_reel\": null}, {\"day\": -14, \"date\": \"2020-03-11T00:00:00\", \"hospitalized\": 9.0, \"icu\": 2.0, \"ventilated\": 2.0, \"hosp_reel\": null, \"icu_reel\": null}, {\"day\": -13, \"date\": \"2020-03-12T00:00:00\", \"hospitalized\": 10.0, \"icu\": 2.0, \"ventilated\": 2.0, \"hosp_reel\": null, \"icu_reel\": null}, {\"day\": -12, \"date\": \"2020-03-13T00:00:00\", \"hospitalized\": 12.0, \"icu\": 3.0, \"ventilated\": 3.0, \"hosp_reel\": null, \"icu_reel\": null}, {\"day\": -11, \"date\": \"2020-03-14T00:00:00\", \"hospitalized\": 15.0, \"icu\": 4.0, \"ventilated\": 4.0, \"hosp_reel\": null, \"icu_reel\": null}, {\"day\": -10, \"date\": \"2020-03-15T00:00:00\", \"hospitalized\": 18.0, \"icu\": 4.0, \"ventilated\": 4.0, \"hosp_reel\": 2.0, \"icu_reel\": 0.0}, {\"day\": -9, \"date\": \"2020-03-16T00:00:00\", \"hospitalized\": 21.0, \"icu\": 5.0, \"ventilated\": 5.0, \"hosp_reel\": 5.0, \"icu_reel\": 0.0}, {\"day\": -8, \"date\": \"2020-03-17T00:00:00\", \"hospitalized\": 25.0, \"icu\": 6.0, \"ventilated\": 6.0, \"hosp_reel\": 6.0, \"icu_reel\": 4.0}, {\"day\": -7, \"date\": \"2020-03-18T00:00:00\", \"hospitalized\": 30.0, \"icu\": 8.0, \"ventilated\": 8.0, \"hosp_reel\": 7.0, \"icu_reel\": 4.0}, {\"day\": -6, \"date\": \"2020-03-19T00:00:00\", \"hospitalized\": 36.0, \"icu\": 9.0, \"ventilated\": 9.0, \"hosp_reel\": 10.0, \"icu_reel\": 6.0}, {\"day\": -5, \"date\": \"2020-03-20T00:00:00\", \"hospitalized\": 43.0, \"icu\": 11.0, \"ventilated\": 11.0, \"hosp_reel\": 19.0, \"icu_reel\": 10.0}, {\"day\": -4, \"date\": \"2020-03-21T00:00:00\", \"hospitalized\": 51.0, \"icu\": 13.0, \"ventilated\": 13.0, \"hosp_reel\": 24.0, \"icu_reel\": 13.0}, {\"day\": -3, \"date\": \"2020-03-22T00:00:00\", \"hospitalized\": 61.0, \"icu\": 16.0, \"ventilated\": 16.0, \"hosp_reel\": 45.0, \"icu_reel\": 20.0}, {\"day\": -2, \"date\": \"2020-03-23T00:00:00\", \"hospitalized\": 72.0, \"icu\": 19.0, \"ventilated\": 19.0, \"hosp_reel\": 67.0, \"icu_reel\": 31.0}, {\"day\": -1, \"date\": \"2020-03-24T00:00:00\", \"hospitalized\": 86.0, \"icu\": 22.0, \"ventilated\": 22.0, \"hosp_reel\": 78.0, \"icu_reel\": 35.0}, {\"day\": 0, \"date\": \"2020-03-25T00:00:00\", \"hospitalized\": 102.0, \"icu\": 27.0, \"ventilated\": 27.0, \"hosp_reel\": 106.0, \"icu_reel\": 43.0}, {\"day\": 1, \"date\": \"2020-03-26T00:00:00\", \"hospitalized\": 122.0, \"icu\": 32.0, \"ventilated\": 32.0, \"hosp_reel\": 141.0, \"icu_reel\": 50.0}, {\"day\": 2, \"date\": \"2020-03-27T00:00:00\", \"hospitalized\": 145.0, \"icu\": 38.0, \"ventilated\": 38.0, \"hosp_reel\": 164.0, \"icu_reel\": 57.0}, {\"day\": 3, \"date\": \"2020-03-28T00:00:00\", \"hospitalized\": 172.0, \"icu\": 45.0, \"ventilated\": 45.0, \"hosp_reel\": 192.0, \"icu_reel\": 72.0}, {\"day\": 4, \"date\": \"2020-03-29T00:00:00\", \"hospitalized\": 205.0, \"icu\": 54.0, \"ventilated\": 54.0, \"hosp_reel\": 235.0, \"icu_reel\": 78.0}, {\"day\": 5, \"date\": \"2020-03-30T00:00:00\", \"hospitalized\": 243.0, \"icu\": 64.0, \"ventilated\": 64.0, \"hosp_reel\": 286.0, \"icu_reel\": 82.0}, {\"day\": 6, \"date\": \"2020-03-31T00:00:00\", \"hospitalized\": 290.0, \"icu\": 77.0, \"ventilated\": 77.0, \"hosp_reel\": 307.0, \"icu_reel\": 82.0}, {\"day\": 7, \"date\": \"2020-04-01T00:00:00\", \"hospitalized\": 344.0, \"icu\": 91.0, \"ventilated\": 91.0, \"hosp_reel\": 365.0, \"icu_reel\": 96.0}, {\"day\": 8, \"date\": \"2020-04-02T00:00:00\", \"hospitalized\": 410.0, \"icu\": 108.0, \"ventilated\": 108.0, \"hosp_reel\": 441.0, \"icu_reel\": 107.0}, {\"day\": 9, \"date\": \"2020-04-03T00:00:00\", \"hospitalized\": 487.0, \"icu\": 129.0, \"ventilated\": 129.0, \"hosp_reel\": 478.0, \"icu_reel\": 130.0}, {\"day\": 10, \"date\": \"2020-04-04T00:00:00\", \"hospitalized\": 579.0, \"icu\": 154.0, \"ventilated\": 154.0, \"hosp_reel\": null, \"icu_reel\": null}, {\"day\": 11, \"date\": \"2020-04-05T00:00:00\", \"hospitalized\": 689.0, \"icu\": 183.0, \"ventilated\": 183.0, \"hosp_reel\": null, \"icu_reel\": null}]}}, {\"mode\": \"vega-lite\"});\n",
       "</script>"
      ],
      "text/plain": [
       "alt.LayerChart(...)"
      ]
     },
     "execution_count": 126,
     "metadata": {},
     "output_type": "execute_result"
    }
   ],
   "source": [
    "# Graphique réel\n",
    "\n",
    "data_real_plot = df_with_real.loc[df_with_real['date'] <= datetime.datetime(2020,4,5)]\n",
    "data_real_plot\n",
    "census_chart_with_real = build_census_chart_with_real(alt=alt, census_floor_df=data_real_plot, max_y_axis=p.max_y_axis)\n",
    "census_chart_with_real"
   ]
  },
  {
   "cell_type": "markdown",
   "metadata": {},
   "source": [
    "Notez que certains paramètres ont été manuellement ajustés (seulement légèrement) de sorte que les prédictions soient bonnes."
   ]
  },
  {
   "cell_type": "markdown",
   "metadata": {},
   "source": [
    "### Projections en date d'aujourd'hui\n",
    "\n",
    "Les graphiques ci-dessous montrent les projections du modèle SIR, autant pour les nouveaux cas admis à tous les jours que pour le nombre de cas au cumulatif, selon les données receuillies en date du *XX* avril 2020."
   ]
  },
  {
   "cell_type": "code",
   "execution_count": 133,
   "metadata": {},
   "outputs": [
    {
     "name": "stderr",
     "output_type": "stream",
     "text": [
      "Using doubling_time: 4.0\n",
      "Set i_day = 35\n",
      "Estimated date_first_hospitalized: 2020-02-28; current_date: 2020-04-03; i_day: 35\n",
      "len(np.arange(-i_day, n_days+1)): 236\n",
      "len(raw_df): 236\n"
     ]
    }
   ],
   "source": [
    "# Change the default settings\n",
    "\n",
    "QC_HOSP_CURRENT_DATE = 478\n",
    "CURRENT_DATE = date(2020,4,3)\n",
    "QC_DISTANTIATION_SOCIAL = 0.3\n",
    "\n",
    "params = Parameters(\n",
    "        population=QC_POPULATION,\n",
    "        current_date=CURRENT_DATE,\n",
    "        current_hospitalized=QC_HOSP_CURRENT_DATE,\n",
    "        date_first_hospitalized=QC_DATE_PREMIER_HOSP,\n",
    "        doubling_time=4.0,\n",
    "        hospitalized=Disposition(QC_POURC_HOSPITALISATION, QC_NB_JOURS_HOSPITALISATION),\n",
    "        icu=Disposition(QC_POURC_SI, QC_NB_JOURS_SI),\n",
    "        infectious_days=14,\n",
    "        market_share=QC_MARKET_SHARE,\n",
    "        n_days=200,\n",
    "        mitigation_date=CURRENT_DATE,\n",
    "        relative_contact_rate=QC_DISTANTIATION_SOCIAL,\n",
    "        ventilated=Disposition(QC_POURC_VENTILATEUR, QC_NB_JOURS_SI),\n",
    "    )\n",
    "\n",
    "# Run the Penn Med SIR model\n",
    "p = display_sidebar(st, params)\n",
    "m = SimSirModel(p)"
   ]
  },
  {
   "cell_type": "code",
   "execution_count": 134,
   "metadata": {},
   "outputs": [
    {
     "data": {
      "text/html": [
       "\n",
       "<div id=\"altair-viz-94be5a9568184fb2b6523fec5af2f295\"></div>\n",
       "<script type=\"text/javascript\">\n",
       "  (function(spec, embedOpt){\n",
       "    let outputDiv = document.currentScript.previousElementSibling;\n",
       "    if (outputDiv.id !== \"altair-viz-94be5a9568184fb2b6523fec5af2f295\") {\n",
       "      outputDiv = document.getElementById(\"altair-viz-94be5a9568184fb2b6523fec5af2f295\");\n",
       "    }\n",
       "    const paths = {\n",
       "      \"vega\": \"https://cdn.jsdelivr.net/npm//vega@5?noext\",\n",
       "      \"vega-lib\": \"https://cdn.jsdelivr.net/npm//vega-lib?noext\",\n",
       "      \"vega-lite\": \"https://cdn.jsdelivr.net/npm//vega-lite@4.8.1?noext\",\n",
       "      \"vega-embed\": \"https://cdn.jsdelivr.net/npm//vega-embed@6?noext\",\n",
       "    };\n",
       "\n",
       "    function loadScript(lib) {\n",
       "      return new Promise(function(resolve, reject) {\n",
       "        var s = document.createElement('script');\n",
       "        s.src = paths[lib];\n",
       "        s.async = true;\n",
       "        s.onload = () => resolve(paths[lib]);\n",
       "        s.onerror = () => reject(`Error loading script: ${paths[lib]}`);\n",
       "        document.getElementsByTagName(\"head\")[0].appendChild(s);\n",
       "      });\n",
       "    }\n",
       "\n",
       "    function showError(err) {\n",
       "      outputDiv.innerHTML = `<div class=\"error\" style=\"color:red;\">${err}</div>`;\n",
       "      throw err;\n",
       "    }\n",
       "\n",
       "    function displayChart(vegaEmbed) {\n",
       "      vegaEmbed(outputDiv, spec, embedOpt)\n",
       "        .catch(err => showError(`Javascript Error: ${err.message}<br>This usually means there's a typo in your chart specification. See the javascript console for the full traceback.`));\n",
       "    }\n",
       "\n",
       "    if(typeof define === \"function\" && define.amd) {\n",
       "      requirejs.config({paths});\n",
       "      require([\"vega-embed\"], displayChart, err => showError(`Error loading script: ${err.message}`));\n",
       "    } else if (typeof vegaEmbed === \"function\") {\n",
       "      displayChart(vegaEmbed);\n",
       "    } else {\n",
       "      loadScript(\"vega\")\n",
       "        .then(() => loadScript(\"vega-lite\"))\n",
       "        .then(() => loadScript(\"vega-embed\"))\n",
       "        .catch(showError)\n",
       "        .then(() => displayChart(vegaEmbed));\n",
       "    }\n",
       "  })({\"config\": {\"view\": {\"continuousWidth\": 400, \"continuousHeight\": 300}, \"legend\": {\"orient\": \"bottom\"}}, \"layer\": [{\"mark\": {\"type\": \"line\", \"point\": true}, \"encoding\": {\"color\": {\"type\": \"nominal\", \"field\": \"key\"}, \"tooltip\": [{\"type\": \"temporal\", \"field\": \"date\"}, {\"type\": \"quantitative\", \"field\": \"value\", \"format\": \".0f\", \"title\": \"Admit\"}, {\"type\": \"nominal\", \"field\": \"key\"}], \"x\": {\"type\": \"temporal\", \"axis\": {\"format\": \"%b, %d\"}, \"field\": \"date\", \"title\": \"Date\"}, \"y\": {\"type\": \"quantitative\", \"field\": \"value\", \"scale\": {}, \"title\": \"Daily admissions\"}}, \"selection\": {\"selector041\": {\"type\": \"interval\", \"bind\": \"scales\", \"encodings\": [\"x\", \"y\"]}}, \"transform\": [{\"fold\": [\"hospitalized\", \"icu\", \"ventilated\"]}]}, {\"mark\": {\"type\": \"rule\", \"color\": \"black\", \"opacity\": 0.35, \"size\": 2}, \"encoding\": {\"x\": {\"type\": \"temporal\", \"axis\": {\"format\": \"%b, %d\"}, \"field\": \"date\", \"title\": \"Date\"}}, \"transform\": [{\"filter\": \"(datum.day === 0)\"}]}], \"data\": {\"name\": \"data-544038731b85d35c08fcea01261dfc20\"}, \"$schema\": \"https://vega.github.io/schema/vega-lite/v4.8.1.json\", \"datasets\": {\"data-544038731b85d35c08fcea01261dfc20\": [{\"day\": -35, \"date\": \"2020-02-28T00:00:00\", \"hospitalized\": null, \"icu\": null, \"ventilated\": null}, {\"day\": -34, \"date\": \"2020-02-29T00:00:00\", \"hospitalized\": 0.0, \"icu\": 0.0, \"ventilated\": 0.0}, {\"day\": -33, \"date\": \"2020-03-01T00:00:00\", \"hospitalized\": 0.0, \"icu\": 0.0, \"ventilated\": 0.0}, {\"day\": -32, \"date\": \"2020-03-02T00:00:00\", \"hospitalized\": 0.0, \"icu\": 0.0, \"ventilated\": 0.0}, {\"day\": -31, \"date\": \"2020-03-03T00:00:00\", \"hospitalized\": 0.0, \"icu\": 0.0, \"ventilated\": 0.0}, {\"day\": -30, \"date\": \"2020-03-04T00:00:00\", \"hospitalized\": 0.0, \"icu\": 0.0, \"ventilated\": 0.0}, {\"day\": -29, \"date\": \"2020-03-05T00:00:00\", \"hospitalized\": 0.0, \"icu\": 0.0, \"ventilated\": 0.0}, {\"day\": -28, \"date\": \"2020-03-06T00:00:00\", \"hospitalized\": 0.0, \"icu\": 0.0, \"ventilated\": 0.0}, {\"day\": -27, \"date\": \"2020-03-07T00:00:00\", \"hospitalized\": 0.0, \"icu\": 0.0, \"ventilated\": 0.0}, {\"day\": -26, \"date\": \"2020-03-08T00:00:00\", \"hospitalized\": 1.0, \"icu\": 0.0, \"ventilated\": 0.0}, {\"day\": -25, \"date\": \"2020-03-09T00:00:00\", \"hospitalized\": 1.0, \"icu\": 0.0, \"ventilated\": 0.0}, {\"day\": -24, \"date\": \"2020-03-10T00:00:00\", \"hospitalized\": 1.0, \"icu\": 0.0, \"ventilated\": 0.0}, {\"day\": -23, \"date\": \"2020-03-11T00:00:00\", \"hospitalized\": 1.0, \"icu\": 0.0, \"ventilated\": 0.0}, {\"day\": -22, \"date\": \"2020-03-12T00:00:00\", \"hospitalized\": 2.0, \"icu\": 0.0, \"ventilated\": 0.0}, {\"day\": -21, \"date\": \"2020-03-13T00:00:00\", \"hospitalized\": 2.0, \"icu\": 0.0, \"ventilated\": 0.0}, {\"day\": -20, \"date\": \"2020-03-14T00:00:00\", \"hospitalized\": 2.0, \"icu\": 0.0, \"ventilated\": 0.0}, {\"day\": -19, \"date\": \"2020-03-15T00:00:00\", \"hospitalized\": 3.0, \"icu\": 0.0, \"ventilated\": 0.0}, {\"day\": -18, \"date\": \"2020-03-16T00:00:00\", \"hospitalized\": 4.0, \"icu\": 1.0, \"ventilated\": 1.0}, {\"day\": -17, \"date\": \"2020-03-17T00:00:00\", \"hospitalized\": 4.0, \"icu\": 1.0, \"ventilated\": 1.0}, {\"day\": -16, \"date\": \"2020-03-18T00:00:00\", \"hospitalized\": 5.0, \"icu\": 1.0, \"ventilated\": 1.0}, {\"day\": -15, \"date\": \"2020-03-19T00:00:00\", \"hospitalized\": 7.0, \"icu\": 1.0, \"ventilated\": 1.0}, {\"day\": -14, \"date\": \"2020-03-20T00:00:00\", \"hospitalized\": 8.0, \"icu\": 2.0, \"ventilated\": 2.0}, {\"day\": -13, \"date\": \"2020-03-21T00:00:00\", \"hospitalized\": 9.0, \"icu\": 2.0, \"ventilated\": 2.0}, {\"day\": -12, \"date\": \"2020-03-22T00:00:00\", \"hospitalized\": 11.0, \"icu\": 2.0, \"ventilated\": 2.0}, {\"day\": -11, \"date\": \"2020-03-23T00:00:00\", \"hospitalized\": 14.0, \"icu\": 3.0, \"ventilated\": 3.0}, {\"day\": -10, \"date\": \"2020-03-24T00:00:00\", \"hospitalized\": 16.0, \"icu\": 4.0, \"ventilated\": 4.0}, {\"day\": -9, \"date\": \"2020-03-25T00:00:00\", \"hospitalized\": 19.0, \"icu\": 4.0, \"ventilated\": 4.0}, {\"day\": -8, \"date\": \"2020-03-26T00:00:00\", \"hospitalized\": 23.0, \"icu\": 5.0, \"ventilated\": 5.0}, {\"day\": -7, \"date\": \"2020-03-27T00:00:00\", \"hospitalized\": 28.0, \"icu\": 7.0, \"ventilated\": 7.0}, {\"day\": -6, \"date\": \"2020-03-28T00:00:00\", \"hospitalized\": 33.0, \"icu\": 8.0, \"ventilated\": 8.0}, {\"day\": -5, \"date\": \"2020-03-29T00:00:00\", \"hospitalized\": 39.0, \"icu\": 9.0, \"ventilated\": 9.0}, {\"day\": -4, \"date\": \"2020-03-30T00:00:00\", \"hospitalized\": 47.0, \"icu\": 11.0, \"ventilated\": 11.0}, {\"day\": -3, \"date\": \"2020-03-31T00:00:00\", \"hospitalized\": 56.0, \"icu\": 14.0, \"ventilated\": 14.0}, {\"day\": -2, \"date\": \"2020-04-01T00:00:00\", \"hospitalized\": 66.0, \"icu\": 16.0, \"ventilated\": 16.0}, {\"day\": -1, \"date\": \"2020-04-02T00:00:00\", \"hospitalized\": 79.0, \"icu\": 19.0, \"ventilated\": 19.0}, {\"day\": 0, \"date\": \"2020-04-03T00:00:00\", \"hospitalized\": 94.0, \"icu\": 23.0, \"ventilated\": 23.0}, {\"day\": 1, \"date\": \"2020-04-04T00:00:00\", \"hospitalized\": 78.0, \"icu\": 19.0, \"ventilated\": 19.0}, {\"day\": 2, \"date\": \"2020-04-05T00:00:00\", \"hospitalized\": 87.0, \"icu\": 21.0, \"ventilated\": 21.0}, {\"day\": 3, \"date\": \"2020-04-06T00:00:00\", \"hospitalized\": 96.0, \"icu\": 24.0, \"ventilated\": 24.0}, {\"day\": 4, \"date\": \"2020-04-07T00:00:00\", \"hospitalized\": 107.0, \"icu\": 26.0, \"ventilated\": 26.0}, {\"day\": 5, \"date\": \"2020-04-08T00:00:00\", \"hospitalized\": 119.0, \"icu\": 29.0, \"ventilated\": 29.0}, {\"day\": 6, \"date\": \"2020-04-09T00:00:00\", \"hospitalized\": 132.0, \"icu\": 33.0, \"ventilated\": 33.0}, {\"day\": 7, \"date\": \"2020-04-10T00:00:00\", \"hospitalized\": 146.0, \"icu\": 36.0, \"ventilated\": 36.0}, {\"day\": 8, \"date\": \"2020-04-11T00:00:00\", \"hospitalized\": 163.0, \"icu\": 40.0, \"ventilated\": 40.0}, {\"day\": 9, \"date\": \"2020-04-12T00:00:00\", \"hospitalized\": 181.0, \"icu\": 45.0, \"ventilated\": 45.0}, {\"day\": 10, \"date\": \"2020-04-13T00:00:00\", \"hospitalized\": 201.0, \"icu\": 50.0, \"ventilated\": 50.0}, {\"day\": 11, \"date\": \"2020-04-14T00:00:00\", \"hospitalized\": 223.0, \"icu\": 55.0, \"ventilated\": 55.0}, {\"day\": 12, \"date\": \"2020-04-15T00:00:00\", \"hospitalized\": 247.0, \"icu\": 61.0, \"ventilated\": 61.0}, {\"day\": 13, \"date\": \"2020-04-16T00:00:00\", \"hospitalized\": 274.0, \"icu\": 68.0, \"ventilated\": 68.0}, {\"day\": 14, \"date\": \"2020-04-17T00:00:00\", \"hospitalized\": 304.0, \"icu\": 76.0, \"ventilated\": 76.0}, {\"day\": 15, \"date\": \"2020-04-18T00:00:00\", \"hospitalized\": 338.0, \"icu\": 84.0, \"ventilated\": 84.0}, {\"day\": 16, \"date\": \"2020-04-19T00:00:00\", \"hospitalized\": 375.0, \"icu\": 93.0, \"ventilated\": 93.0}, {\"day\": 17, \"date\": \"2020-04-20T00:00:00\", \"hospitalized\": 416.0, \"icu\": 104.0, \"ventilated\": 104.0}, {\"day\": 18, \"date\": \"2020-04-21T00:00:00\", \"hospitalized\": 461.0, \"icu\": 115.0, \"ventilated\": 115.0}, {\"day\": 19, \"date\": \"2020-04-22T00:00:00\", \"hospitalized\": 511.0, \"icu\": 127.0, \"ventilated\": 127.0}, {\"day\": 20, \"date\": \"2020-04-23T00:00:00\", \"hospitalized\": 566.0, \"icu\": 141.0, \"ventilated\": 141.0}, {\"day\": 21, \"date\": \"2020-04-24T00:00:00\", \"hospitalized\": 628.0, \"icu\": 157.0, \"ventilated\": 157.0}, {\"day\": 22, \"date\": \"2020-04-25T00:00:00\", \"hospitalized\": 695.0, \"icu\": 173.0, \"ventilated\": 173.0}, {\"day\": 23, \"date\": \"2020-04-26T00:00:00\", \"hospitalized\": 770.0, \"icu\": 192.0, \"ventilated\": 192.0}, {\"day\": 24, \"date\": \"2020-04-27T00:00:00\", \"hospitalized\": 852.0, \"icu\": 213.0, \"ventilated\": 213.0}, {\"day\": 25, \"date\": \"2020-04-28T00:00:00\", \"hospitalized\": 943.0, \"icu\": 235.0, \"ventilated\": 235.0}, {\"day\": 26, \"date\": \"2020-04-29T00:00:00\", \"hospitalized\": 1043.0, \"icu\": 260.0, \"ventilated\": 260.0}, {\"day\": 27, \"date\": \"2020-04-30T00:00:00\", \"hospitalized\": 1153.0, \"icu\": 288.0, \"ventilated\": 288.0}, {\"day\": 28, \"date\": \"2020-05-01T00:00:00\", \"hospitalized\": 1273.0, \"icu\": 318.0, \"ventilated\": 318.0}, {\"day\": 29, \"date\": \"2020-05-02T00:00:00\", \"hospitalized\": 1406.0, \"icu\": 351.0, \"ventilated\": 351.0}, {\"day\": 30, \"date\": \"2020-05-03T00:00:00\", \"hospitalized\": 1551.0, \"icu\": 387.0, \"ventilated\": 387.0}, {\"day\": 31, \"date\": \"2020-05-04T00:00:00\", \"hospitalized\": 1710.0, \"icu\": 427.0, \"ventilated\": 427.0}, {\"day\": 32, \"date\": \"2020-05-05T00:00:00\", \"hospitalized\": 1884.0, \"icu\": 471.0, \"ventilated\": 471.0}, {\"day\": 33, \"date\": \"2020-05-06T00:00:00\", \"hospitalized\": 2073.0, \"icu\": 518.0, \"ventilated\": 518.0}, {\"day\": 34, \"date\": \"2020-05-07T00:00:00\", \"hospitalized\": 2279.0, \"icu\": 569.0, \"ventilated\": 569.0}, {\"day\": 35, \"date\": \"2020-05-08T00:00:00\", \"hospitalized\": 2503.0, \"icu\": 625.0, \"ventilated\": 625.0}, {\"day\": 36, \"date\": \"2020-05-09T00:00:00\", \"hospitalized\": 2745.0, \"icu\": 686.0, \"ventilated\": 686.0}, {\"day\": 37, \"date\": \"2020-05-10T00:00:00\", \"hospitalized\": 3007.0, \"icu\": 751.0, \"ventilated\": 751.0}, {\"day\": 38, \"date\": \"2020-05-11T00:00:00\", \"hospitalized\": 3288.0, \"icu\": 822.0, \"ventilated\": 822.0}, {\"day\": 39, \"date\": \"2020-05-12T00:00:00\", \"hospitalized\": 3591.0, \"icu\": 897.0, \"ventilated\": 897.0}, {\"day\": 40, \"date\": \"2020-05-13T00:00:00\", \"hospitalized\": 3914.0, \"icu\": 978.0, \"ventilated\": 978.0}, {\"day\": 41, \"date\": \"2020-05-14T00:00:00\", \"hospitalized\": 4258.0, \"icu\": 1064.0, \"ventilated\": 1064.0}, {\"day\": 42, \"date\": \"2020-05-15T00:00:00\", \"hospitalized\": 4623.0, \"icu\": 1155.0, \"ventilated\": 1155.0}, {\"day\": 43, \"date\": \"2020-05-16T00:00:00\", \"hospitalized\": 5008.0, \"icu\": 1252.0, \"ventilated\": 1252.0}, {\"day\": 44, \"date\": \"2020-05-17T00:00:00\", \"hospitalized\": 5411.0, \"icu\": 1352.0, \"ventilated\": 1352.0}, {\"day\": 45, \"date\": \"2020-05-18T00:00:00\", \"hospitalized\": 5831.0, \"icu\": 1457.0, \"ventilated\": 1457.0}, {\"day\": 46, \"date\": \"2020-05-19T00:00:00\", \"hospitalized\": 6266.0, \"icu\": 1566.0, \"ventilated\": 1566.0}, {\"day\": 47, \"date\": \"2020-05-20T00:00:00\", \"hospitalized\": 6713.0, \"icu\": 1678.0, \"ventilated\": 1678.0}, {\"day\": 48, \"date\": \"2020-05-21T00:00:00\", \"hospitalized\": 7167.0, \"icu\": 1791.0, \"ventilated\": 1791.0}, {\"day\": 49, \"date\": \"2020-05-22T00:00:00\", \"hospitalized\": 7626.0, \"icu\": 1906.0, \"ventilated\": 1906.0}, {\"day\": 50, \"date\": \"2020-05-23T00:00:00\", \"hospitalized\": 8083.0, \"icu\": 2020.0, \"ventilated\": 2020.0}, {\"day\": 51, \"date\": \"2020-05-24T00:00:00\", \"hospitalized\": 8533.0, \"icu\": 2133.0, \"ventilated\": 2133.0}, {\"day\": 52, \"date\": \"2020-05-25T00:00:00\", \"hospitalized\": 8971.0, \"icu\": 2242.0, \"ventilated\": 2242.0}, {\"day\": 53, \"date\": \"2020-05-26T00:00:00\", \"hospitalized\": 9389.0, \"icu\": 2347.0, \"ventilated\": 2347.0}, {\"day\": 54, \"date\": \"2020-05-27T00:00:00\", \"hospitalized\": 9781.0, \"icu\": 2445.0, \"ventilated\": 2445.0}, {\"day\": 55, \"date\": \"2020-05-28T00:00:00\", \"hospitalized\": 10141.0, \"icu\": 2535.0, \"ventilated\": 2535.0}, {\"day\": 56, \"date\": \"2020-05-29T00:00:00\", \"hospitalized\": 10461.0, \"icu\": 2615.0, \"ventilated\": 2615.0}, {\"day\": 57, \"date\": \"2020-05-30T00:00:00\", \"hospitalized\": 10736.0, \"icu\": 2684.0, \"ventilated\": 2684.0}, {\"day\": 58, \"date\": \"2020-05-31T00:00:00\", \"hospitalized\": 10961.0, \"icu\": 2740.0, \"ventilated\": 2740.0}, {\"day\": 59, \"date\": \"2020-06-01T00:00:00\", \"hospitalized\": 11130.0, \"icu\": 2782.0, \"ventilated\": 2782.0}, {\"day\": 60, \"date\": \"2020-06-02T00:00:00\", \"hospitalized\": 11242.0, \"icu\": 2810.0, \"ventilated\": 2810.0}, {\"day\": 61, \"date\": \"2020-06-03T00:00:00\", \"hospitalized\": 11293.0, \"icu\": 2823.0, \"ventilated\": 2823.0}, {\"day\": 62, \"date\": \"2020-06-04T00:00:00\", \"hospitalized\": 11283.0, \"icu\": 2820.0, \"ventilated\": 2820.0}, {\"day\": 63, \"date\": \"2020-06-05T00:00:00\", \"hospitalized\": 11213.0, \"icu\": 2803.0, \"ventilated\": 2803.0}, {\"day\": 64, \"date\": \"2020-06-06T00:00:00\", \"hospitalized\": 11085.0, \"icu\": 2771.0, \"ventilated\": 2771.0}, {\"day\": 65, \"date\": \"2020-06-07T00:00:00\", \"hospitalized\": 10902.0, \"icu\": 2725.0, \"ventilated\": 2725.0}, {\"day\": 66, \"date\": \"2020-06-08T00:00:00\", \"hospitalized\": 10670.0, \"icu\": 2667.0, \"ventilated\": 2667.0}, {\"day\": 67, \"date\": \"2020-06-09T00:00:00\", \"hospitalized\": 10392.0, \"icu\": 2598.0, \"ventilated\": 2598.0}, {\"day\": 68, \"date\": \"2020-06-10T00:00:00\", \"hospitalized\": 10076.0, \"icu\": 2519.0, \"ventilated\": 2519.0}, {\"day\": 69, \"date\": \"2020-06-11T00:00:00\", \"hospitalized\": 9728.0, \"icu\": 2432.0, \"ventilated\": 2432.0}, {\"day\": 70, \"date\": \"2020-06-12T00:00:00\", \"hospitalized\": 9354.0, \"icu\": 2338.0, \"ventilated\": 2338.0}, {\"day\": 71, \"date\": \"2020-06-13T00:00:00\", \"hospitalized\": 8960.0, \"icu\": 2240.0, \"ventilated\": 2240.0}, {\"day\": 72, \"date\": \"2020-06-14T00:00:00\", \"hospitalized\": 8553.0, \"icu\": 2138.0, \"ventilated\": 2138.0}, {\"day\": 73, \"date\": \"2020-06-15T00:00:00\", \"hospitalized\": 8138.0, \"icu\": 2034.0, \"ventilated\": 2034.0}, {\"day\": 74, \"date\": \"2020-06-16T00:00:00\", \"hospitalized\": 7722.0, \"icu\": 1930.0, \"ventilated\": 1930.0}, {\"day\": 75, \"date\": \"2020-06-17T00:00:00\", \"hospitalized\": 7307.0, \"icu\": 1826.0, \"ventilated\": 1826.0}, {\"day\": 76, \"date\": \"2020-06-18T00:00:00\", \"hospitalized\": 6898.0, \"icu\": 1724.0, \"ventilated\": 1724.0}, {\"day\": 77, \"date\": \"2020-06-19T00:00:00\", \"hospitalized\": 6499.0, \"icu\": 1624.0, \"ventilated\": 1624.0}, {\"day\": 78, \"date\": \"2020-06-20T00:00:00\", \"hospitalized\": 6111.0, \"icu\": 1527.0, \"ventilated\": 1527.0}, {\"day\": 79, \"date\": \"2020-06-21T00:00:00\", \"hospitalized\": 5738.0, \"icu\": 1434.0, \"ventilated\": 1434.0}, {\"day\": 80, \"date\": \"2020-06-22T00:00:00\", \"hospitalized\": 5380.0, \"icu\": 1345.0, \"ventilated\": 1345.0}, {\"day\": 81, \"date\": \"2020-06-23T00:00:00\", \"hospitalized\": 5038.0, \"icu\": 1259.0, \"ventilated\": 1259.0}, {\"day\": 82, \"date\": \"2020-06-24T00:00:00\", \"hospitalized\": 4714.0, \"icu\": 1178.0, \"ventilated\": 1178.0}, {\"day\": 83, \"date\": \"2020-06-25T00:00:00\", \"hospitalized\": 4407.0, \"icu\": 1101.0, \"ventilated\": 1101.0}, {\"day\": 84, \"date\": \"2020-06-26T00:00:00\", \"hospitalized\": 4117.0, \"icu\": 1029.0, \"ventilated\": 1029.0}, {\"day\": 85, \"date\": \"2020-06-27T00:00:00\", \"hospitalized\": 3845.0, \"icu\": 961.0, \"ventilated\": 961.0}, {\"day\": 86, \"date\": \"2020-06-28T00:00:00\", \"hospitalized\": 3589.0, \"icu\": 897.0, \"ventilated\": 897.0}, {\"day\": 87, \"date\": \"2020-06-29T00:00:00\", \"hospitalized\": 3350.0, \"icu\": 837.0, \"ventilated\": 837.0}, {\"day\": 88, \"date\": \"2020-06-30T00:00:00\", \"hospitalized\": 3126.0, \"icu\": 781.0, \"ventilated\": 781.0}, {\"day\": 89, \"date\": \"2020-07-01T00:00:00\", \"hospitalized\": 2917.0, \"icu\": 729.0, \"ventilated\": 729.0}, {\"day\": 90, \"date\": \"2020-07-02T00:00:00\", \"hospitalized\": 2722.0, \"icu\": 680.0, \"ventilated\": 680.0}, {\"day\": 91, \"date\": \"2020-07-03T00:00:00\", \"hospitalized\": 2540.0, \"icu\": 635.0, \"ventilated\": 635.0}, {\"day\": 92, \"date\": \"2020-07-04T00:00:00\", \"hospitalized\": 2371.0, \"icu\": 592.0, \"ventilated\": 592.0}, {\"day\": 93, \"date\": \"2020-07-05T00:00:00\", \"hospitalized\": 2213.0, \"icu\": 553.0, \"ventilated\": 553.0}, {\"day\": 94, \"date\": \"2020-07-06T00:00:00\", \"hospitalized\": 2067.0, \"icu\": 516.0, \"ventilated\": 516.0}, {\"day\": 95, \"date\": \"2020-07-07T00:00:00\", \"hospitalized\": 1930.0, \"icu\": 482.0, \"ventilated\": 482.0}, {\"day\": 96, \"date\": \"2020-07-08T00:00:00\", \"hospitalized\": 1803.0, \"icu\": 450.0, \"ventilated\": 450.0}, {\"day\": 97, \"date\": \"2020-07-09T00:00:00\", \"hospitalized\": 1686.0, \"icu\": 421.0, \"ventilated\": 421.0}, {\"day\": 98, \"date\": \"2020-07-10T00:00:00\", \"hospitalized\": 1576.0, \"icu\": 394.0, \"ventilated\": 394.0}, {\"day\": 99, \"date\": \"2020-07-11T00:00:00\", \"hospitalized\": 1474.0, \"icu\": 368.0, \"ventilated\": 368.0}, {\"day\": 100, \"date\": \"2020-07-12T00:00:00\", \"hospitalized\": 1379.0, \"icu\": 344.0, \"ventilated\": 344.0}, {\"day\": 101, \"date\": \"2020-07-13T00:00:00\", \"hospitalized\": 1291.0, \"icu\": 322.0, \"ventilated\": 322.0}, {\"day\": 102, \"date\": \"2020-07-14T00:00:00\", \"hospitalized\": 1208.0, \"icu\": 302.0, \"ventilated\": 302.0}, {\"day\": 103, \"date\": \"2020-07-15T00:00:00\", \"hospitalized\": 1132.0, \"icu\": 283.0, \"ventilated\": 283.0}, {\"day\": 104, \"date\": \"2020-07-16T00:00:00\", \"hospitalized\": 1061.0, \"icu\": 265.0, \"ventilated\": 265.0}, {\"day\": 105, \"date\": \"2020-07-17T00:00:00\", \"hospitalized\": 994.0, \"icu\": 248.0, \"ventilated\": 248.0}, {\"day\": 106, \"date\": \"2020-07-18T00:00:00\", \"hospitalized\": 932.0, \"icu\": 233.0, \"ventilated\": 233.0}, {\"day\": 107, \"date\": \"2020-07-19T00:00:00\", \"hospitalized\": 875.0, \"icu\": 218.0, \"ventilated\": 218.0}, {\"day\": 108, \"date\": \"2020-07-20T00:00:00\", \"hospitalized\": 821.0, \"icu\": 205.0, \"ventilated\": 205.0}, {\"day\": 109, \"date\": \"2020-07-21T00:00:00\", \"hospitalized\": 770.0, \"icu\": 192.0, \"ventilated\": 192.0}, {\"day\": 110, \"date\": \"2020-07-22T00:00:00\", \"hospitalized\": 723.0, \"icu\": 180.0, \"ventilated\": 180.0}, {\"day\": 111, \"date\": \"2020-07-23T00:00:00\", \"hospitalized\": 679.0, \"icu\": 169.0, \"ventilated\": 169.0}, {\"day\": 112, \"date\": \"2020-07-24T00:00:00\", \"hospitalized\": 638.0, \"icu\": 159.0, \"ventilated\": 159.0}, {\"day\": 113, \"date\": \"2020-07-25T00:00:00\", \"hospitalized\": 600.0, \"icu\": 150.0, \"ventilated\": 150.0}, {\"day\": 114, \"date\": \"2020-07-26T00:00:00\", \"hospitalized\": 564.0, \"icu\": 141.0, \"ventilated\": 141.0}, {\"day\": 115, \"date\": \"2020-07-27T00:00:00\", \"hospitalized\": 531.0, \"icu\": 132.0, \"ventilated\": 132.0}, {\"day\": 116, \"date\": \"2020-07-28T00:00:00\", \"hospitalized\": 499.0, \"icu\": 124.0, \"ventilated\": 124.0}, {\"day\": 117, \"date\": \"2020-07-29T00:00:00\", \"hospitalized\": 470.0, \"icu\": 117.0, \"ventilated\": 117.0}, {\"day\": 118, \"date\": \"2020-07-30T00:00:00\", \"hospitalized\": 442.0, \"icu\": 110.0, \"ventilated\": 110.0}, {\"day\": 119, \"date\": \"2020-07-31T00:00:00\", \"hospitalized\": 416.0, \"icu\": 104.0, \"ventilated\": 104.0}, {\"day\": 120, \"date\": \"2020-08-01T00:00:00\", \"hospitalized\": 392.0, \"icu\": 98.0, \"ventilated\": 98.0}, {\"day\": 121, \"date\": \"2020-08-02T00:00:00\", \"hospitalized\": 369.0, \"icu\": 92.0, \"ventilated\": 92.0}, {\"day\": 122, \"date\": \"2020-08-03T00:00:00\", \"hospitalized\": 348.0, \"icu\": 87.0, \"ventilated\": 87.0}, {\"day\": 123, \"date\": \"2020-08-04T00:00:00\", \"hospitalized\": 328.0, \"icu\": 82.0, \"ventilated\": 82.0}, {\"day\": 124, \"date\": \"2020-08-05T00:00:00\", \"hospitalized\": 309.0, \"icu\": 77.0, \"ventilated\": 77.0}, {\"day\": 125, \"date\": \"2020-08-06T00:00:00\", \"hospitalized\": 291.0, \"icu\": 72.0, \"ventilated\": 72.0}, {\"day\": 126, \"date\": \"2020-08-07T00:00:00\", \"hospitalized\": 274.0, \"icu\": 68.0, \"ventilated\": 68.0}, {\"day\": 127, \"date\": \"2020-08-08T00:00:00\", \"hospitalized\": 259.0, \"icu\": 64.0, \"ventilated\": 64.0}, {\"day\": 128, \"date\": \"2020-08-09T00:00:00\", \"hospitalized\": 244.0, \"icu\": 61.0, \"ventilated\": 61.0}, {\"day\": 129, \"date\": \"2020-08-10T00:00:00\", \"hospitalized\": 230.0, \"icu\": 57.0, \"ventilated\": 57.0}, {\"day\": 130, \"date\": \"2020-08-11T00:00:00\", \"hospitalized\": 217.0, \"icu\": 54.0, \"ventilated\": 54.0}, {\"day\": 131, \"date\": \"2020-08-12T00:00:00\", \"hospitalized\": 205.0, \"icu\": 51.0, \"ventilated\": 51.0}, {\"day\": 132, \"date\": \"2020-08-13T00:00:00\", \"hospitalized\": 193.0, \"icu\": 48.0, \"ventilated\": 48.0}, {\"day\": 133, \"date\": \"2020-08-14T00:00:00\", \"hospitalized\": 182.0, \"icu\": 45.0, \"ventilated\": 45.0}, {\"day\": 134, \"date\": \"2020-08-15T00:00:00\", \"hospitalized\": 172.0, \"icu\": 43.0, \"ventilated\": 43.0}, {\"day\": 135, \"date\": \"2020-08-16T00:00:00\", \"hospitalized\": 162.0, \"icu\": 40.0, \"ventilated\": 40.0}, {\"day\": 136, \"date\": \"2020-08-17T00:00:00\", \"hospitalized\": 153.0, \"icu\": 38.0, \"ventilated\": 38.0}, {\"day\": 137, \"date\": \"2020-08-18T00:00:00\", \"hospitalized\": 145.0, \"icu\": 36.0, \"ventilated\": 36.0}, {\"day\": 138, \"date\": \"2020-08-19T00:00:00\", \"hospitalized\": 137.0, \"icu\": 34.0, \"ventilated\": 34.0}, {\"day\": 139, \"date\": \"2020-08-20T00:00:00\", \"hospitalized\": 129.0, \"icu\": 32.0, \"ventilated\": 32.0}, {\"day\": 140, \"date\": \"2020-08-21T00:00:00\", \"hospitalized\": 122.0, \"icu\": 30.0, \"ventilated\": 30.0}, {\"day\": 141, \"date\": \"2020-08-22T00:00:00\", \"hospitalized\": 115.0, \"icu\": 28.0, \"ventilated\": 28.0}, {\"day\": 142, \"date\": \"2020-08-23T00:00:00\", \"hospitalized\": 109.0, \"icu\": 27.0, \"ventilated\": 27.0}, {\"day\": 143, \"date\": \"2020-08-24T00:00:00\", \"hospitalized\": 103.0, \"icu\": 25.0, \"ventilated\": 25.0}, {\"day\": 144, \"date\": \"2020-08-25T00:00:00\", \"hospitalized\": 97.0, \"icu\": 24.0, \"ventilated\": 24.0}, {\"day\": 145, \"date\": \"2020-08-26T00:00:00\", \"hospitalized\": 92.0, \"icu\": 23.0, \"ventilated\": 23.0}, {\"day\": 146, \"date\": \"2020-08-27T00:00:00\", \"hospitalized\": 86.0, \"icu\": 21.0, \"ventilated\": 21.0}, {\"day\": 147, \"date\": \"2020-08-28T00:00:00\", \"hospitalized\": 82.0, \"icu\": 20.0, \"ventilated\": 20.0}, {\"day\": 148, \"date\": \"2020-08-29T00:00:00\", \"hospitalized\": 77.0, \"icu\": 19.0, \"ventilated\": 19.0}, {\"day\": 149, \"date\": \"2020-08-30T00:00:00\", \"hospitalized\": 73.0, \"icu\": 18.0, \"ventilated\": 18.0}, {\"day\": 150, \"date\": \"2020-08-31T00:00:00\", \"hospitalized\": 69.0, \"icu\": 17.0, \"ventilated\": 17.0}, {\"day\": 151, \"date\": \"2020-09-01T00:00:00\", \"hospitalized\": 65.0, \"icu\": 16.0, \"ventilated\": 16.0}, {\"day\": 152, \"date\": \"2020-09-02T00:00:00\", \"hospitalized\": 62.0, \"icu\": 15.0, \"ventilated\": 15.0}, {\"day\": 153, \"date\": \"2020-09-03T00:00:00\", \"hospitalized\": 58.0, \"icu\": 14.0, \"ventilated\": 14.0}, {\"day\": 154, \"date\": \"2020-09-04T00:00:00\", \"hospitalized\": 55.0, \"icu\": 13.0, \"ventilated\": 13.0}, {\"day\": 155, \"date\": \"2020-09-05T00:00:00\", \"hospitalized\": 52.0, \"icu\": 13.0, \"ventilated\": 13.0}, {\"day\": 156, \"date\": \"2020-09-06T00:00:00\", \"hospitalized\": 49.0, \"icu\": 12.0, \"ventilated\": 12.0}, {\"day\": 157, \"date\": \"2020-09-07T00:00:00\", \"hospitalized\": 46.0, \"icu\": 11.0, \"ventilated\": 11.0}, {\"day\": 158, \"date\": \"2020-09-08T00:00:00\", \"hospitalized\": 44.0, \"icu\": 11.0, \"ventilated\": 11.0}, {\"day\": 159, \"date\": \"2020-09-09T00:00:00\", \"hospitalized\": 41.0, \"icu\": 10.0, \"ventilated\": 10.0}, {\"day\": 160, \"date\": \"2020-09-10T00:00:00\", \"hospitalized\": 39.0, \"icu\": 9.0, \"ventilated\": 9.0}, {\"day\": 161, \"date\": \"2020-09-11T00:00:00\", \"hospitalized\": 37.0, \"icu\": 9.0, \"ventilated\": 9.0}, {\"day\": 162, \"date\": \"2020-09-12T00:00:00\", \"hospitalized\": 35.0, \"icu\": 8.0, \"ventilated\": 8.0}, {\"day\": 163, \"date\": \"2020-09-13T00:00:00\", \"hospitalized\": 33.0, \"icu\": 8.0, \"ventilated\": 8.0}, {\"day\": 164, \"date\": \"2020-09-14T00:00:00\", \"hospitalized\": 31.0, \"icu\": 7.0, \"ventilated\": 7.0}, {\"day\": 165, \"date\": \"2020-09-15T00:00:00\", \"hospitalized\": 29.0, \"icu\": 7.0, \"ventilated\": 7.0}, {\"day\": 166, \"date\": \"2020-09-16T00:00:00\", \"hospitalized\": 28.0, \"icu\": 7.0, \"ventilated\": 7.0}, {\"day\": 167, \"date\": \"2020-09-17T00:00:00\", \"hospitalized\": 26.0, \"icu\": 6.0, \"ventilated\": 6.0}, {\"day\": 168, \"date\": \"2020-09-18T00:00:00\", \"hospitalized\": 25.0, \"icu\": 6.0, \"ventilated\": 6.0}, {\"day\": 169, \"date\": \"2020-09-19T00:00:00\", \"hospitalized\": 23.0, \"icu\": 5.0, \"ventilated\": 5.0}, {\"day\": 170, \"date\": \"2020-09-20T00:00:00\", \"hospitalized\": 22.0, \"icu\": 5.0, \"ventilated\": 5.0}, {\"day\": 171, \"date\": \"2020-09-21T00:00:00\", \"hospitalized\": 21.0, \"icu\": 5.0, \"ventilated\": 5.0}, {\"day\": 172, \"date\": \"2020-09-22T00:00:00\", \"hospitalized\": 20.0, \"icu\": 5.0, \"ventilated\": 5.0}, {\"day\": 173, \"date\": \"2020-09-23T00:00:00\", \"hospitalized\": 19.0, \"icu\": 4.0, \"ventilated\": 4.0}, {\"day\": 174, \"date\": \"2020-09-24T00:00:00\", \"hospitalized\": 18.0, \"icu\": 4.0, \"ventilated\": 4.0}, {\"day\": 175, \"date\": \"2020-09-25T00:00:00\", \"hospitalized\": 17.0, \"icu\": 4.0, \"ventilated\": 4.0}, {\"day\": 176, \"date\": \"2020-09-26T00:00:00\", \"hospitalized\": 16.0, \"icu\": 4.0, \"ventilated\": 4.0}, {\"day\": 177, \"date\": \"2020-09-27T00:00:00\", \"hospitalized\": 15.0, \"icu\": 3.0, \"ventilated\": 3.0}, {\"day\": 178, \"date\": \"2020-09-28T00:00:00\", \"hospitalized\": 14.0, \"icu\": 3.0, \"ventilated\": 3.0}, {\"day\": 179, \"date\": \"2020-09-29T00:00:00\", \"hospitalized\": 13.0, \"icu\": 3.0, \"ventilated\": 3.0}, {\"day\": 180, \"date\": \"2020-09-30T00:00:00\", \"hospitalized\": 12.0, \"icu\": 3.0, \"ventilated\": 3.0}, {\"day\": 181, \"date\": \"2020-10-01T00:00:00\", \"hospitalized\": 12.0, \"icu\": 3.0, \"ventilated\": 3.0}, {\"day\": 182, \"date\": \"2020-10-02T00:00:00\", \"hospitalized\": 11.0, \"icu\": 2.0, \"ventilated\": 2.0}, {\"day\": 183, \"date\": \"2020-10-03T00:00:00\", \"hospitalized\": 10.0, \"icu\": 2.0, \"ventilated\": 2.0}, {\"day\": 184, \"date\": \"2020-10-04T00:00:00\", \"hospitalized\": 10.0, \"icu\": 2.0, \"ventilated\": 2.0}, {\"day\": 185, \"date\": \"2020-10-05T00:00:00\", \"hospitalized\": 9.0, \"icu\": 2.0, \"ventilated\": 2.0}, {\"day\": 186, \"date\": \"2020-10-06T00:00:00\", \"hospitalized\": 9.0, \"icu\": 2.0, \"ventilated\": 2.0}, {\"day\": 187, \"date\": \"2020-10-07T00:00:00\", \"hospitalized\": 8.0, \"icu\": 2.0, \"ventilated\": 2.0}, {\"day\": 188, \"date\": \"2020-10-08T00:00:00\", \"hospitalized\": 8.0, \"icu\": 2.0, \"ventilated\": 2.0}, {\"day\": 189, \"date\": \"2020-10-09T00:00:00\", \"hospitalized\": 7.0, \"icu\": 1.0, \"ventilated\": 1.0}, {\"day\": 190, \"date\": \"2020-10-10T00:00:00\", \"hospitalized\": 7.0, \"icu\": 1.0, \"ventilated\": 1.0}, {\"day\": 191, \"date\": \"2020-10-11T00:00:00\", \"hospitalized\": 7.0, \"icu\": 1.0, \"ventilated\": 1.0}, {\"day\": 192, \"date\": \"2020-10-12T00:00:00\", \"hospitalized\": 6.0, \"icu\": 1.0, \"ventilated\": 1.0}, {\"day\": 193, \"date\": \"2020-10-13T00:00:00\", \"hospitalized\": 6.0, \"icu\": 1.0, \"ventilated\": 1.0}, {\"day\": 194, \"date\": \"2020-10-14T00:00:00\", \"hospitalized\": 5.0, \"icu\": 1.0, \"ventilated\": 1.0}, {\"day\": 195, \"date\": \"2020-10-15T00:00:00\", \"hospitalized\": 5.0, \"icu\": 1.0, \"ventilated\": 1.0}, {\"day\": 196, \"date\": \"2020-10-16T00:00:00\", \"hospitalized\": 5.0, \"icu\": 1.0, \"ventilated\": 1.0}, {\"day\": 197, \"date\": \"2020-10-17T00:00:00\", \"hospitalized\": 5.0, \"icu\": 1.0, \"ventilated\": 1.0}, {\"day\": 198, \"date\": \"2020-10-18T00:00:00\", \"hospitalized\": 4.0, \"icu\": 1.0, \"ventilated\": 1.0}, {\"day\": 199, \"date\": \"2020-10-19T00:00:00\", \"hospitalized\": 4.0, \"icu\": 1.0, \"ventilated\": 1.0}, {\"day\": 200, \"date\": \"2020-10-20T00:00:00\", \"hospitalized\": 4.0, \"icu\": 1.0, \"ventilated\": 1.0}]}}, {\"mode\": \"vega-lite\"});\n",
       "</script>"
      ],
      "text/plain": [
       "alt.LayerChart(...)"
      ]
     },
     "execution_count": 134,
     "metadata": {},
     "output_type": "execute_result"
    }
   ],
   "source": [
    "# Graphique nouveaux cas\n",
    "\n",
    "admits_chart = build_admits_chart(alt=alt, admits_floor_df=m.admits_floor_df, max_y_axis=p.max_y_axis)\n",
    "admits_chart"
   ]
  },
  {
   "cell_type": "code",
   "execution_count": 135,
   "metadata": {},
   "outputs": [
    {
     "data": {
      "text/html": [
       "\n",
       "<div id=\"altair-viz-0acca3dc891f40afb9a772b580b6fc61\"></div>\n",
       "<script type=\"text/javascript\">\n",
       "  (function(spec, embedOpt){\n",
       "    let outputDiv = document.currentScript.previousElementSibling;\n",
       "    if (outputDiv.id !== \"altair-viz-0acca3dc891f40afb9a772b580b6fc61\") {\n",
       "      outputDiv = document.getElementById(\"altair-viz-0acca3dc891f40afb9a772b580b6fc61\");\n",
       "    }\n",
       "    const paths = {\n",
       "      \"vega\": \"https://cdn.jsdelivr.net/npm//vega@5?noext\",\n",
       "      \"vega-lib\": \"https://cdn.jsdelivr.net/npm//vega-lib?noext\",\n",
       "      \"vega-lite\": \"https://cdn.jsdelivr.net/npm//vega-lite@4.8.1?noext\",\n",
       "      \"vega-embed\": \"https://cdn.jsdelivr.net/npm//vega-embed@6?noext\",\n",
       "    };\n",
       "\n",
       "    function loadScript(lib) {\n",
       "      return new Promise(function(resolve, reject) {\n",
       "        var s = document.createElement('script');\n",
       "        s.src = paths[lib];\n",
       "        s.async = true;\n",
       "        s.onload = () => resolve(paths[lib]);\n",
       "        s.onerror = () => reject(`Error loading script: ${paths[lib]}`);\n",
       "        document.getElementsByTagName(\"head\")[0].appendChild(s);\n",
       "      });\n",
       "    }\n",
       "\n",
       "    function showError(err) {\n",
       "      outputDiv.innerHTML = `<div class=\"error\" style=\"color:red;\">${err}</div>`;\n",
       "      throw err;\n",
       "    }\n",
       "\n",
       "    function displayChart(vegaEmbed) {\n",
       "      vegaEmbed(outputDiv, spec, embedOpt)\n",
       "        .catch(err => showError(`Javascript Error: ${err.message}<br>This usually means there's a typo in your chart specification. See the javascript console for the full traceback.`));\n",
       "    }\n",
       "\n",
       "    if(typeof define === \"function\" && define.amd) {\n",
       "      requirejs.config({paths});\n",
       "      require([\"vega-embed\"], displayChart, err => showError(`Error loading script: ${err.message}`));\n",
       "    } else if (typeof vegaEmbed === \"function\") {\n",
       "      displayChart(vegaEmbed);\n",
       "    } else {\n",
       "      loadScript(\"vega\")\n",
       "        .then(() => loadScript(\"vega-lite\"))\n",
       "        .then(() => loadScript(\"vega-embed\"))\n",
       "        .catch(showError)\n",
       "        .then(() => displayChart(vegaEmbed));\n",
       "    }\n",
       "  })({\"config\": {\"view\": {\"continuousWidth\": 400, \"continuousHeight\": 300}, \"legend\": {\"orient\": \"bottom\"}}, \"layer\": [{\"mark\": {\"type\": \"line\", \"point\": true}, \"encoding\": {\"color\": {\"type\": \"nominal\", \"field\": \"key\"}, \"tooltip\": [{\"type\": \"temporal\", \"field\": \"date\"}, {\"type\": \"quantitative\", \"field\": \"value\", \"format\": \".0f\", \"title\": \"Census\"}, {\"type\": \"nominal\", \"field\": \"key\"}], \"x\": {\"type\": \"temporal\", \"axis\": {\"format\": \"%b, %d\"}, \"field\": \"date\", \"title\": \"Date\"}, \"y\": {\"type\": \"quantitative\", \"field\": \"value\", \"scale\": {}, \"title\": \"Census\"}}, \"selection\": {\"selector042\": {\"type\": \"interval\", \"bind\": \"scales\", \"encodings\": [\"x\", \"y\"]}}, \"transform\": [{\"fold\": [\"hospitalized\", \"icu\", \"ventilated\"]}]}, {\"mark\": {\"type\": \"rule\", \"color\": \"black\", \"opacity\": 0.35, \"size\": 2}, \"encoding\": {\"x\": {\"type\": \"temporal\", \"axis\": {\"format\": \"%b, %d\"}, \"field\": \"date\", \"title\": \"Date\"}}, \"transform\": [{\"filter\": \"(datum.day === 0)\"}]}], \"data\": {\"name\": \"data-f92f4f59ac27291e537b1902f8658505\"}, \"$schema\": \"https://vega.github.io/schema/vega-lite/v4.8.1.json\", \"datasets\": {\"data-f92f4f59ac27291e537b1902f8658505\": [{\"day\": -35, \"date\": \"2020-02-28T00:00:00\", \"hospitalized\": null, \"icu\": null, \"ventilated\": null}, {\"day\": -34, \"date\": \"2020-02-29T00:00:00\", \"hospitalized\": 0.0, \"icu\": 0.0, \"ventilated\": 0.0}, {\"day\": -33, \"date\": \"2020-03-01T00:00:00\", \"hospitalized\": 0.0, \"icu\": 0.0, \"ventilated\": 0.0}, {\"day\": -32, \"date\": \"2020-03-02T00:00:00\", \"hospitalized\": 0.0, \"icu\": 0.0, \"ventilated\": 0.0}, {\"day\": -31, \"date\": \"2020-03-03T00:00:00\", \"hospitalized\": 1.0, \"icu\": 0.0, \"ventilated\": 0.0}, {\"day\": -30, \"date\": \"2020-03-04T00:00:00\", \"hospitalized\": 1.0, \"icu\": 0.0, \"ventilated\": 0.0}, {\"day\": -29, \"date\": \"2020-03-05T00:00:00\", \"hospitalized\": 2.0, \"icu\": 0.0, \"ventilated\": 0.0}, {\"day\": -28, \"date\": \"2020-03-06T00:00:00\", \"hospitalized\": 3.0, \"icu\": 0.0, \"ventilated\": 0.0}, {\"day\": -27, \"date\": \"2020-03-07T00:00:00\", \"hospitalized\": 4.0, \"icu\": 1.0, \"ventilated\": 1.0}, {\"day\": -26, \"date\": \"2020-03-08T00:00:00\", \"hospitalized\": 5.0, \"icu\": 1.0, \"ventilated\": 1.0}, {\"day\": -25, \"date\": \"2020-03-09T00:00:00\", \"hospitalized\": 6.0, \"icu\": 1.0, \"ventilated\": 1.0}, {\"day\": -24, \"date\": \"2020-03-10T00:00:00\", \"hospitalized\": 7.0, \"icu\": 1.0, \"ventilated\": 1.0}, {\"day\": -23, \"date\": \"2020-03-11T00:00:00\", \"hospitalized\": 9.0, \"icu\": 2.0, \"ventilated\": 2.0}, {\"day\": -22, \"date\": \"2020-03-12T00:00:00\", \"hospitalized\": 10.0, \"icu\": 2.0, \"ventilated\": 2.0}, {\"day\": -21, \"date\": \"2020-03-13T00:00:00\", \"hospitalized\": 12.0, \"icu\": 3.0, \"ventilated\": 3.0}, {\"day\": -20, \"date\": \"2020-03-14T00:00:00\", \"hospitalized\": 15.0, \"icu\": 4.0, \"ventilated\": 4.0}, {\"day\": -19, \"date\": \"2020-03-15T00:00:00\", \"hospitalized\": 18.0, \"icu\": 4.0, \"ventilated\": 4.0}, {\"day\": -18, \"date\": \"2020-03-16T00:00:00\", \"hospitalized\": 21.0, \"icu\": 5.0, \"ventilated\": 5.0}, {\"day\": -17, \"date\": \"2020-03-17T00:00:00\", \"hospitalized\": 25.0, \"icu\": 6.0, \"ventilated\": 6.0}, {\"day\": -16, \"date\": \"2020-03-18T00:00:00\", \"hospitalized\": 30.0, \"icu\": 8.0, \"ventilated\": 8.0}, {\"day\": -15, \"date\": \"2020-03-19T00:00:00\", \"hospitalized\": 36.0, \"icu\": 9.0, \"ventilated\": 9.0}, {\"day\": -14, \"date\": \"2020-03-20T00:00:00\", \"hospitalized\": 43.0, \"icu\": 11.0, \"ventilated\": 11.0}, {\"day\": -13, \"date\": \"2020-03-21T00:00:00\", \"hospitalized\": 51.0, \"icu\": 13.0, \"ventilated\": 13.0}, {\"day\": -12, \"date\": \"2020-03-22T00:00:00\", \"hospitalized\": 61.0, \"icu\": 16.0, \"ventilated\": 16.0}, {\"day\": -11, \"date\": \"2020-03-23T00:00:00\", \"hospitalized\": 72.0, \"icu\": 19.0, \"ventilated\": 19.0}, {\"day\": -10, \"date\": \"2020-03-24T00:00:00\", \"hospitalized\": 86.0, \"icu\": 22.0, \"ventilated\": 22.0}, {\"day\": -9, \"date\": \"2020-03-25T00:00:00\", \"hospitalized\": 102.0, \"icu\": 27.0, \"ventilated\": 27.0}, {\"day\": -8, \"date\": \"2020-03-26T00:00:00\", \"hospitalized\": 122.0, \"icu\": 32.0, \"ventilated\": 32.0}, {\"day\": -7, \"date\": \"2020-03-27T00:00:00\", \"hospitalized\": 145.0, \"icu\": 38.0, \"ventilated\": 38.0}, {\"day\": -6, \"date\": \"2020-03-28T00:00:00\", \"hospitalized\": 172.0, \"icu\": 45.0, \"ventilated\": 45.0}, {\"day\": -5, \"date\": \"2020-03-29T00:00:00\", \"hospitalized\": 205.0, \"icu\": 54.0, \"ventilated\": 54.0}, {\"day\": -4, \"date\": \"2020-03-30T00:00:00\", \"hospitalized\": 243.0, \"icu\": 64.0, \"ventilated\": 64.0}, {\"day\": -3, \"date\": \"2020-03-31T00:00:00\", \"hospitalized\": 290.0, \"icu\": 77.0, \"ventilated\": 77.0}, {\"day\": -2, \"date\": \"2020-04-01T00:00:00\", \"hospitalized\": 344.0, \"icu\": 91.0, \"ventilated\": 91.0}, {\"day\": -1, \"date\": \"2020-04-02T00:00:00\", \"hospitalized\": 410.0, \"icu\": 108.0, \"ventilated\": 108.0}, {\"day\": 0, \"date\": \"2020-04-03T00:00:00\", \"hospitalized\": 487.0, \"icu\": 129.0, \"ventilated\": 129.0}, {\"day\": 1, \"date\": \"2020-04-04T00:00:00\", \"hospitalized\": 546.0, \"icu\": 145.0, \"ventilated\": 145.0}, {\"day\": 2, \"date\": \"2020-04-05T00:00:00\", \"hospitalized\": 609.0, \"icu\": 163.0, \"ventilated\": 163.0}, {\"day\": 3, \"date\": \"2020-04-06T00:00:00\", \"hospitalized\": 678.0, \"icu\": 182.0, \"ventilated\": 182.0}, {\"day\": 4, \"date\": \"2020-04-07T00:00:00\", \"hospitalized\": 752.0, \"icu\": 203.0, \"ventilated\": 203.0}, {\"day\": 5, \"date\": \"2020-04-08T00:00:00\", \"hospitalized\": 831.0, \"icu\": 226.0, \"ventilated\": 226.0}, {\"day\": 6, \"date\": \"2020-04-09T00:00:00\", \"hospitalized\": 916.0, \"icu\": 250.0, \"ventilated\": 250.0}, {\"day\": 7, \"date\": \"2020-04-10T00:00:00\", \"hospitalized\": 1007.0, \"icu\": 277.0, \"ventilated\": 277.0}, {\"day\": 8, \"date\": \"2020-04-11T00:00:00\", \"hospitalized\": 1104.0, \"icu\": 306.0, \"ventilated\": 306.0}, {\"day\": 9, \"date\": \"2020-04-12T00:00:00\", \"hospitalized\": 1206.0, \"icu\": 338.0, \"ventilated\": 338.0}, {\"day\": 10, \"date\": \"2020-04-13T00:00:00\", \"hospitalized\": 1313.0, \"icu\": 371.0, \"ventilated\": 371.0}, {\"day\": 11, \"date\": \"2020-04-14T00:00:00\", \"hospitalized\": 1458.0, \"icu\": 407.0, \"ventilated\": 407.0}, {\"day\": 12, \"date\": \"2020-04-15T00:00:00\", \"hospitalized\": 1618.0, \"icu\": 446.0, \"ventilated\": 446.0}, {\"day\": 13, \"date\": \"2020-04-16T00:00:00\", \"hospitalized\": 1796.0, \"icu\": 495.0, \"ventilated\": 495.0}, {\"day\": 14, \"date\": \"2020-04-17T00:00:00\", \"hospitalized\": 1994.0, \"icu\": 549.0, \"ventilated\": 549.0}, {\"day\": 15, \"date\": \"2020-04-18T00:00:00\", \"hospitalized\": 2213.0, \"icu\": 610.0, \"ventilated\": 610.0}, {\"day\": 16, \"date\": \"2020-04-19T00:00:00\", \"hospitalized\": 2456.0, \"icu\": 677.0, \"ventilated\": 677.0}, {\"day\": 17, \"date\": \"2020-04-20T00:00:00\", \"hospitalized\": 2725.0, \"icu\": 751.0, \"ventilated\": 751.0}, {\"day\": 18, \"date\": \"2020-04-21T00:00:00\", \"hospitalized\": 3024.0, \"icu\": 833.0, \"ventilated\": 833.0}, {\"day\": 19, \"date\": \"2020-04-22T00:00:00\", \"hospitalized\": 3354.0, \"icu\": 924.0, \"ventilated\": 924.0}, {\"day\": 20, \"date\": \"2020-04-23T00:00:00\", \"hospitalized\": 3720.0, \"icu\": 1025.0, \"ventilated\": 1025.0}, {\"day\": 21, \"date\": \"2020-04-24T00:00:00\", \"hospitalized\": 4125.0, \"icu\": 1137.0, \"ventilated\": 1137.0}, {\"day\": 22, \"date\": \"2020-04-25T00:00:00\", \"hospitalized\": 4573.0, \"icu\": 1261.0, \"ventilated\": 1261.0}, {\"day\": 23, \"date\": \"2020-04-26T00:00:00\", \"hospitalized\": 5069.0, \"icu\": 1397.0, \"ventilated\": 1397.0}, {\"day\": 24, \"date\": \"2020-04-27T00:00:00\", \"hospitalized\": 5617.0, \"icu\": 1549.0, \"ventilated\": 1549.0}, {\"day\": 25, \"date\": \"2020-04-28T00:00:00\", \"hospitalized\": 6222.0, \"icu\": 1716.0, \"ventilated\": 1716.0}, {\"day\": 26, \"date\": \"2020-04-29T00:00:00\", \"hospitalized\": 6890.0, \"icu\": 1900.0, \"ventilated\": 1900.0}, {\"day\": 27, \"date\": \"2020-04-30T00:00:00\", \"hospitalized\": 7627.0, \"icu\": 2104.0, \"ventilated\": 2104.0}, {\"day\": 28, \"date\": \"2020-05-01T00:00:00\", \"hospitalized\": 8439.0, \"icu\": 2329.0, \"ventilated\": 2329.0}, {\"day\": 29, \"date\": \"2020-05-02T00:00:00\", \"hospitalized\": 9334.0, \"icu\": 2576.0, \"ventilated\": 2576.0}, {\"day\": 30, \"date\": \"2020-05-03T00:00:00\", \"hospitalized\": 10318.0, \"icu\": 2849.0, \"ventilated\": 2849.0}, {\"day\": 31, \"date\": \"2020-05-04T00:00:00\", \"hospitalized\": 11401.0, \"icu\": 3149.0, \"ventilated\": 3149.0}, {\"day\": 32, \"date\": \"2020-05-05T00:00:00\", \"hospitalized\": 12589.0, \"icu\": 3478.0, \"ventilated\": 3478.0}, {\"day\": 33, \"date\": \"2020-05-06T00:00:00\", \"hospitalized\": 13892.0, \"icu\": 3839.0, \"ventilated\": 3839.0}, {\"day\": 34, \"date\": \"2020-05-07T00:00:00\", \"hospitalized\": 15319.0, \"icu\": 4235.0, \"ventilated\": 4235.0}, {\"day\": 35, \"date\": \"2020-05-08T00:00:00\", \"hospitalized\": 16878.0, \"icu\": 4668.0, \"ventilated\": 4668.0}, {\"day\": 36, \"date\": \"2020-05-09T00:00:00\", \"hospitalized\": 18580.0, \"icu\": 5141.0, \"ventilated\": 5141.0}, {\"day\": 37, \"date\": \"2020-05-10T00:00:00\", \"hospitalized\": 20434.0, \"icu\": 5657.0, \"ventilated\": 5657.0}, {\"day\": 38, \"date\": \"2020-05-11T00:00:00\", \"hospitalized\": 22449.0, \"icu\": 6219.0, \"ventilated\": 6219.0}, {\"day\": 39, \"date\": \"2020-05-12T00:00:00\", \"hospitalized\": 24634.0, \"icu\": 6828.0, \"ventilated\": 6828.0}, {\"day\": 40, \"date\": \"2020-05-13T00:00:00\", \"hospitalized\": 26997.0, \"icu\": 7488.0, \"ventilated\": 7488.0}, {\"day\": 41, \"date\": \"2020-05-14T00:00:00\", \"hospitalized\": 29545.0, \"icu\": 8201.0, \"ventilated\": 8201.0}, {\"day\": 42, \"date\": \"2020-05-15T00:00:00\", \"hospitalized\": 32285.0, \"icu\": 8969.0, \"ventilated\": 8969.0}, {\"day\": 43, \"date\": \"2020-05-16T00:00:00\", \"hospitalized\": 35219.0, \"icu\": 9794.0, \"ventilated\": 9794.0}, {\"day\": 44, \"date\": \"2020-05-17T00:00:00\", \"hospitalized\": 38352.0, \"icu\": 10676.0, \"ventilated\": 10676.0}, {\"day\": 45, \"date\": \"2020-05-18T00:00:00\", \"hospitalized\": 41680.0, \"icu\": 11615.0, \"ventilated\": 11615.0}, {\"day\": 46, \"date\": \"2020-05-19T00:00:00\", \"hospitalized\": 45202.0, \"icu\": 12612.0, \"ventilated\": 12612.0}, {\"day\": 47, \"date\": \"2020-05-20T00:00:00\", \"hospitalized\": 48908.0, \"icu\": 13665.0, \"ventilated\": 13665.0}, {\"day\": 48, \"date\": \"2020-05-21T00:00:00\", \"hospitalized\": 52787.0, \"icu\": 14770.0, \"ventilated\": 14770.0}, {\"day\": 49, \"date\": \"2020-05-22T00:00:00\", \"hospitalized\": 56822.0, \"icu\": 15925.0, \"ventilated\": 15925.0}, {\"day\": 50, \"date\": \"2020-05-23T00:00:00\", \"hospitalized\": 60991.0, \"icu\": 17124.0, \"ventilated\": 17124.0}, {\"day\": 51, \"date\": \"2020-05-24T00:00:00\", \"hospitalized\": 65266.0, \"icu\": 18359.0, \"ventilated\": 18359.0}, {\"day\": 52, \"date\": \"2020-05-25T00:00:00\", \"hospitalized\": 69613.0, \"icu\": 19624.0, \"ventilated\": 19624.0}, {\"day\": 53, \"date\": \"2020-05-26T00:00:00\", \"hospitalized\": 73994.0, \"icu\": 20906.0, \"ventilated\": 20906.0}, {\"day\": 54, \"date\": \"2020-05-27T00:00:00\", \"hospitalized\": 78364.0, \"icu\": 22196.0, \"ventilated\": 22196.0}, {\"day\": 55, \"date\": \"2020-05-28T00:00:00\", \"hospitalized\": 82674.0, \"icu\": 23479.0, \"ventilated\": 23479.0}, {\"day\": 56, \"date\": \"2020-05-29T00:00:00\", \"hospitalized\": 86868.0, \"icu\": 24741.0, \"ventilated\": 24741.0}, {\"day\": 57, \"date\": \"2020-05-30T00:00:00\", \"hospitalized\": 90892.0, \"icu\": 25968.0, \"ventilated\": 25968.0}, {\"day\": 58, \"date\": \"2020-05-31T00:00:00\", \"hospitalized\": 94685.0, \"icu\": 27141.0, \"ventilated\": 27141.0}, {\"day\": 59, \"date\": \"2020-06-01T00:00:00\", \"hospitalized\": 98190.0, \"icu\": 28246.0, \"ventilated\": 28246.0}, {\"day\": 60, \"date\": \"2020-06-02T00:00:00\", \"hospitalized\": 101349.0, \"icu\": 29264.0, \"ventilated\": 29264.0}, {\"day\": 61, \"date\": \"2020-06-03T00:00:00\", \"hospitalized\": 104109.0, \"icu\": 30181.0, \"ventilated\": 30181.0}, {\"day\": 62, \"date\": \"2020-06-04T00:00:00\", \"hospitalized\": 106421.0, \"icu\": 30981.0, \"ventilated\": 30981.0}, {\"day\": 63, \"date\": \"2020-06-05T00:00:00\", \"hospitalized\": 108246.0, \"icu\": 31651.0, \"ventilated\": 31651.0}, {\"day\": 64, \"date\": \"2020-06-06T00:00:00\", \"hospitalized\": 109549.0, \"icu\": 32180.0, \"ventilated\": 32180.0}, {\"day\": 65, \"date\": \"2020-06-07T00:00:00\", \"hospitalized\": 110311.0, \"icu\": 32558.0, \"ventilated\": 32558.0}, {\"day\": 66, \"date\": \"2020-06-08T00:00:00\", \"hospitalized\": 110520.0, \"icu\": 32780.0, \"ventilated\": 32780.0}, {\"day\": 67, \"date\": \"2020-06-09T00:00:00\", \"hospitalized\": 110176.0, \"icu\": 32843.0, \"ventilated\": 32843.0}, {\"day\": 68, \"date\": \"2020-06-10T00:00:00\", \"hospitalized\": 109292.0, \"icu\": 32747.0, \"ventilated\": 32747.0}, {\"day\": 69, \"date\": \"2020-06-11T00:00:00\", \"hospitalized\": 107889.0, \"icu\": 32495.0, \"ventilated\": 32495.0}, {\"day\": 70, \"date\": \"2020-06-12T00:00:00\", \"hospitalized\": 106001.0, \"icu\": 32093.0, \"ventilated\": 32093.0}, {\"day\": 71, \"date\": \"2020-06-13T00:00:00\", \"hospitalized\": 103668.0, \"icu\": 31551.0, \"ventilated\": 31551.0}, {\"day\": 72, \"date\": \"2020-06-14T00:00:00\", \"hospitalized\": 100938.0, \"icu\": 30878.0, \"ventilated\": 30878.0}, {\"day\": 73, \"date\": \"2020-06-15T00:00:00\", \"hospitalized\": 97863.0, \"icu\": 30090.0, \"ventilated\": 30090.0}, {\"day\": 74, \"date\": \"2020-06-16T00:00:00\", \"hospitalized\": 94500.0, \"icu\": 29199.0, \"ventilated\": 29199.0}, {\"day\": 75, \"date\": \"2020-06-17T00:00:00\", \"hospitalized\": 90904.0, \"icu\": 28223.0, \"ventilated\": 28223.0}, {\"day\": 76, \"date\": \"2020-06-18T00:00:00\", \"hospitalized\": 87133.0, \"icu\": 27176.0, \"ventilated\": 27176.0}, {\"day\": 77, \"date\": \"2020-06-19T00:00:00\", \"hospitalized\": 83239.0, \"icu\": 26075.0, \"ventilated\": 26075.0}, {\"day\": 78, \"date\": \"2020-06-20T00:00:00\", \"hospitalized\": 79274.0, \"icu\": 24936.0, \"ventilated\": 24936.0}, {\"day\": 79, \"date\": \"2020-06-21T00:00:00\", \"hospitalized\": 75284.0, \"icu\": 23772.0, \"ventilated\": 23772.0}, {\"day\": 80, \"date\": \"2020-06-22T00:00:00\", \"hospitalized\": 71310.0, \"icu\": 22598.0, \"ventilated\": 22598.0}, {\"day\": 81, \"date\": \"2020-06-23T00:00:00\", \"hospitalized\": 67388.0, \"icu\": 21425.0, \"ventilated\": 21425.0}, {\"day\": 82, \"date\": \"2020-06-24T00:00:00\", \"hospitalized\": 63549.0, \"icu\": 20265.0, \"ventilated\": 20265.0}, {\"day\": 83, \"date\": \"2020-06-25T00:00:00\", \"hospitalized\": 59817.0, \"icu\": 19127.0, \"ventilated\": 19127.0}, {\"day\": 84, \"date\": \"2020-06-26T00:00:00\", \"hospitalized\": 56213.0, \"icu\": 18018.0, \"ventilated\": 18018.0}, {\"day\": 85, \"date\": \"2020-06-27T00:00:00\", \"hospitalized\": 52751.0, \"icu\": 16945.0, \"ventilated\": 16945.0}, {\"day\": 86, \"date\": \"2020-06-28T00:00:00\", \"hospitalized\": 49442.0, \"icu\": 15912.0, \"ventilated\": 15912.0}, {\"day\": 87, \"date\": \"2020-06-29T00:00:00\", \"hospitalized\": 46293.0, \"icu\": 14922.0, \"ventilated\": 14922.0}, {\"day\": 88, \"date\": \"2020-06-30T00:00:00\", \"hospitalized\": 43307.0, \"icu\": 13979.0, \"ventilated\": 13979.0}, {\"day\": 89, \"date\": \"2020-07-01T00:00:00\", \"hospitalized\": 40486.0, \"icu\": 13084.0, \"ventilated\": 13084.0}, {\"day\": 90, \"date\": \"2020-07-02T00:00:00\", \"hospitalized\": 37828.0, \"icu\": 12236.0, \"ventilated\": 12236.0}, {\"day\": 91, \"date\": \"2020-07-03T00:00:00\", \"hospitalized\": 35330.0, \"icu\": 11437.0, \"ventilated\": 11437.0}, {\"day\": 92, \"date\": \"2020-07-04T00:00:00\", \"hospitalized\": 32987.0, \"icu\": 10685.0, \"ventilated\": 10685.0}, {\"day\": 93, \"date\": \"2020-07-05T00:00:00\", \"hospitalized\": 30793.0, \"icu\": 9978.0, \"ventilated\": 9978.0}, {\"day\": 94, \"date\": \"2020-07-06T00:00:00\", \"hospitalized\": 28743.0, \"icu\": 9317.0, \"ventilated\": 9317.0}, {\"day\": 95, \"date\": \"2020-07-07T00:00:00\", \"hospitalized\": 26828.0, \"icu\": 8697.0, \"ventilated\": 8697.0}, {\"day\": 96, \"date\": \"2020-07-08T00:00:00\", \"hospitalized\": 25042.0, \"icu\": 8119.0, \"ventilated\": 8119.0}, {\"day\": 97, \"date\": \"2020-07-09T00:00:00\", \"hospitalized\": 23378.0, \"icu\": 7579.0, \"ventilated\": 7579.0}, {\"day\": 98, \"date\": \"2020-07-10T00:00:00\", \"hospitalized\": 21828.0, \"icu\": 7076.0, \"ventilated\": 7076.0}, {\"day\": 99, \"date\": \"2020-07-11T00:00:00\", \"hospitalized\": 20385.0, \"icu\": 6607.0, \"ventilated\": 6607.0}, {\"day\": 100, \"date\": \"2020-07-12T00:00:00\", \"hospitalized\": 19043.0, \"icu\": 6170.0, \"ventilated\": 6170.0}, {\"day\": 101, \"date\": \"2020-07-13T00:00:00\", \"hospitalized\": 17793.0, \"icu\": 5764.0, \"ventilated\": 5764.0}, {\"day\": 102, \"date\": \"2020-07-14T00:00:00\", \"hospitalized\": 16631.0, \"icu\": 5385.0, \"ventilated\": 5385.0}, {\"day\": 103, \"date\": \"2020-07-15T00:00:00\", \"hospitalized\": 15550.0, \"icu\": 5033.0, \"ventilated\": 5033.0}, {\"day\": 104, \"date\": \"2020-07-16T00:00:00\", \"hospitalized\": 14544.0, \"icu\": 4706.0, \"ventilated\": 4706.0}, {\"day\": 105, \"date\": \"2020-07-17T00:00:00\", \"hospitalized\": 13608.0, \"icu\": 4401.0, \"ventilated\": 4401.0}, {\"day\": 106, \"date\": \"2020-07-18T00:00:00\", \"hospitalized\": 12737.0, \"icu\": 4118.0, \"ventilated\": 4118.0}, {\"day\": 107, \"date\": \"2020-07-19T00:00:00\", \"hospitalized\": 11926.0, \"icu\": 3854.0, \"ventilated\": 3854.0}, {\"day\": 108, \"date\": \"2020-07-20T00:00:00\", \"hospitalized\": 11171.0, \"icu\": 3608.0, \"ventilated\": 3608.0}, {\"day\": 109, \"date\": \"2020-07-21T00:00:00\", \"hospitalized\": 10467.0, \"icu\": 3379.0, \"ventilated\": 3379.0}, {\"day\": 110, \"date\": \"2020-07-22T00:00:00\", \"hospitalized\": 9812.0, \"icu\": 3166.0, \"ventilated\": 3166.0}, {\"day\": 111, \"date\": \"2020-07-23T00:00:00\", \"hospitalized\": 9201.0, \"icu\": 2967.0, \"ventilated\": 2967.0}, {\"day\": 112, \"date\": \"2020-07-24T00:00:00\", \"hospitalized\": 8630.0, \"icu\": 2782.0, \"ventilated\": 2782.0}, {\"day\": 113, \"date\": \"2020-07-25T00:00:00\", \"hospitalized\": 8099.0, \"icu\": 2610.0, \"ventilated\": 2610.0}, {\"day\": 114, \"date\": \"2020-07-26T00:00:00\", \"hospitalized\": 7602.0, \"icu\": 2449.0, \"ventilated\": 2449.0}, {\"day\": 115, \"date\": \"2020-07-27T00:00:00\", \"hospitalized\": 7138.0, \"icu\": 2298.0, \"ventilated\": 2298.0}, {\"day\": 116, \"date\": \"2020-07-28T00:00:00\", \"hospitalized\": 6705.0, \"icu\": 2158.0, \"ventilated\": 2158.0}, {\"day\": 117, \"date\": \"2020-07-29T00:00:00\", \"hospitalized\": 6300.0, \"icu\": 2027.0, \"ventilated\": 2027.0}, {\"day\": 118, \"date\": \"2020-07-30T00:00:00\", \"hospitalized\": 5921.0, \"icu\": 1904.0, \"ventilated\": 1904.0}, {\"day\": 119, \"date\": \"2020-07-31T00:00:00\", \"hospitalized\": 5567.0, \"icu\": 1789.0, \"ventilated\": 1789.0}, {\"day\": 120, \"date\": \"2020-08-01T00:00:00\", \"hospitalized\": 5236.0, \"icu\": 1682.0, \"ventilated\": 1682.0}, {\"day\": 121, \"date\": \"2020-08-02T00:00:00\", \"hospitalized\": 4925.0, \"icu\": 1582.0, \"ventilated\": 1582.0}, {\"day\": 122, \"date\": \"2020-08-03T00:00:00\", \"hospitalized\": 4634.0, \"icu\": 1488.0, \"ventilated\": 1488.0}, {\"day\": 123, \"date\": \"2020-08-04T00:00:00\", \"hospitalized\": 4362.0, \"icu\": 1400.0, \"ventilated\": 1400.0}, {\"day\": 124, \"date\": \"2020-08-05T00:00:00\", \"hospitalized\": 4106.0, \"icu\": 1318.0, \"ventilated\": 1318.0}, {\"day\": 125, \"date\": \"2020-08-06T00:00:00\", \"hospitalized\": 3867.0, \"icu\": 1240.0, \"ventilated\": 1240.0}, {\"day\": 126, \"date\": \"2020-08-07T00:00:00\", \"hospitalized\": 3642.0, \"icu\": 1168.0, \"ventilated\": 1168.0}, {\"day\": 127, \"date\": \"2020-08-08T00:00:00\", \"hospitalized\": 3431.0, \"icu\": 1100.0, \"ventilated\": 1100.0}, {\"day\": 128, \"date\": \"2020-08-09T00:00:00\", \"hospitalized\": 3233.0, \"icu\": 1036.0, \"ventilated\": 1036.0}, {\"day\": 129, \"date\": \"2020-08-10T00:00:00\", \"hospitalized\": 3047.0, \"icu\": 976.0, \"ventilated\": 976.0}, {\"day\": 130, \"date\": \"2020-08-11T00:00:00\", \"hospitalized\": 2872.0, \"icu\": 920.0, \"ventilated\": 920.0}, {\"day\": 131, \"date\": \"2020-08-12T00:00:00\", \"hospitalized\": 2708.0, \"icu\": 867.0, \"ventilated\": 867.0}, {\"day\": 132, \"date\": \"2020-08-13T00:00:00\", \"hospitalized\": 2553.0, \"icu\": 817.0, \"ventilated\": 817.0}, {\"day\": 133, \"date\": \"2020-08-14T00:00:00\", \"hospitalized\": 2408.0, \"icu\": 771.0, \"ventilated\": 771.0}, {\"day\": 134, \"date\": \"2020-08-15T00:00:00\", \"hospitalized\": 2271.0, \"icu\": 727.0, \"ventilated\": 727.0}, {\"day\": 135, \"date\": \"2020-08-16T00:00:00\", \"hospitalized\": 2143.0, \"icu\": 685.0, \"ventilated\": 685.0}, {\"day\": 136, \"date\": \"2020-08-17T00:00:00\", \"hospitalized\": 2022.0, \"icu\": 647.0, \"ventilated\": 647.0}, {\"day\": 137, \"date\": \"2020-08-18T00:00:00\", \"hospitalized\": 1908.0, \"icu\": 610.0, \"ventilated\": 610.0}, {\"day\": 138, \"date\": \"2020-08-19T00:00:00\", \"hospitalized\": 1801.0, \"icu\": 576.0, \"ventilated\": 576.0}, {\"day\": 139, \"date\": \"2020-08-20T00:00:00\", \"hospitalized\": 1700.0, \"icu\": 543.0, \"ventilated\": 543.0}, {\"day\": 140, \"date\": \"2020-08-21T00:00:00\", \"hospitalized\": 1604.0, \"icu\": 513.0, \"ventilated\": 513.0}, {\"day\": 141, \"date\": \"2020-08-22T00:00:00\", \"hospitalized\": 1515.0, \"icu\": 484.0, \"ventilated\": 484.0}, {\"day\": 142, \"date\": \"2020-08-23T00:00:00\", \"hospitalized\": 1430.0, \"icu\": 457.0, \"ventilated\": 457.0}, {\"day\": 143, \"date\": \"2020-08-24T00:00:00\", \"hospitalized\": 1351.0, \"icu\": 431.0, \"ventilated\": 431.0}, {\"day\": 144, \"date\": \"2020-08-25T00:00:00\", \"hospitalized\": 1275.0, \"icu\": 407.0, \"ventilated\": 407.0}, {\"day\": 145, \"date\": \"2020-08-26T00:00:00\", \"hospitalized\": 1205.0, \"icu\": 385.0, \"ventilated\": 385.0}, {\"day\": 146, \"date\": \"2020-08-27T00:00:00\", \"hospitalized\": 1138.0, \"icu\": 363.0, \"ventilated\": 363.0}, {\"day\": 147, \"date\": \"2020-08-28T00:00:00\", \"hospitalized\": 1075.0, \"icu\": 343.0, \"ventilated\": 343.0}, {\"day\": 148, \"date\": \"2020-08-29T00:00:00\", \"hospitalized\": 1015.0, \"icu\": 324.0, \"ventilated\": 324.0}, {\"day\": 149, \"date\": \"2020-08-30T00:00:00\", \"hospitalized\": 959.0, \"icu\": 306.0, \"ventilated\": 306.0}, {\"day\": 150, \"date\": \"2020-08-31T00:00:00\", \"hospitalized\": 906.0, \"icu\": 289.0, \"ventilated\": 289.0}, {\"day\": 151, \"date\": \"2020-09-01T00:00:00\", \"hospitalized\": 857.0, \"icu\": 273.0, \"ventilated\": 273.0}, {\"day\": 152, \"date\": \"2020-09-02T00:00:00\", \"hospitalized\": 809.0, \"icu\": 258.0, \"ventilated\": 258.0}, {\"day\": 153, \"date\": \"2020-09-03T00:00:00\", \"hospitalized\": 765.0, \"icu\": 244.0, \"ventilated\": 244.0}, {\"day\": 154, \"date\": \"2020-09-04T00:00:00\", \"hospitalized\": 723.0, \"icu\": 230.0, \"ventilated\": 230.0}, {\"day\": 155, \"date\": \"2020-09-05T00:00:00\", \"hospitalized\": 683.0, \"icu\": 218.0, \"ventilated\": 218.0}, {\"day\": 156, \"date\": \"2020-09-06T00:00:00\", \"hospitalized\": 646.0, \"icu\": 206.0, \"ventilated\": 206.0}, {\"day\": 157, \"date\": \"2020-09-07T00:00:00\", \"hospitalized\": 610.0, \"icu\": 195.0, \"ventilated\": 195.0}, {\"day\": 158, \"date\": \"2020-09-08T00:00:00\", \"hospitalized\": 577.0, \"icu\": 184.0, \"ventilated\": 184.0}, {\"day\": 159, \"date\": \"2020-09-09T00:00:00\", \"hospitalized\": 545.0, \"icu\": 174.0, \"ventilated\": 174.0}, {\"day\": 160, \"date\": \"2020-09-10T00:00:00\", \"hospitalized\": 516.0, \"icu\": 164.0, \"ventilated\": 164.0}, {\"day\": 161, \"date\": \"2020-09-11T00:00:00\", \"hospitalized\": 487.0, \"icu\": 155.0, \"ventilated\": 155.0}, {\"day\": 162, \"date\": \"2020-09-12T00:00:00\", \"hospitalized\": 461.0, \"icu\": 147.0, \"ventilated\": 147.0}, {\"day\": 163, \"date\": \"2020-09-13T00:00:00\", \"hospitalized\": 436.0, \"icu\": 139.0, \"ventilated\": 139.0}, {\"day\": 164, \"date\": \"2020-09-14T00:00:00\", \"hospitalized\": 412.0, \"icu\": 131.0, \"ventilated\": 131.0}, {\"day\": 165, \"date\": \"2020-09-15T00:00:00\", \"hospitalized\": 389.0, \"icu\": 124.0, \"ventilated\": 124.0}, {\"day\": 166, \"date\": \"2020-09-16T00:00:00\", \"hospitalized\": 368.0, \"icu\": 117.0, \"ventilated\": 117.0}, {\"day\": 167, \"date\": \"2020-09-17T00:00:00\", \"hospitalized\": 348.0, \"icu\": 111.0, \"ventilated\": 111.0}, {\"day\": 168, \"date\": \"2020-09-18T00:00:00\", \"hospitalized\": 329.0, \"icu\": 105.0, \"ventilated\": 105.0}, {\"day\": 169, \"date\": \"2020-09-19T00:00:00\", \"hospitalized\": 311.0, \"icu\": 99.0, \"ventilated\": 99.0}, {\"day\": 170, \"date\": \"2020-09-20T00:00:00\", \"hospitalized\": 294.0, \"icu\": 94.0, \"ventilated\": 94.0}, {\"day\": 171, \"date\": \"2020-09-21T00:00:00\", \"hospitalized\": 278.0, \"icu\": 88.0, \"ventilated\": 88.0}, {\"day\": 172, \"date\": \"2020-09-22T00:00:00\", \"hospitalized\": 263.0, \"icu\": 84.0, \"ventilated\": 84.0}, {\"day\": 173, \"date\": \"2020-09-23T00:00:00\", \"hospitalized\": 249.0, \"icu\": 79.0, \"ventilated\": 79.0}, {\"day\": 174, \"date\": \"2020-09-24T00:00:00\", \"hospitalized\": 235.0, \"icu\": 75.0, \"ventilated\": 75.0}, {\"day\": 175, \"date\": \"2020-09-25T00:00:00\", \"hospitalized\": 223.0, \"icu\": 71.0, \"ventilated\": 71.0}, {\"day\": 176, \"date\": \"2020-09-26T00:00:00\", \"hospitalized\": 210.0, \"icu\": 67.0, \"ventilated\": 67.0}, {\"day\": 177, \"date\": \"2020-09-27T00:00:00\", \"hospitalized\": 199.0, \"icu\": 63.0, \"ventilated\": 63.0}, {\"day\": 178, \"date\": \"2020-09-28T00:00:00\", \"hospitalized\": 188.0, \"icu\": 60.0, \"ventilated\": 60.0}, {\"day\": 179, \"date\": \"2020-09-29T00:00:00\", \"hospitalized\": 178.0, \"icu\": 56.0, \"ventilated\": 56.0}, {\"day\": 180, \"date\": \"2020-09-30T00:00:00\", \"hospitalized\": 168.0, \"icu\": 53.0, \"ventilated\": 53.0}, {\"day\": 181, \"date\": \"2020-10-01T00:00:00\", \"hospitalized\": 159.0, \"icu\": 50.0, \"ventilated\": 50.0}, {\"day\": 182, \"date\": \"2020-10-02T00:00:00\", \"hospitalized\": 150.0, \"icu\": 48.0, \"ventilated\": 48.0}, {\"day\": 183, \"date\": \"2020-10-03T00:00:00\", \"hospitalized\": 142.0, \"icu\": 45.0, \"ventilated\": 45.0}, {\"day\": 184, \"date\": \"2020-10-04T00:00:00\", \"hospitalized\": 135.0, \"icu\": 43.0, \"ventilated\": 43.0}, {\"day\": 185, \"date\": \"2020-10-05T00:00:00\", \"hospitalized\": 127.0, \"icu\": 40.0, \"ventilated\": 40.0}, {\"day\": 186, \"date\": \"2020-10-06T00:00:00\", \"hospitalized\": 120.0, \"icu\": 38.0, \"ventilated\": 38.0}, {\"day\": 187, \"date\": \"2020-10-07T00:00:00\", \"hospitalized\": 114.0, \"icu\": 36.0, \"ventilated\": 36.0}, {\"day\": 188, \"date\": \"2020-10-08T00:00:00\", \"hospitalized\": 108.0, \"icu\": 34.0, \"ventilated\": 34.0}, {\"day\": 189, \"date\": \"2020-10-09T00:00:00\", \"hospitalized\": 102.0, \"icu\": 32.0, \"ventilated\": 32.0}, {\"day\": 190, \"date\": \"2020-10-10T00:00:00\", \"hospitalized\": 96.0, \"icu\": 30.0, \"ventilated\": 30.0}, {\"day\": 191, \"date\": \"2020-10-11T00:00:00\", \"hospitalized\": 91.0, \"icu\": 29.0, \"ventilated\": 29.0}, {\"day\": 192, \"date\": \"2020-10-12T00:00:00\", \"hospitalized\": 86.0, \"icu\": 27.0, \"ventilated\": 27.0}, {\"day\": 193, \"date\": \"2020-10-13T00:00:00\", \"hospitalized\": 81.0, \"icu\": 26.0, \"ventilated\": 26.0}, {\"day\": 194, \"date\": \"2020-10-14T00:00:00\", \"hospitalized\": 77.0, \"icu\": 24.0, \"ventilated\": 24.0}, {\"day\": 195, \"date\": \"2020-10-15T00:00:00\", \"hospitalized\": 73.0, \"icu\": 23.0, \"ventilated\": 23.0}, {\"day\": 196, \"date\": \"2020-10-16T00:00:00\", \"hospitalized\": 69.0, \"icu\": 22.0, \"ventilated\": 22.0}, {\"day\": 197, \"date\": \"2020-10-17T00:00:00\", \"hospitalized\": 65.0, \"icu\": 20.0, \"ventilated\": 20.0}, {\"day\": 198, \"date\": \"2020-10-18T00:00:00\", \"hospitalized\": 62.0, \"icu\": 19.0, \"ventilated\": 19.0}, {\"day\": 199, \"date\": \"2020-10-19T00:00:00\", \"hospitalized\": 58.0, \"icu\": 18.0, \"ventilated\": 18.0}, {\"day\": 200, \"date\": \"2020-10-20T00:00:00\", \"hospitalized\": 55.0, \"icu\": 17.0, \"ventilated\": 17.0}]}}, {\"mode\": \"vega-lite\"});\n",
       "</script>"
      ],
      "text/plain": [
       "alt.LayerChart(...)"
      ]
     },
     "execution_count": 135,
     "metadata": {},
     "output_type": "execute_result"
    }
   ],
   "source": [
    "# Graphique cumulatif\n",
    "\n",
    "census_chart = build_census_chart(alt=alt, census_floor_df=m.census_floor_df, max_y_axis=p.max_y_axis)\n",
    "census_chart"
   ]
  }
 ],
 "metadata": {
  "kernelspec": {
   "display_name": "Python 3",
   "language": "python",
   "name": "python3"
  },
  "language_info": {
   "codemirror_mode": {
    "name": "ipython",
    "version": 3
   },
   "file_extension": ".py",
   "mimetype": "text/x-python",
   "name": "python",
   "nbconvert_exporter": "python",
   "pygments_lexer": "ipython3",
   "version": "3.7.4"
  }
 },
 "nbformat": 4,
 "nbformat_minor": 4
}
